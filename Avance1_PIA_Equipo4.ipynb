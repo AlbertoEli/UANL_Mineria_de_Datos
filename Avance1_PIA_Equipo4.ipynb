{
  "nbformat": 4,
  "nbformat_minor": 0,
  "metadata": {
    "colab": {
      "name": "Avance1_PIA_Equipo4.ipynb",
      "provenance": [],
      "collapsed_sections": [],
      "toc_visible": true
    },
    "kernelspec": {
      "name": "python3",
      "display_name": "Python 3"
    },
    "language_info": {
      "name": "python"
    }
  },
  "cells": [
    {
      "cell_type": "markdown",
      "metadata": {
        "id": "dsOdL2PNV2yp"
      },
      "source": [
        "# Primer avance de PIA"
      ]
    },
    {
      "cell_type": "markdown",
      "metadata": {
        "id": "cuvtnu1dWBC6"
      },
      "source": [
        "Equipo: 4\n",
        "\n",
        "Grupo: 001, lunes\n",
        "\n",
        "Integrantes\n",
        "*   1877283, Cavazos Huerta, Sandra María.\t\t\t\t  \n",
        "*   1869764, Elizondo Villarreal, Alberto.\t\t\t\t\t\t\n",
        "*   1867031, Sánchez Tovar, Arturo Isaac.\t\t\t\t\n",
        "*   1862646, Sepulveda Bermudez, Marlene Michel. \t\t\n",
        "*   1877498, Villarreal Garza, Diana. \t\t\t\t   \t\n",
        "\n",
        "\n",
        "\n",
        "\n",
        "\n"
      ]
    },
    {
      "cell_type": "markdown",
      "metadata": {
        "id": "_oFz_sC7XR0_"
      },
      "source": [
        "## Base de datos 1"
      ]
    },
    {
      "cell_type": "markdown",
      "metadata": {
        "id": "KPmXNwmIXXLK"
      },
      "source": [
        "### **1. Título de la base de datos**\n",
        "\n",
        "  a) Nombre: Water Quality\n",
        "\n",
        "  b) URL: https://www.kaggle.com/adityakadiwal/water-potability\n"
      ]
    },
    {
      "cell_type": "markdown",
      "metadata": {
        "id": "OJUCrh8msevr"
      },
      "source": [
        "###**2. Introducción general**\n",
        "\n",
        "> La buena calidad del agua y el acceso a fuentes potables de agua es un tema vital que concierne mundialmente. En años recientes debido al aumento en la población humana, de actividades industriales y agrícolas, el deterioro de la calidad de las fuentes de agua, así como el número de ellas ha disminuido, en consecuencia, el agua disponible para el consumo humano (potable) se reduce. \n",
        "\n",
        "> Actualmente el acceso a servicios de agua potable se ha convertido en un problema a nivel mundial. Según cifras de la ONU, se menciona que “3 de cada 10 personas carecen de acceso a servicios de agua potable seguros” afectando gravemente a la salud y el bienestar de la población sin acceso a ella. Según estudios realizados, alrededor de 1000 niños mueren diariamente debido a enfermedades diarreicas asociadas a la falta de higiene, las cuales podrían ser disminuidas con acciones de detección oportuna y sanidad. \n",
        "\n",
        ">Se pueden realizar diversos estudios para determinar la calidad del agua, no obstante, los tiempos de espera pueden ser largos, así como los niveles de error, derivados por manejos inadecuados, son altos. Por lo anterior, el tener una herramienta que determine, mediante características clave, de manera más eficaz si una fuente es apta para el consumo humano evitaría futuras intoxicaciones por el uso de estas fuentes de agua. \n"
      ]
    },
    {
      "cell_type": "markdown",
      "metadata": {
        "id": "eaW6N4Bp3fqd"
      },
      "source": [
        "###**3. Descripción de los datos**"
      ]
    },
    {
      "cell_type": "markdown",
      "metadata": {
        "id": "5pYYJQG_3y1u"
      },
      "source": [
        "a) ¿Qué tipo de datos son?"
      ]
    },
    {
      "cell_type": "markdown",
      "metadata": {
        "id": "8nkueDyD39OW"
      },
      "source": [
        "\n",
        "\n",
        "> Los datos a trabajar son tablas que contienen las características que se tienen que tomar en cuenta para categorizar el agua como potable o no potable.\n",
        "\n",
        "\n"
      ]
    },
    {
      "cell_type": "markdown",
      "metadata": {
        "id": "5UqVG59M5K6-"
      },
      "source": [
        "b) Descripción de las columnas."
      ]
    },
    {
      "cell_type": "markdown",
      "metadata": {
        "id": "UOxyQzx56hQo"
      },
      "source": [
        "\n",
        "\n",
        "> Las columnas contienen métricas de la calidad del agua para 3276 cuerpos de agua distintos.\n",
        "\n",
        ">Descripción de columnas:\n",
        "\n",
        "* ph\n",
        ">ph del agua.\n",
        "\n",
        "* Dureza\n",
        "> Capacidad del agua para precipitar jabón en mg/L.\n",
        "\n",
        "* Sólidos\t\n",
        ">Sólidos totales disueltos en ppm (Partes por millón).\n",
        "\n",
        "* Cloraminas\n",
        ">Cantidad de Cloraminas en ppm.\n",
        "\n",
        "* Sulfato\n",
        ">Cantidad de sulfatos disueltos en mg/L.\n",
        "\n",
        "*\tConductividad\n",
        ">Conductividad eléctrica del agua en μS/cm (microSiemens por centímetro). \n",
        "\n",
        "*\tCarbón_orgánico\n",
        ">Cantidad de carbono orgánico en ppm.\n",
        "\n",
        "*\tTrihalometanos\n",
        ">Cantidad de trihalometanos en μg/L (Microgramo por Litro).\n",
        "\n",
        "*\tTurbiedad\n",
        ">Medida de la propiedad de emisión de luz del agua en NTU (Unidades de turbidez nefelométrica).\n",
        "\n",
        "*\tPotabilidad\n",
        ">Indica si el agua es segura para el consumo humano.\n"
      ]
    },
    {
      "cell_type": "markdown",
      "metadata": {
        "id": "MPt3XeJN7iTu"
      },
      "source": [
        "###**4. Justificación del uso de datos**"
      ]
    },
    {
      "cell_type": "markdown",
      "metadata": {
        "id": "dpEVb_Ca7475"
      },
      "source": [
        "a) Características Destacables\n",
        "\n",
        ">Existen diversas razones por las que decidimos hacer uso de la base de datos presentada. Una de ellas, es que cuenta con las características para que una muestra de agua sea considerada potable  (PH, Dureza, Turbiedad, etc.). De la misma manera, se presentan los parámetros que deben cumplirse en una muestra en relación a estas propiedades.  \n",
        "\n",
        ">Con lo anterior, es útil conocer las características que conllevan un rol en la clasificación del agua, para así enfocarse principalmente en ellas. Igualmente se proporcionan los límites a seguir, lo que nos brinda un punto de partida, generando posibles reducciones de tiempo en procesos de detección. \n",
        "\n",
        "b) Beneficios\n",
        "\n",
        ">Actualmente existen diversos estudios para determinar la calidad del agua. Esto se lleva a cabo comparando las características físicas y químicas de una muestra con estándares establecidos, destacando que éstos se basan normalmente en niveles de toxicidad aceptables tanto para los humanos como para los organismos acuáticos. Sin embargo, el proceso conlleva un tiempo de espera de días que puede extenderse, al igual las condiciones de muestreo, así como del manejo inadecuado de muestras ocasionan que los niveles de error, los costos y el material usado para el estudio se incrementen.  \n",
        "\n",
        ">Por ello, conocer las características clave para clasificar si una muestra de agua es apta para el consumo humano sirve para realizar el proceso más eficazmente. En adición, se puede detectar aquel porcentaje de cuerpos de agua que se presentan en los límites para ser considerados potables. Con lo anterior, se podrían disminuir los tiempos de detección de las fuentes no aptas para el consumo humano con errores aceptables, igualmente de la advertencia de fuentes próximas a ser insalubres. Por ende, con una detección oportuna, certera y rápida, el tratamiento y detección del agua puede llevarse a cabo, disminuyendo problemas de salud derivados del consumo de dichas fuentes.\n"
      ]
    },
    {
      "cell_type": "markdown",
      "metadata": {
        "id": "hEudZ5Vkzd5L"
      },
      "source": [
        "###**5. Objetivos**"
      ]
    },
    {
      "cell_type": "markdown",
      "metadata": {
        "id": "ek2i4RZ6zrjc"
      },
      "source": [
        "\n",
        "\n",
        "Objetivo principal\n",
        "*   Determinar si un cuerpo de agua es potable tomando en cuenta los datos recabados.\n",
        "\n",
        "Objetivo secundario\n",
        "*   Identificar los cuerpos de agua con clasificación frágil o fuerte.\n",
        "\n",
        "\n"
      ]
    },
    {
      "cell_type": "markdown",
      "metadata": {
        "id": "ZEzkeDMuNsHm"
      },
      "source": [
        "###**6. Preguntas de interés**"
      ]
    },
    {
      "cell_type": "markdown",
      "metadata": {
        "id": "Y6xLWck8N8x8"
      },
      "source": [
        "* ¿Qué define la calidad del agua?\n",
        "* ¿Cuáles son los límites para decir que un cuerpo de agua ya no es potable?\n",
        "* ¿Cuáles son los objetivos razonables para decir que un cuerpo de agua está a punto de ser potable?\n",
        "* ¿Cuántas clases de contaminación del agua existen?\n",
        "* ¿Podemos identificar los cuerpos de agua según sus características? (si provienen de un lago, rio, pantano, presa etc.)\n",
        "* ¿Dependiendo del lugar donde habitan los cuerpos de agua se podría decir que hay más posibilidades de que el agua sea potable?\n"
      ]
    },
    {
      "cell_type": "markdown",
      "metadata": {
        "id": "RxG0MCypDPE7"
      },
      "source": [
        "###**7. Programación** "
      ]
    },
    {
      "cell_type": "markdown",
      "metadata": {
        "id": "l4BdTgSpdQ9A"
      },
      "source": [
        "Importación de librerías y base de datos."
      ]
    },
    {
      "cell_type": "code",
      "metadata": {
        "id": "kv1xmEJkCyWb"
      },
      "source": [
        "import pandas as pd\n",
        "import numpy as np\n",
        "import json\n",
        "\n",
        "df = pd.read_csv(\"water_potability.csv\")"
      ],
      "execution_count": null,
      "outputs": []
    },
    {
      "cell_type": "markdown",
      "metadata": {
        "id": "IV5PXf7xdX9l"
      },
      "source": [
        "Visualización de los datos."
      ]
    },
    {
      "cell_type": "code",
      "metadata": {
        "colab": {
          "base_uri": "https://localhost:8080/"
        },
        "id": "-MLKw9vfDiFF",
        "outputId": "40ea41a2-5388-44a8-e2b7-20256e1806f9"
      },
      "source": [
        "print(\"Número de Filas y Columnas: \",df.shape) #Número de Filas y Columnas\n",
        "print(\"Nombres de Columnas: \",df.columns) #Nombre de las Columnas"
      ],
      "execution_count": null,
      "outputs": [
        {
          "output_type": "stream",
          "text": [
            "Número de Filas y Columnas:  (3276, 10)\n",
            "Nombres de Columnas:  Index(['ph', 'Hardness', 'Solids', 'Chloramines', 'Sulfate', 'Conductivity',\n",
            "       'Organic_carbon', 'Trihalomethanes', 'Turbidity', 'Potability'],\n",
            "      dtype='object')\n"
          ],
          "name": "stdout"
        }
      ]
    },
    {
      "cell_type": "markdown",
      "metadata": {
        "id": "RI9Nsy2YdsQY"
      },
      "source": [
        "Cambiamos el nombre de las columnas."
      ]
    },
    {
      "cell_type": "code",
      "metadata": {
        "colab": {
          "base_uri": "https://localhost:8080/",
          "height": 261
        },
        "id": "92A7lgG2dvHd",
        "outputId": "84139c7b-6632-4283-85bf-2f9dbf2e52a7"
      },
      "source": [
        "df.insert(0,'id',df.index + 1,False) #insertamos columna de id para trabajar los datos más adelante\n",
        "df = df.rename(columns = {\n",
        "    'Hardness' : 'Dureza',\n",
        "    'Solids' : 'Sólidos',\n",
        "    'Chloramines' : 'Cloraminas',\n",
        "    'Sulfate' : 'Sulfato',\n",
        "    'Conductivity' : 'Conductividad',\n",
        "    'Organic_carbon' : 'Carbón_orgánico',\n",
        "    'Trihalomethanes' : 'Trihalometanos',\n",
        "    'Turbidity':'Turbiedad',\n",
        "    'Potability':'Potabilidad'\n",
        "    \n",
        "})\n",
        "print(\" \")\n",
        "print(\"Primeros 5 datos de la Base de Datos: \")\n",
        "df.head()"
      ],
      "execution_count": null,
      "outputs": [
        {
          "output_type": "stream",
          "text": [
            " \n",
            "Primeros 5 datos de la Base de Datos: \n"
          ],
          "name": "stdout"
        },
        {
          "output_type": "execute_result",
          "data": {
            "text/html": [
              "<div>\n",
              "<style scoped>\n",
              "    .dataframe tbody tr th:only-of-type {\n",
              "        vertical-align: middle;\n",
              "    }\n",
              "\n",
              "    .dataframe tbody tr th {\n",
              "        vertical-align: top;\n",
              "    }\n",
              "\n",
              "    .dataframe thead th {\n",
              "        text-align: right;\n",
              "    }\n",
              "</style>\n",
              "<table border=\"1\" class=\"dataframe\">\n",
              "  <thead>\n",
              "    <tr style=\"text-align: right;\">\n",
              "      <th></th>\n",
              "      <th>id</th>\n",
              "      <th>ph</th>\n",
              "      <th>Dureza</th>\n",
              "      <th>Sólidos</th>\n",
              "      <th>Cloraminas</th>\n",
              "      <th>Sulfato</th>\n",
              "      <th>Conductividad</th>\n",
              "      <th>Carbón_orgánico</th>\n",
              "      <th>Trihalometanos</th>\n",
              "      <th>Turbiedad</th>\n",
              "      <th>Potabilidad</th>\n",
              "    </tr>\n",
              "  </thead>\n",
              "  <tbody>\n",
              "    <tr>\n",
              "      <th>0</th>\n",
              "      <td>1</td>\n",
              "      <td>NaN</td>\n",
              "      <td>204.890455</td>\n",
              "      <td>20791.318981</td>\n",
              "      <td>7.300212</td>\n",
              "      <td>368.516441</td>\n",
              "      <td>564.308654</td>\n",
              "      <td>10.379783</td>\n",
              "      <td>86.990970</td>\n",
              "      <td>2.963135</td>\n",
              "      <td>0</td>\n",
              "    </tr>\n",
              "    <tr>\n",
              "      <th>1</th>\n",
              "      <td>2</td>\n",
              "      <td>3.716080</td>\n",
              "      <td>129.422921</td>\n",
              "      <td>18630.057858</td>\n",
              "      <td>6.635246</td>\n",
              "      <td>NaN</td>\n",
              "      <td>592.885359</td>\n",
              "      <td>15.180013</td>\n",
              "      <td>56.329076</td>\n",
              "      <td>4.500656</td>\n",
              "      <td>0</td>\n",
              "    </tr>\n",
              "    <tr>\n",
              "      <th>2</th>\n",
              "      <td>3</td>\n",
              "      <td>8.099124</td>\n",
              "      <td>224.236259</td>\n",
              "      <td>19909.541732</td>\n",
              "      <td>9.275884</td>\n",
              "      <td>NaN</td>\n",
              "      <td>418.606213</td>\n",
              "      <td>16.868637</td>\n",
              "      <td>66.420093</td>\n",
              "      <td>3.055934</td>\n",
              "      <td>0</td>\n",
              "    </tr>\n",
              "    <tr>\n",
              "      <th>3</th>\n",
              "      <td>4</td>\n",
              "      <td>8.316766</td>\n",
              "      <td>214.373394</td>\n",
              "      <td>22018.417441</td>\n",
              "      <td>8.059332</td>\n",
              "      <td>356.886136</td>\n",
              "      <td>363.266516</td>\n",
              "      <td>18.436524</td>\n",
              "      <td>100.341674</td>\n",
              "      <td>4.628771</td>\n",
              "      <td>0</td>\n",
              "    </tr>\n",
              "    <tr>\n",
              "      <th>4</th>\n",
              "      <td>5</td>\n",
              "      <td>9.092223</td>\n",
              "      <td>181.101509</td>\n",
              "      <td>17978.986339</td>\n",
              "      <td>6.546600</td>\n",
              "      <td>310.135738</td>\n",
              "      <td>398.410813</td>\n",
              "      <td>11.558279</td>\n",
              "      <td>31.997993</td>\n",
              "      <td>4.075075</td>\n",
              "      <td>0</td>\n",
              "    </tr>\n",
              "  </tbody>\n",
              "</table>\n",
              "</div>"
            ],
            "text/plain": [
              "   id        ph      Dureza  ...  Trihalometanos  Turbiedad  Potabilidad\n",
              "0   1       NaN  204.890455  ...       86.990970   2.963135            0\n",
              "1   2  3.716080  129.422921  ...       56.329076   4.500656            0\n",
              "2   3  8.099124  224.236259  ...       66.420093   3.055934            0\n",
              "3   4  8.316766  214.373394  ...      100.341674   4.628771            0\n",
              "4   5  9.092223  181.101509  ...       31.997993   4.075075            0\n",
              "\n",
              "[5 rows x 11 columns]"
            ]
          },
          "metadata": {},
          "execution_count": 3
        }
      ]
    },
    {
      "cell_type": "markdown",
      "metadata": {
        "id": "fJG8Wp3Yd5wl"
      },
      "source": [
        "Descripción de los datos."
      ]
    },
    {
      "cell_type": "code",
      "metadata": {
        "colab": {
          "base_uri": "https://localhost:8080/"
        },
        "id": "5LjCDoBjd7VZ",
        "outputId": "4567fc39-1db0-4109-dfbd-d1f9cfd188b1"
      },
      "source": [
        "df.dtypes #Tipo de Dato de Cada Columna"
      ],
      "execution_count": null,
      "outputs": [
        {
          "output_type": "execute_result",
          "data": {
            "text/plain": [
              "id                   int64\n",
              "ph                 float64\n",
              "Dureza             float64\n",
              "Sólidos            float64\n",
              "Cloraminas         float64\n",
              "Sulfato            float64\n",
              "Conductividad      float64\n",
              "Carbón_orgánico    float64\n",
              "Trihalometanos     float64\n",
              "Turbiedad          float64\n",
              "Potabilidad          int64\n",
              "dtype: object"
            ]
          },
          "metadata": {},
          "execution_count": 4
        }
      ]
    },
    {
      "cell_type": "markdown",
      "metadata": {
        "id": "nU9ii55Ad9GR"
      },
      "source": [
        "Mediante las siguientes funciones revisamos si existen celdas vacías dentro de la Base de Datos."
      ]
    },
    {
      "cell_type": "code",
      "metadata": {
        "colab": {
          "base_uri": "https://localhost:8080/"
        },
        "id": "TM40gBzsd_Qc",
        "outputId": "0d64f180-bd76-4d7d-b564-b65ac4fb0a8c"
      },
      "source": [
        "df.isnull().any() #Para saber si existen valores nulos por columna"
      ],
      "execution_count": null,
      "outputs": [
        {
          "output_type": "execute_result",
          "data": {
            "text/plain": [
              "id                 False\n",
              "ph                  True\n",
              "Dureza             False\n",
              "Sólidos            False\n",
              "Cloraminas         False\n",
              "Sulfato             True\n",
              "Conductividad      False\n",
              "Carbón_orgánico    False\n",
              "Trihalometanos      True\n",
              "Turbiedad          False\n",
              "Potabilidad        False\n",
              "dtype: bool"
            ]
          },
          "metadata": {},
          "execution_count": 5
        }
      ]
    },
    {
      "cell_type": "code",
      "metadata": {
        "colab": {
          "base_uri": "https://localhost:8080/"
        },
        "id": "Ef8WI_lFeBpb",
        "outputId": "92d047de-1ab9-4bf6-edcf-ff606d230848"
      },
      "source": [
        "df.isnull().sum() #Para conocer cúantos valores nulos se tiene en cada columna"
      ],
      "execution_count": null,
      "outputs": [
        {
          "output_type": "execute_result",
          "data": {
            "text/plain": [
              "id                   0\n",
              "ph                 491\n",
              "Dureza               0\n",
              "Sólidos              0\n",
              "Cloraminas           0\n",
              "Sulfato            781\n",
              "Conductividad        0\n",
              "Carbón_orgánico      0\n",
              "Trihalometanos     162\n",
              "Turbiedad            0\n",
              "Potabilidad          0\n",
              "dtype: int64"
            ]
          },
          "metadata": {},
          "execution_count": 6
        }
      ]
    },
    {
      "cell_type": "markdown",
      "metadata": {
        "id": "19cF_BbteEW1"
      },
      "source": [
        "\n",
        "\n",
        "> Con los comandos anteriores, nos enteramos que 3 columnas tienen valores nulos. Como no deseamos trabajar con los cuerpos de agua sin todos sus registros completos, vamos a eliminar las filas donde se tiene al menos un dato vacío.\n",
        "\n"
      ]
    },
    {
      "cell_type": "code",
      "metadata": {
        "colab": {
          "base_uri": "https://localhost:8080/",
          "height": 243
        },
        "id": "q1DOyJiEeKuq",
        "outputId": "916b5a9c-c5bb-4bde-d897-a17df7063a71"
      },
      "source": [
        "df_drop = df.dropna() #eliminamos las filas donde se tiene al menos un valor nulo\n",
        "print(\"Número de Filas del nuevo data frame: \",df_drop.shape[0]) #Número de Filas en el nuevo data frame\n",
        "df_drop.head() #imprimimos los primeros 5 datos para visualizar el data frame sin datos nulos"
      ],
      "execution_count": null,
      "outputs": [
        {
          "output_type": "stream",
          "text": [
            "Número de Filas del nuevo data frame:  2011\n"
          ],
          "name": "stdout"
        },
        {
          "output_type": "execute_result",
          "data": {
            "text/html": [
              "<div>\n",
              "<style scoped>\n",
              "    .dataframe tbody tr th:only-of-type {\n",
              "        vertical-align: middle;\n",
              "    }\n",
              "\n",
              "    .dataframe tbody tr th {\n",
              "        vertical-align: top;\n",
              "    }\n",
              "\n",
              "    .dataframe thead th {\n",
              "        text-align: right;\n",
              "    }\n",
              "</style>\n",
              "<table border=\"1\" class=\"dataframe\">\n",
              "  <thead>\n",
              "    <tr style=\"text-align: right;\">\n",
              "      <th></th>\n",
              "      <th>id</th>\n",
              "      <th>ph</th>\n",
              "      <th>Dureza</th>\n",
              "      <th>Sólidos</th>\n",
              "      <th>Cloraminas</th>\n",
              "      <th>Sulfato</th>\n",
              "      <th>Conductividad</th>\n",
              "      <th>Carbón_orgánico</th>\n",
              "      <th>Trihalometanos</th>\n",
              "      <th>Turbiedad</th>\n",
              "      <th>Potabilidad</th>\n",
              "    </tr>\n",
              "  </thead>\n",
              "  <tbody>\n",
              "    <tr>\n",
              "      <th>3</th>\n",
              "      <td>4</td>\n",
              "      <td>8.316766</td>\n",
              "      <td>214.373394</td>\n",
              "      <td>22018.417441</td>\n",
              "      <td>8.059332</td>\n",
              "      <td>356.886136</td>\n",
              "      <td>363.266516</td>\n",
              "      <td>18.436524</td>\n",
              "      <td>100.341674</td>\n",
              "      <td>4.628771</td>\n",
              "      <td>0</td>\n",
              "    </tr>\n",
              "    <tr>\n",
              "      <th>4</th>\n",
              "      <td>5</td>\n",
              "      <td>9.092223</td>\n",
              "      <td>181.101509</td>\n",
              "      <td>17978.986339</td>\n",
              "      <td>6.546600</td>\n",
              "      <td>310.135738</td>\n",
              "      <td>398.410813</td>\n",
              "      <td>11.558279</td>\n",
              "      <td>31.997993</td>\n",
              "      <td>4.075075</td>\n",
              "      <td>0</td>\n",
              "    </tr>\n",
              "    <tr>\n",
              "      <th>5</th>\n",
              "      <td>6</td>\n",
              "      <td>5.584087</td>\n",
              "      <td>188.313324</td>\n",
              "      <td>28748.687739</td>\n",
              "      <td>7.544869</td>\n",
              "      <td>326.678363</td>\n",
              "      <td>280.467916</td>\n",
              "      <td>8.399735</td>\n",
              "      <td>54.917862</td>\n",
              "      <td>2.559708</td>\n",
              "      <td>0</td>\n",
              "    </tr>\n",
              "    <tr>\n",
              "      <th>6</th>\n",
              "      <td>7</td>\n",
              "      <td>10.223862</td>\n",
              "      <td>248.071735</td>\n",
              "      <td>28749.716544</td>\n",
              "      <td>7.513408</td>\n",
              "      <td>393.663396</td>\n",
              "      <td>283.651634</td>\n",
              "      <td>13.789695</td>\n",
              "      <td>84.603556</td>\n",
              "      <td>2.672989</td>\n",
              "      <td>0</td>\n",
              "    </tr>\n",
              "    <tr>\n",
              "      <th>7</th>\n",
              "      <td>8</td>\n",
              "      <td>8.635849</td>\n",
              "      <td>203.361523</td>\n",
              "      <td>13672.091764</td>\n",
              "      <td>4.563009</td>\n",
              "      <td>303.309771</td>\n",
              "      <td>474.607645</td>\n",
              "      <td>12.363817</td>\n",
              "      <td>62.798309</td>\n",
              "      <td>4.401425</td>\n",
              "      <td>0</td>\n",
              "    </tr>\n",
              "  </tbody>\n",
              "</table>\n",
              "</div>"
            ],
            "text/plain": [
              "   id         ph      Dureza  ...  Trihalometanos  Turbiedad  Potabilidad\n",
              "3   4   8.316766  214.373394  ...      100.341674   4.628771            0\n",
              "4   5   9.092223  181.101509  ...       31.997993   4.075075            0\n",
              "5   6   5.584087  188.313324  ...       54.917862   2.559708            0\n",
              "6   7  10.223862  248.071735  ...       84.603556   2.672989            0\n",
              "7   8   8.635849  203.361523  ...       62.798309   4.401425            0\n",
              "\n",
              "[5 rows x 11 columns]"
            ]
          },
          "metadata": {},
          "execution_count": 7
        }
      ]
    },
    {
      "cell_type": "code",
      "metadata": {
        "colab": {
          "base_uri": "https://localhost:8080/"
        },
        "id": "XPFxGq0AeNbA",
        "outputId": "db05e280-c08a-4214-bcec-87fe86eb6acc"
      },
      "source": [
        "df_drop.isnull().sum() #revisamos que ya no hayan datos nulos"
      ],
      "execution_count": null,
      "outputs": [
        {
          "output_type": "execute_result",
          "data": {
            "text/plain": [
              "id                 0\n",
              "ph                 0\n",
              "Dureza             0\n",
              "Sólidos            0\n",
              "Cloraminas         0\n",
              "Sulfato            0\n",
              "Conductividad      0\n",
              "Carbón_orgánico    0\n",
              "Trihalometanos     0\n",
              "Turbiedad          0\n",
              "Potabilidad        0\n",
              "dtype: int64"
            ]
          },
          "metadata": {},
          "execution_count": 8
        }
      ]
    },
    {
      "cell_type": "markdown",
      "metadata": {
        "id": "zwH_eubjeQS7"
      },
      "source": [
        "Clasificación y agrupación de datos."
      ]
    },
    {
      "cell_type": "markdown",
      "metadata": {
        "id": "qX4TvBLieTA2"
      },
      "source": [
        "\n",
        "\n",
        "> Es de nuestro interés clasificar los cuerpos de agua como potables o no potables. \n",
        "\n",
        "> Por la naturaleza de la columna 'Potabilidad', sabemos que sólo se tienen valores '0' y '1', sin embargo, lo comprobaremos obteniendo los valores únicos."
      ]
    },
    {
      "cell_type": "code",
      "metadata": {
        "colab": {
          "base_uri": "https://localhost:8080/"
        },
        "id": "uoDOC-uleZHS",
        "outputId": "c0b2ff71-b442-4b32-f4b3-affb560c4ca6"
      },
      "source": [
        "df_drop.Potabilidad.unique()"
      ],
      "execution_count": null,
      "outputs": [
        {
          "output_type": "execute_result",
          "data": {
            "text/plain": [
              "array([0, 1])"
            ]
          },
          "metadata": {},
          "execution_count": 9
        }
      ]
    },
    {
      "cell_type": "markdown",
      "metadata": {
        "id": "chIkCYlCeb5R"
      },
      "source": [
        "\n",
        "\n",
        "> Ahora, hacemos las clasificaciones y agrupaciones.\n",
        "\n"
      ]
    },
    {
      "cell_type": "code",
      "metadata": {
        "id": "sFDcEr3Sehlj"
      },
      "source": [
        "c1 = df_drop[df_drop['Potabilidad']==1] #Clase de Potable (1)\n",
        "c1.to_csv('CuerposDeAguaPotables.csv', index=False) #Agrupación de la Clase de Potable\n",
        "\n",
        "c2 = df_drop[df_drop['Potabilidad']==0] #Clase de No Potable (0)\n",
        "c2.to_csv('CuerposDeAguaNoPotables.csv', index=False) #Agrupación de la Clase de No Potable"
      ],
      "execution_count": null,
      "outputs": []
    },
    {
      "cell_type": "markdown",
      "metadata": {
        "id": "wUbdwjHVekIl"
      },
      "source": [
        "\n",
        "\n",
        "> Leemos los primeros 5 elementos de las agrupaciones para verificar si se hicieron correctamente."
      ]
    },
    {
      "cell_type": "code",
      "metadata": {
        "colab": {
          "base_uri": "https://localhost:8080/",
          "height": 226
        },
        "id": "GtFeinSJep-v",
        "outputId": "308df87e-ce9d-4a44-e378-461ff8cca783"
      },
      "source": [
        "#Verificación clase 1: Cuerpos de Agua Potable\n",
        "C1 = pd.read_csv(\"CuerposDeAguaPotables.csv\")\n",
        "C1.head()"
      ],
      "execution_count": null,
      "outputs": [
        {
          "output_type": "execute_result",
          "data": {
            "text/html": [
              "<div>\n",
              "<style scoped>\n",
              "    .dataframe tbody tr th:only-of-type {\n",
              "        vertical-align: middle;\n",
              "    }\n",
              "\n",
              "    .dataframe tbody tr th {\n",
              "        vertical-align: top;\n",
              "    }\n",
              "\n",
              "    .dataframe thead th {\n",
              "        text-align: right;\n",
              "    }\n",
              "</style>\n",
              "<table border=\"1\" class=\"dataframe\">\n",
              "  <thead>\n",
              "    <tr style=\"text-align: right;\">\n",
              "      <th></th>\n",
              "      <th>id</th>\n",
              "      <th>ph</th>\n",
              "      <th>Dureza</th>\n",
              "      <th>Sólidos</th>\n",
              "      <th>Cloraminas</th>\n",
              "      <th>Sulfato</th>\n",
              "      <th>Conductividad</th>\n",
              "      <th>Carbón_orgánico</th>\n",
              "      <th>Trihalometanos</th>\n",
              "      <th>Turbiedad</th>\n",
              "      <th>Potabilidad</th>\n",
              "    </tr>\n",
              "  </thead>\n",
              "  <tbody>\n",
              "    <tr>\n",
              "      <th>0</th>\n",
              "      <td>251</td>\n",
              "      <td>9.445130</td>\n",
              "      <td>145.805402</td>\n",
              "      <td>13168.529156</td>\n",
              "      <td>9.444471</td>\n",
              "      <td>310.583374</td>\n",
              "      <td>592.659021</td>\n",
              "      <td>8.606397</td>\n",
              "      <td>77.577460</td>\n",
              "      <td>3.875165</td>\n",
              "      <td>1</td>\n",
              "    </tr>\n",
              "    <tr>\n",
              "      <th>1</th>\n",
              "      <td>252</td>\n",
              "      <td>9.024845</td>\n",
              "      <td>128.096691</td>\n",
              "      <td>19859.676476</td>\n",
              "      <td>8.016423</td>\n",
              "      <td>300.150377</td>\n",
              "      <td>451.143481</td>\n",
              "      <td>14.770863</td>\n",
              "      <td>73.778026</td>\n",
              "      <td>3.985251</td>\n",
              "      <td>1</td>\n",
              "    </tr>\n",
              "    <tr>\n",
              "      <th>2</th>\n",
              "      <td>254</td>\n",
              "      <td>6.800119</td>\n",
              "      <td>242.008082</td>\n",
              "      <td>39143.403329</td>\n",
              "      <td>9.501695</td>\n",
              "      <td>187.170714</td>\n",
              "      <td>376.456593</td>\n",
              "      <td>11.432466</td>\n",
              "      <td>73.777275</td>\n",
              "      <td>3.854940</td>\n",
              "      <td>1</td>\n",
              "    </tr>\n",
              "    <tr>\n",
              "      <th>3</th>\n",
              "      <td>255</td>\n",
              "      <td>7.174135</td>\n",
              "      <td>203.408935</td>\n",
              "      <td>20401.102461</td>\n",
              "      <td>7.681806</td>\n",
              "      <td>287.085679</td>\n",
              "      <td>315.549900</td>\n",
              "      <td>14.533510</td>\n",
              "      <td>74.405616</td>\n",
              "      <td>3.939896</td>\n",
              "      <td>1</td>\n",
              "    </tr>\n",
              "    <tr>\n",
              "      <th>4</th>\n",
              "      <td>256</td>\n",
              "      <td>7.657991</td>\n",
              "      <td>236.960889</td>\n",
              "      <td>14245.789121</td>\n",
              "      <td>6.289065</td>\n",
              "      <td>373.165363</td>\n",
              "      <td>416.624189</td>\n",
              "      <td>10.464239</td>\n",
              "      <td>85.852769</td>\n",
              "      <td>2.437296</td>\n",
              "      <td>1</td>\n",
              "    </tr>\n",
              "  </tbody>\n",
              "</table>\n",
              "</div>"
            ],
            "text/plain": [
              "    id        ph      Dureza  ...  Trihalometanos  Turbiedad  Potabilidad\n",
              "0  251  9.445130  145.805402  ...       77.577460   3.875165            1\n",
              "1  252  9.024845  128.096691  ...       73.778026   3.985251            1\n",
              "2  254  6.800119  242.008082  ...       73.777275   3.854940            1\n",
              "3  255  7.174135  203.408935  ...       74.405616   3.939896            1\n",
              "4  256  7.657991  236.960889  ...       85.852769   2.437296            1\n",
              "\n",
              "[5 rows x 11 columns]"
            ]
          },
          "metadata": {},
          "execution_count": 11
        }
      ]
    },
    {
      "cell_type": "code",
      "metadata": {
        "colab": {
          "base_uri": "https://localhost:8080/",
          "height": 226
        },
        "id": "C2NHCZOZeq4I",
        "outputId": "a266d39a-9381-4d83-e86a-d4a0bf887807"
      },
      "source": [
        "#Verificación clase 2: Cuerpos de Agua No Potable\n",
        "C2 = pd.read_csv(\"CuerposDeAguaNoPotables.csv\")\n",
        "C2.head()"
      ],
      "execution_count": null,
      "outputs": [
        {
          "output_type": "execute_result",
          "data": {
            "text/html": [
              "<div>\n",
              "<style scoped>\n",
              "    .dataframe tbody tr th:only-of-type {\n",
              "        vertical-align: middle;\n",
              "    }\n",
              "\n",
              "    .dataframe tbody tr th {\n",
              "        vertical-align: top;\n",
              "    }\n",
              "\n",
              "    .dataframe thead th {\n",
              "        text-align: right;\n",
              "    }\n",
              "</style>\n",
              "<table border=\"1\" class=\"dataframe\">\n",
              "  <thead>\n",
              "    <tr style=\"text-align: right;\">\n",
              "      <th></th>\n",
              "      <th>id</th>\n",
              "      <th>ph</th>\n",
              "      <th>Dureza</th>\n",
              "      <th>Sólidos</th>\n",
              "      <th>Cloraminas</th>\n",
              "      <th>Sulfato</th>\n",
              "      <th>Conductividad</th>\n",
              "      <th>Carbón_orgánico</th>\n",
              "      <th>Trihalometanos</th>\n",
              "      <th>Turbiedad</th>\n",
              "      <th>Potabilidad</th>\n",
              "    </tr>\n",
              "  </thead>\n",
              "  <tbody>\n",
              "    <tr>\n",
              "      <th>0</th>\n",
              "      <td>4</td>\n",
              "      <td>8.316766</td>\n",
              "      <td>214.373394</td>\n",
              "      <td>22018.417441</td>\n",
              "      <td>8.059332</td>\n",
              "      <td>356.886136</td>\n",
              "      <td>363.266516</td>\n",
              "      <td>18.436524</td>\n",
              "      <td>100.341674</td>\n",
              "      <td>4.628771</td>\n",
              "      <td>0</td>\n",
              "    </tr>\n",
              "    <tr>\n",
              "      <th>1</th>\n",
              "      <td>5</td>\n",
              "      <td>9.092223</td>\n",
              "      <td>181.101509</td>\n",
              "      <td>17978.986339</td>\n",
              "      <td>6.546600</td>\n",
              "      <td>310.135738</td>\n",
              "      <td>398.410813</td>\n",
              "      <td>11.558279</td>\n",
              "      <td>31.997993</td>\n",
              "      <td>4.075075</td>\n",
              "      <td>0</td>\n",
              "    </tr>\n",
              "    <tr>\n",
              "      <th>2</th>\n",
              "      <td>6</td>\n",
              "      <td>5.584087</td>\n",
              "      <td>188.313324</td>\n",
              "      <td>28748.687739</td>\n",
              "      <td>7.544869</td>\n",
              "      <td>326.678363</td>\n",
              "      <td>280.467916</td>\n",
              "      <td>8.399735</td>\n",
              "      <td>54.917862</td>\n",
              "      <td>2.559708</td>\n",
              "      <td>0</td>\n",
              "    </tr>\n",
              "    <tr>\n",
              "      <th>3</th>\n",
              "      <td>7</td>\n",
              "      <td>10.223862</td>\n",
              "      <td>248.071735</td>\n",
              "      <td>28749.716544</td>\n",
              "      <td>7.513408</td>\n",
              "      <td>393.663396</td>\n",
              "      <td>283.651634</td>\n",
              "      <td>13.789695</td>\n",
              "      <td>84.603556</td>\n",
              "      <td>2.672989</td>\n",
              "      <td>0</td>\n",
              "    </tr>\n",
              "    <tr>\n",
              "      <th>4</th>\n",
              "      <td>8</td>\n",
              "      <td>8.635849</td>\n",
              "      <td>203.361523</td>\n",
              "      <td>13672.091764</td>\n",
              "      <td>4.563009</td>\n",
              "      <td>303.309771</td>\n",
              "      <td>474.607645</td>\n",
              "      <td>12.363817</td>\n",
              "      <td>62.798309</td>\n",
              "      <td>4.401425</td>\n",
              "      <td>0</td>\n",
              "    </tr>\n",
              "  </tbody>\n",
              "</table>\n",
              "</div>"
            ],
            "text/plain": [
              "   id         ph      Dureza  ...  Trihalometanos  Turbiedad  Potabilidad\n",
              "0   4   8.316766  214.373394  ...      100.341674   4.628771            0\n",
              "1   5   9.092223  181.101509  ...       31.997993   4.075075            0\n",
              "2   6   5.584087  188.313324  ...       54.917862   2.559708            0\n",
              "3   7  10.223862  248.071735  ...       84.603556   2.672989            0\n",
              "4   8   8.635849  203.361523  ...       62.798309   4.401425            0\n",
              "\n",
              "[5 rows x 11 columns]"
            ]
          },
          "metadata": {},
          "execution_count": 12
        }
      ]
    },
    {
      "cell_type": "markdown",
      "metadata": {
        "id": "-kexzBLBet9S"
      },
      "source": [
        "Para tener una mejor visualización de los datos y posibles diferencias a destacar, se hará uso de gráficos de dispersión."
      ]
    },
    {
      "cell_type": "code",
      "metadata": {
        "id": "g-Jk8IzFe3va"
      },
      "source": [
        "#Importación de librerías para gráficas\n",
        "from matplotlib import pyplot\n",
        "from pandas import Series"
      ],
      "execution_count": null,
      "outputs": []
    },
    {
      "cell_type": "markdown",
      "metadata": {
        "id": "r2VcvyVeeyOI"
      },
      "source": [
        "\n",
        "\n",
        "> Gráficas según el ph.\n",
        "\n"
      ]
    },
    {
      "cell_type": "code",
      "metadata": {
        "colab": {
          "base_uri": "https://localhost:8080/",
          "height": 312
        },
        "id": "TGU-O8ALew4d",
        "outputId": "2735535f-ec07-447b-a89b-53ddc52c0a71"
      },
      "source": [
        "x1=c1.id\n",
        "y1=c1.ph\n",
        "pyplot.title('PH de los cuerpos de agua potable')\n",
        "pyplot.ylabel('p h')\n",
        "pyplot.xlabel('i d')\n",
        "pyplot.ylim(0,14)\n",
        "pyplot.xlim(0,3500)\n",
        "pyplot.scatter(x1,y1)"
      ],
      "execution_count": null,
      "outputs": [
        {
          "output_type": "execute_result",
          "data": {
            "text/plain": [
              "<matplotlib.collections.PathCollection at 0x7f6500d09210>"
            ]
          },
          "metadata": {},
          "execution_count": 14
        },
        {
          "output_type": "display_data",
          "data": {
            "image/png": "[encoded data removed]",
            "text/plain": [
              "<Figure size 432x288 with 1 Axes>"
            ]
          },
          "metadata": {
            "needs_background": "light"
          }
        }
      ]
    },
    {
      "cell_type": "code",
      "metadata": {
        "colab": {
          "base_uri": "https://localhost:8080/",
          "height": 312
        },
        "id": "JxIFOUD_exf9",
        "outputId": "ae4910c9-bfc9-4cff-c8ce-1487da1ec869"
      },
      "source": [
        "x2=c2.id\n",
        "y2=c2.ph\n",
        "pyplot.title('PH de los cuerpos de agua no potable')\n",
        "pyplot.ylabel('p h')\n",
        "pyplot.xlabel('i d')\n",
        "pyplot.ylim(0,14)\n",
        "pyplot.xlim(0,3500)\n",
        "pyplot.scatter(x2,y2)"
      ],
      "execution_count": null,
      "outputs": [
        {
          "output_type": "execute_result",
          "data": {
            "text/plain": [
              "<matplotlib.collections.PathCollection at 0x7f6500866290>"
            ]
          },
          "metadata": {},
          "execution_count": 15
        },
        {
          "output_type": "display_data",
          "data": {
            "image/png": "[encoded data removed]",
            "text/plain": [
              "<Figure size 432x288 with 1 Axes>"
            ]
          },
          "metadata": {
            "needs_background": "light"
          }
        }
      ]
    },
    {
      "cell_type": "markdown",
      "metadata": {
        "id": "qbtI3Rl8e9UV"
      },
      "source": [
        "\n",
        "\n",
        "> Gráficas según las Cloraminas.\n",
        "\n"
      ]
    },
    {
      "cell_type": "code",
      "metadata": {
        "colab": {
          "base_uri": "https://localhost:8080/",
          "height": 312
        },
        "id": "GipeL1sYe95_",
        "outputId": "7f39fe37-3b51-40be-843e-28263f591f64"
      },
      "source": [
        "x1=c1.id\n",
        "y1=c1.Cloraminas\n",
        "pyplot.title('Cloraminas de los cuerpos de agua potable')\n",
        "pyplot.ylabel('Cloraminas')\n",
        "pyplot.xlabel('i d')\n",
        "pyplot.xlim(0,3500)\n",
        "pyplot.scatter(x1,y1)"
      ],
      "execution_count": null,
      "outputs": [
        {
          "output_type": "execute_result",
          "data": {
            "text/plain": [
              "<matplotlib.collections.PathCollection at 0x7f650079bd50>"
            ]
          },
          "metadata": {},
          "execution_count": 16
        },
        {
          "output_type": "display_data",
          "data": {
            "image/png": "[encoded data removed]",
            "text/plain": [
              "<Figure size 432x288 with 1 Axes>"
            ]
          },
          "metadata": {
            "needs_background": "light"
          }
        }
      ]
    },
    {
      "cell_type": "code",
      "metadata": {
        "colab": {
          "base_uri": "https://localhost:8080/",
          "height": 312
        },
        "id": "s9UndDh-e-j0",
        "outputId": "af22cf61-364a-488b-8152-180809d3c65c"
      },
      "source": [
        "x2=c2.id\n",
        "y2=c2.Cloraminas\n",
        "pyplot.title('Clorominas de los cuerpos de agua no potable')\n",
        "pyplot.ylabel('Cloraminas')\n",
        "pyplot.xlabel('i d')\n",
        "pyplot.xlim(0,3500)\n",
        "pyplot.scatter(x2,y2)"
      ],
      "execution_count": null,
      "outputs": [
        {
          "output_type": "execute_result",
          "data": {
            "text/plain": [
              "<matplotlib.collections.PathCollection at 0x7f6500708cd0>"
            ]
          },
          "metadata": {},
          "execution_count": 17
        },
        {
          "output_type": "display_data",
          "data": {
            "image/png": "[encoded data removed]",
            "text/plain": [
              "<Figure size 432x288 with 1 Axes>"
            ]
          },
          "metadata": {
            "needs_background": "light"
          }
        }
      ]
    },
    {
      "cell_type": "markdown",
      "metadata": {
        "id": "6B8fpPu5fIPE"
      },
      "source": [
        "\n",
        "\n",
        "> Gráficas según la conductividad.\n",
        "\n"
      ]
    },
    {
      "cell_type": "code",
      "metadata": {
        "colab": {
          "base_uri": "https://localhost:8080/",
          "height": 312
        },
        "id": "JFECvFawfM-d",
        "outputId": "97bb38de-83ae-4c2a-969a-5ec29cb9bf75"
      },
      "source": [
        "x1=c1.id\n",
        "y1=c1.Conductividad\n",
        "pyplot.title('Conductividad de los cuerpos de agua potable')\n",
        "pyplot.ylabel('Conductividad')\n",
        "pyplot.xlabel('i d')\n",
        "pyplot.xlim(0,3500)\n",
        "pyplot.scatter(x1,y1)"
      ],
      "execution_count": null,
      "outputs": [
        {
          "output_type": "execute_result",
          "data": {
            "text/plain": [
              "<matplotlib.collections.PathCollection at 0x7f6500679bd0>"
            ]
          },
          "metadata": {},
          "execution_count": 18
        },
        {
          "output_type": "display_data",
          "data": {
            "image/png": "[encoded data removed]",
            "text/plain": [
              "<Figure size 432x288 with 1 Axes>"
            ]
          },
          "metadata": {
            "needs_background": "light"
          }
        }
      ]
    },
    {
      "cell_type": "code",
      "metadata": {
        "colab": {
          "base_uri": "https://localhost:8080/",
          "height": 312
        },
        "id": "ZhYp5YqcfNeL",
        "outputId": "b38e3b09-539a-4ed5-b6f0-0bea46185574"
      },
      "source": [
        "x2=c2.id\n",
        "y2=c2.Conductividad\n",
        "pyplot.title('Conductividad de los cuerpos de agua no potable')\n",
        "pyplot.ylabel('Conductividad')\n",
        "pyplot.xlabel('i d')\n",
        "pyplot.xlim(0,3500)\n",
        "pyplot.scatter(x2,y2)"
      ],
      "execution_count": null,
      "outputs": [
        {
          "output_type": "execute_result",
          "data": {
            "text/plain": [
              "<matplotlib.collections.PathCollection at 0x7f6500664c90>"
            ]
          },
          "metadata": {},
          "execution_count": 19
        },
        {
          "output_type": "display_data",
          "data": {
            "image/png": "[encoded data removed]",
            "text/plain": [
              "<Figure size 432x288 with 1 Axes>"
            ]
          },
          "metadata": {
            "needs_background": "light"
          }
        }
      ]
    },
    {
      "cell_type": "markdown",
      "metadata": {
        "id": "oZ8T-LFn29X3"
      },
      "source": [
        "Descripción de los data frames"
      ]
    },
    {
      "cell_type": "code",
      "metadata": {
        "colab": {
          "base_uri": "https://localhost:8080/",
          "height": 317
        },
        "id": "DLGCWekZkbdA",
        "outputId": "02ec8792-6b9d-4058-a079-da4249924411"
      },
      "source": [
        "#Descripción de los cuerpos de agua potables\n",
        "c1aux=c1.drop(columns=[\"id\"]) #eliminamos la columna de id (pues su summary no es de utilidad)\n",
        "c1_summary=c1aux.describe()\n",
        "c1_summary"
      ],
      "execution_count": null,
      "outputs": [
        {
          "output_type": "execute_result",
          "data": {
            "text/html": [
              "<div>\n",
              "<style scoped>\n",
              "    .dataframe tbody tr th:only-of-type {\n",
              "        vertical-align: middle;\n",
              "    }\n",
              "\n",
              "    .dataframe tbody tr th {\n",
              "        vertical-align: top;\n",
              "    }\n",
              "\n",
              "    .dataframe thead th {\n",
              "        text-align: right;\n",
              "    }\n",
              "</style>\n",
              "<table border=\"1\" class=\"dataframe\">\n",
              "  <thead>\n",
              "    <tr style=\"text-align: right;\">\n",
              "      <th></th>\n",
              "      <th>ph</th>\n",
              "      <th>Dureza</th>\n",
              "      <th>Sólidos</th>\n",
              "      <th>Cloraminas</th>\n",
              "      <th>Sulfato</th>\n",
              "      <th>Conductividad</th>\n",
              "      <th>Carbón_orgánico</th>\n",
              "      <th>Trihalometanos</th>\n",
              "      <th>Turbiedad</th>\n",
              "      <th>Potabilidad</th>\n",
              "    </tr>\n",
              "  </thead>\n",
              "  <tbody>\n",
              "    <tr>\n",
              "      <th>count</th>\n",
              "      <td>811.000000</td>\n",
              "      <td>811.000000</td>\n",
              "      <td>811.000000</td>\n",
              "      <td>811.000000</td>\n",
              "      <td>811.000000</td>\n",
              "      <td>811.000000</td>\n",
              "      <td>811.000000</td>\n",
              "      <td>811.000000</td>\n",
              "      <td>811.000000</td>\n",
              "      <td>811.0</td>\n",
              "    </tr>\n",
              "    <tr>\n",
              "      <th>mean</th>\n",
              "      <td>7.113791</td>\n",
              "      <td>195.908341</td>\n",
              "      <td>22344.922883</td>\n",
              "      <td>7.174395</td>\n",
              "      <td>332.457832</td>\n",
              "      <td>425.005423</td>\n",
              "      <td>14.294764</td>\n",
              "      <td>66.581596</td>\n",
              "      <td>3.991254</td>\n",
              "      <td>1.0</td>\n",
              "    </tr>\n",
              "    <tr>\n",
              "      <th>std</th>\n",
              "      <td>1.437623</td>\n",
              "      <td>35.301146</td>\n",
              "      <td>8891.547966</td>\n",
              "      <td>1.732796</td>\n",
              "      <td>47.446190</td>\n",
              "      <td>81.950982</td>\n",
              "      <td>3.257917</td>\n",
              "      <td>16.297713</td>\n",
              "      <td>0.776408</td>\n",
              "      <td>0.0</td>\n",
              "    </tr>\n",
              "    <tr>\n",
              "      <th>min</th>\n",
              "      <td>0.227499</td>\n",
              "      <td>73.492234</td>\n",
              "      <td>1198.943699</td>\n",
              "      <td>1.390871</td>\n",
              "      <td>129.000000</td>\n",
              "      <td>201.619737</td>\n",
              "      <td>2.200000</td>\n",
              "      <td>8.577013</td>\n",
              "      <td>1.492207</td>\n",
              "      <td>1.0</td>\n",
              "    </tr>\n",
              "    <tr>\n",
              "      <th>25%</th>\n",
              "      <td>6.256039</td>\n",
              "      <td>174.380497</td>\n",
              "      <td>15816.076607</td>\n",
              "      <td>6.106169</td>\n",
              "      <td>301.768819</td>\n",
              "      <td>360.275012</td>\n",
              "      <td>12.148355</td>\n",
              "      <td>55.751069</td>\n",
              "      <td>3.440564</td>\n",
              "      <td>1.0</td>\n",
              "    </tr>\n",
              "    <tr>\n",
              "      <th>50%</th>\n",
              "      <td>7.046549</td>\n",
              "      <td>197.617494</td>\n",
              "      <td>21217.158596</td>\n",
              "      <td>7.212254</td>\n",
              "      <td>331.087177</td>\n",
              "      <td>421.099917</td>\n",
              "      <td>14.252684</td>\n",
              "      <td>66.612984</td>\n",
              "      <td>4.007347</td>\n",
              "      <td>1.0</td>\n",
              "    </tr>\n",
              "    <tr>\n",
              "      <th>75%</th>\n",
              "      <td>7.955161</td>\n",
              "      <td>218.414531</td>\n",
              "      <td>27696.134419</td>\n",
              "      <td>8.181431</td>\n",
              "      <td>365.632984</td>\n",
              "      <td>482.296528</td>\n",
              "      <td>16.561121</td>\n",
              "      <td>77.372587</td>\n",
              "      <td>4.527463</td>\n",
              "      <td>1.0</td>\n",
              "    </tr>\n",
              "    <tr>\n",
              "      <th>max</th>\n",
              "      <td>11.898078</td>\n",
              "      <td>317.338124</td>\n",
              "      <td>56488.672413</td>\n",
              "      <td>13.127000</td>\n",
              "      <td>481.030642</td>\n",
              "      <td>695.369528</td>\n",
              "      <td>23.604298</td>\n",
              "      <td>124.000000</td>\n",
              "      <td>6.494249</td>\n",
              "      <td>1.0</td>\n",
              "    </tr>\n",
              "  </tbody>\n",
              "</table>\n",
              "</div>"
            ],
            "text/plain": [
              "               ph      Dureza  ...   Turbiedad  Potabilidad\n",
              "count  811.000000  811.000000  ...  811.000000        811.0\n",
              "mean     7.113791  195.908341  ...    3.991254          1.0\n",
              "std      1.437623   35.301146  ...    0.776408          0.0\n",
              "min      0.227499   73.492234  ...    1.492207          1.0\n",
              "25%      6.256039  174.380497  ...    3.440564          1.0\n",
              "50%      7.046549  197.617494  ...    4.007347          1.0\n",
              "75%      7.955161  218.414531  ...    4.527463          1.0\n",
              "max     11.898078  317.338124  ...    6.494249          1.0\n",
              "\n",
              "[8 rows x 10 columns]"
            ]
          },
          "metadata": {},
          "execution_count": 23
        }
      ]
    },
    {
      "cell_type": "code",
      "metadata": {
        "colab": {
          "base_uri": "https://localhost:8080/",
          "height": 317
        },
        "id": "ZlD7FQbW2SMZ",
        "outputId": "cf4849de-e314-43d8-c997-14cf8f404afd"
      },
      "source": [
        "#descripción de los cuerpos de agua no potables\n",
        "c2aux=c2.drop(columns=[\"id\"]) #eliminamos la columna de id (pues su summary no es de utilidad)\n",
        "c2_summary=c2aux.describe()\n",
        "c2_summary"
      ],
      "execution_count": null,
      "outputs": [
        {
          "output_type": "execute_result",
          "data": {
            "text/html": [
              "<div>\n",
              "<style scoped>\n",
              "    .dataframe tbody tr th:only-of-type {\n",
              "        vertical-align: middle;\n",
              "    }\n",
              "\n",
              "    .dataframe tbody tr th {\n",
              "        vertical-align: top;\n",
              "    }\n",
              "\n",
              "    .dataframe thead th {\n",
              "        text-align: right;\n",
              "    }\n",
              "</style>\n",
              "<table border=\"1\" class=\"dataframe\">\n",
              "  <thead>\n",
              "    <tr style=\"text-align: right;\">\n",
              "      <th></th>\n",
              "      <th>ph</th>\n",
              "      <th>Dureza</th>\n",
              "      <th>Sólidos</th>\n",
              "      <th>Cloraminas</th>\n",
              "      <th>Sulfato</th>\n",
              "      <th>Conductividad</th>\n",
              "      <th>Carbón_orgánico</th>\n",
              "      <th>Trihalometanos</th>\n",
              "      <th>Turbiedad</th>\n",
              "      <th>Potabilidad</th>\n",
              "    </tr>\n",
              "  </thead>\n",
              "  <tbody>\n",
              "    <tr>\n",
              "      <th>count</th>\n",
              "      <td>1200.000000</td>\n",
              "      <td>1200.000000</td>\n",
              "      <td>1200.000000</td>\n",
              "      <td>1200.000000</td>\n",
              "      <td>1200.000000</td>\n",
              "      <td>1200.000000</td>\n",
              "      <td>1200.000000</td>\n",
              "      <td>1200.000000</td>\n",
              "      <td>1200.000000</td>\n",
              "      <td>1200.0</td>\n",
              "    </tr>\n",
              "    <tr>\n",
              "      <th>mean</th>\n",
              "      <td>7.067201</td>\n",
              "      <td>196.008440</td>\n",
              "      <td>21628.535122</td>\n",
              "      <td>7.107267</td>\n",
              "      <td>333.742928</td>\n",
              "      <td>427.554342</td>\n",
              "      <td>14.400250</td>\n",
              "      <td>66.278712</td>\n",
              "      <td>3.955181</td>\n",
              "      <td>0.0</td>\n",
              "    </tr>\n",
              "    <tr>\n",
              "      <th>std</th>\n",
              "      <td>1.659106</td>\n",
              "      <td>30.717642</td>\n",
              "      <td>8461.108693</td>\n",
              "      <td>1.476577</td>\n",
              "      <td>36.398403</td>\n",
              "      <td>79.882677</td>\n",
              "      <td>3.370196</td>\n",
              "      <td>15.931953</td>\n",
              "      <td>0.782984</td>\n",
              "      <td>0.0</td>\n",
              "    </tr>\n",
              "    <tr>\n",
              "      <th>min</th>\n",
              "      <td>1.431782</td>\n",
              "      <td>98.452931</td>\n",
              "      <td>320.942611</td>\n",
              "      <td>2.456014</td>\n",
              "      <td>203.444521</td>\n",
              "      <td>210.319182</td>\n",
              "      <td>4.371899</td>\n",
              "      <td>14.343161</td>\n",
              "      <td>1.450000</td>\n",
              "      <td>0.0</td>\n",
              "    </tr>\n",
              "    <tr>\n",
              "      <th>25%</th>\n",
              "      <td>5.982888</td>\n",
              "      <td>177.313440</td>\n",
              "      <td>15378.907323</td>\n",
              "      <td>6.169384</td>\n",
              "      <td>310.653441</td>\n",
              "      <td>369.580980</td>\n",
              "      <td>12.118659</td>\n",
              "      <td>56.152070</td>\n",
              "      <td>3.444706</td>\n",
              "      <td>0.0</td>\n",
              "    </tr>\n",
              "    <tr>\n",
              "      <th>50%</th>\n",
              "      <td>6.992004</td>\n",
              "      <td>196.799368</td>\n",
              "      <td>20507.399647</td>\n",
              "      <td>7.103718</td>\n",
              "      <td>332.615625</td>\n",
              "      <td>424.479471</td>\n",
              "      <td>14.351828</td>\n",
              "      <td>66.206116</td>\n",
              "      <td>3.944085</td>\n",
              "      <td>0.0</td>\n",
              "    </tr>\n",
              "    <tr>\n",
              "      <th>75%</th>\n",
              "      <td>8.141979</td>\n",
              "      <td>214.532109</td>\n",
              "      <td>26786.546213</td>\n",
              "      <td>8.076759</td>\n",
              "      <td>356.432048</td>\n",
              "      <td>482.333786</td>\n",
              "      <td>16.787531</td>\n",
              "      <td>77.144621</td>\n",
              "      <td>4.497522</td>\n",
              "      <td>0.0</td>\n",
              "    </tr>\n",
              "    <tr>\n",
              "      <th>max</th>\n",
              "      <td>14.000000</td>\n",
              "      <td>300.292476</td>\n",
              "      <td>55334.702799</td>\n",
              "      <td>12.653362</td>\n",
              "      <td>460.107069</td>\n",
              "      <td>753.342620</td>\n",
              "      <td>27.006707</td>\n",
              "      <td>120.030077</td>\n",
              "      <td>6.494749</td>\n",
              "      <td>0.0</td>\n",
              "    </tr>\n",
              "  </tbody>\n",
              "</table>\n",
              "</div>"
            ],
            "text/plain": [
              "                ph       Dureza  ...    Turbiedad  Potabilidad\n",
              "count  1200.000000  1200.000000  ...  1200.000000       1200.0\n",
              "mean      7.067201   196.008440  ...     3.955181          0.0\n",
              "std       1.659106    30.717642  ...     0.782984          0.0\n",
              "min       1.431782    98.452931  ...     1.450000          0.0\n",
              "25%       5.982888   177.313440  ...     3.444706          0.0\n",
              "50%       6.992004   196.799368  ...     3.944085          0.0\n",
              "75%       8.141979   214.532109  ...     4.497522          0.0\n",
              "max      14.000000   300.292476  ...     6.494749          0.0\n",
              "\n",
              "[8 rows x 10 columns]"
            ]
          },
          "metadata": {},
          "execution_count": 24
        }
      ]
    },
    {
      "cell_type": "markdown",
      "metadata": {
        "id": "32ro5nAFX6H_"
      },
      "source": [
        "## Base de datos 2"
      ]
    },
    {
      "cell_type": "markdown",
      "metadata": {
        "id": "T9E5uO8EXSPe"
      },
      "source": [
        "###**1. Título de la base de datos**"
      ]
    },
    {
      "cell_type": "markdown",
      "metadata": {
        "id": "26p_bKGoYIIB"
      },
      "source": [
        "\n",
        "\n",
        "  a) Nombre: Climate Change: Earth Surface Temperature Data\n",
        "\n",
        "  b) URL: https://www.kaggle.com/berkeleyearth/climate-change-earth-surface-temperature-data"
      ]
    },
    {
      "cell_type": "markdown",
      "metadata": {
        "id": "ImJXUqJHXVIe"
      },
      "source": [
        "###**2. Introducción general**"
      ]
    },
    {
      "cell_type": "markdown",
      "metadata": {
        "id": "TzinIGs_QIJo"
      },
      "source": [
        "\n",
        "\n",
        "> El cambio climático se refiere a los cambios a largo plazo en el clima que han ocurrido durante décadas, siglos o más, lo cual es un problema latente en el mundo. A lo largo de los años las acciones humanas han ocasionado cambios en el planeta Tierra generando alzas en las temperaturas promedio, lo que conlleva consecuencias significativas para todo ser vivo. \n",
        "\n",
        "> Las causas de este fenómeno se deben en mayor medida a las actividades humanas y se producen a muy diversas escalas de tiempo y sobre todos los parámetros climáticos como la temperatura, precipitaciones, nubosidad, etc. Según un informe publicado por Grupo Intergubernamental de Expertos sobre el Cambio Climático se concluyó que hay una probabilidad mayor al 95% de que en los últimos 50 años las actividades humanas hayan calentado el planeta. Asimismo, con la misma probabilidad se dice que los gases de efecto invernadero emitidos por los seres humanos han sido responsables de este efecto. Las consecuencias del cambio climático son severas, desde cambios sustanciales en las condiciones climáticas, destrucción de ecosistemas, fenómenos meteorológicos extremos, hasta aumentos en los niveles de mar. A raíz de lo anterior se presentan daños en la producción alimentaria global, aumento de riesgos para la salud, así como la posibilidad de inundaciones en diversas regiones.\n",
        "\n",
        "> Por lo tanto, es significativo conocer la magnitud en la que el cambio climático ha afectado a países de interés, así como de manera global. De manera semejante, es sustancial conocer el comportamiento de las temperaturas globales en décadas posteriores, para así generar información que pronostique las zonas que provocan el cambio climático y las que serán mayormente afectadas por este fenómeno. \n",
        "\n",
        "\n"
      ]
    },
    {
      "cell_type": "markdown",
      "metadata": {
        "id": "VWV284gjpj9G"
      },
      "source": [
        "###**3 Descripción de Datos**\n",
        "\n",
        "\n",
        "\n",
        "\n",
        "\n",
        "\n",
        "\n"
      ]
    },
    {
      "cell_type": "markdown",
      "metadata": {
        "id": "kIEZykmXMCm2"
      },
      "source": [
        "a) ¿Qué tipo de datos son?"
      ]
    },
    {
      "cell_type": "markdown",
      "metadata": {
        "id": "C3MrByLnMDi_"
      },
      "source": [
        "> Se tomaron los archivos de \"GlobalLandTemperaturesByCountry\" y el archivo \"GlobalTemperatures\". \n",
        ">En el primer archivo,\"GlobalLandTemperaturesByCountry\", nos muestra una tabla con la temperatura promedio mensual por país. Se tiene registro desde 1743 hasta 2013 de 243 países. "
      ]
    },
    {
      "cell_type": "markdown",
      "metadata": {
        "id": "cuWBfZnQMJxC"
      },
      "source": [
        "b) Descripción de las columnas."
      ]
    },
    {
      "cell_type": "markdown",
      "metadata": {
        "id": "ARHwMvmEMQ4m"
      },
      "source": [
        "Esta tabla está compuesta de las siguientes columnas:\n",
        "\n",
        "*   dt\n",
        "> Fecha en la cual se obtuvieron los datos. Esta fecha es mensual y está disponible desde finales del 1743 hasta finales del 2013.\n",
        "\n",
        "* AverageTemperature\n",
        "> Promedio de Temperatura (grados Celsius).\n",
        "\n",
        "* AverageTemperatureUncertainty\n",
        "> El intervalo de confianza del 95% sobre el Promedio de Temperatura (grados Celsius).\n",
        "\n",
        "* Country\n",
        "> El país en estudio. Se tienen 243 registros únicos."
      ]
    },
    {
      "cell_type": "markdown",
      "metadata": {
        "id": "6xPFZcBCZb_9"
      },
      "source": [
        "###**4. Justificación del uso de datos**"
      ]
    },
    {
      "cell_type": "markdown",
      "metadata": {
        "id": "UV_HiwV9Z1ZZ"
      },
      "source": [
        "a) Características Destacables\n",
        ">Dentro de las características por las cuales nos llamaron la atención estos datos fue el registro de las temperaturas desde hace más de 200 años, el valor de incertidumbre del 95% y la división para más de 200 diferentes paises.\n",
        "\n",
        "> Lo que nos hizo querer trabajar estos datos fue que, ya que tenemos muchos registros de diferentes países, podemos desarrollar una serie de tiempo de algunos países de interés.\n",
        "\n",
        "b) Beneficios\n",
        ">En los últimos 50 años se ha hablado mucho del tema de cambio climático, y aunque vemos noticias y percibimos cambios en el ambiente, no le damos la importancia a este tema como sociedad. Nuestra intención con este trabajo es mostrar de una manera más clara estos cambios climáticos y cómo va empeorando.\n",
        "\n",
        ">Entre los beneficios de trabajar con estos datos se encuentra el formar una Serie de Tiempo a través de los años para observar el aumento de la temperatura a nivel global y por países."
      ]
    },
    {
      "cell_type": "markdown",
      "metadata": {
        "id": "c6FP4QZezwAJ"
      },
      "source": [
        "###**5. Objetivos**"
      ]
    },
    {
      "cell_type": "markdown",
      "metadata": {
        "id": "AQA5u8q5z0S6"
      },
      "source": [
        "\n",
        "\n",
        "Objetivo principal\n",
        "*   Verificar el comportamiento del cambio climático de diferentes países en base a los promedios de sus temperaturas.\n",
        "\n",
        "Objetivo secundario\n",
        "*   Generar pronósticos de los impactos del cambio climático en países de interés y de manera global.\n"
      ]
    },
    {
      "cell_type": "markdown",
      "metadata": {
        "id": "aR3BqD7gOccq"
      },
      "source": [
        "###**6. Preguntas de interés**\n"
      ]
    },
    {
      "cell_type": "markdown",
      "metadata": {
        "id": "EWVTz5D1OlPX"
      },
      "source": [
        "* ¿Son confiables las predicciones sobre las consecuencias del cambio climático?\n",
        "*¿Cómo puede el cambio de uno o dos grados en las temperaturas medias mundiales tener un impacto?\n",
        "*¿Son responsables las actividades humanas que hoy en día se realizan o las variaciones naturales en el clima, que conllevan el problema del cambio climático en la actualidad?\n",
        "*¿Es demasiado tarde para hacer algo acerca del cambio climático?\n",
        "*Si los 5 países que mas contaminan cambian su estilo de vida ¿podría tener un gran impacto en el cambio climático?\n",
        "*¿En el pasado, estaba la Tierra más caliente que en la actualidad? De ser así, ¿eso signifíca que no nos deberíamos preocupar por el calentamiento global?\n",
        "*Si disminuyera el crecimiento en la población ¿tendría un impacto en el cambio climático?\n"
      ]
    },
    {
      "cell_type": "markdown",
      "metadata": {
        "id": "XPsVqFuCjljT"
      },
      "source": [
        "###**7 Programación**"
      ]
    },
    {
      "cell_type": "markdown",
      "metadata": {
        "id": "vzjZHVXXKJN_"
      },
      "source": [
        "Importación de Librerías y Base de Datos"
      ]
    },
    {
      "cell_type": "code",
      "metadata": {
        "id": "YLhQW0P_88ms"
      },
      "source": [
        "#Importar Librerías y Base de Datos\n",
        "import pandas as pd\n",
        "import numpy as np\n",
        "import json\n",
        "\n",
        "df2 = pd.read_csv(\"GlobalLandTemperaturesByCountry.csv\")\n",
        "df3 = pd.read_csv(\"GlobalTemperatures.csv\")"
      ],
      "execution_count": null,
      "outputs": []
    },
    {
      "cell_type": "markdown",
      "metadata": {
        "id": "LF_PrJiOKRAN"
      },
      "source": [
        "Visualización de Filas y Columnas y Cambio de Nombre a Columnas"
      ]
    },
    {
      "cell_type": "code",
      "metadata": {
        "colab": {
          "base_uri": "https://localhost:8080/"
        },
        "id": "tH_3vPDw9DIO",
        "outputId": "e88bd40f-7dc9-4bda-fee0-6fa4b9747bb3"
      },
      "source": [
        "#Trato de la variable df2\n",
        "print(\"Número de Filas y Columnas: \",df2.shape) #Número de Filas y Columnas\n",
        "#df2.dtypes\n",
        "df2 = df2.rename(columns = {\n",
        "    'dt' : 'Fecha',\n",
        "    'AverageTemperature' : 'Promedio_Temperatura',\n",
        "    'AverageTemperatureUncertainty' : 'Promedio_Temperatura_inc',\n",
        "    'Country' : 'Pais'\n",
        "})"
      ],
      "execution_count": null,
      "outputs": [
        {
          "output_type": "stream",
          "text": [
            "Número de Filas y Columnas:  (577462, 4)\n"
          ],
          "name": "stdout"
        }
      ]
    },
    {
      "cell_type": "markdown",
      "metadata": {
        "id": "MubPz0yEKYXi"
      },
      "source": [
        "Agregamos 2 columnas para el Máximo y el Mínimo por registro"
      ]
    },
    {
      "cell_type": "code",
      "metadata": {
        "id": "2PG7Lo7y9EaQ"
      },
      "source": [
        "#Agregar columnas de Max y Min en df2\n",
        "df2['Min'] = df2.Promedio_Temperatura - df2.Promedio_Temperatura_inc \n",
        "df2['Max'] = df2.Promedio_Temperatura + df2.Promedio_Temperatura_inc"
      ],
      "execution_count": null,
      "outputs": []
    },
    {
      "cell_type": "markdown",
      "metadata": {
        "id": "1IQcCC9uKoPz"
      },
      "source": [
        "Revisión de Celdas Vacías"
      ]
    },
    {
      "cell_type": "code",
      "metadata": {
        "colab": {
          "base_uri": "https://localhost:8080/"
        },
        "id": "DEhrTL3P9T6l",
        "outputId": "707e1d9e-cc5d-4caf-d149-2c68b9eb75bb"
      },
      "source": [
        "#Verificación de nulos df2\n",
        "df2.isnull().sum()"
      ],
      "execution_count": null,
      "outputs": [
        {
          "output_type": "execute_result",
          "data": {
            "text/plain": [
              "Fecha                           0\n",
              "Promedio_Temperatura        32651\n",
              "Promedio_Temperatura_inc    31912\n",
              "Pais                            0\n",
              "Min                         32651\n",
              "Max                         32651\n",
              "dtype: int64"
            ]
          },
          "metadata": {},
          "execution_count": 30
        }
      ]
    },
    {
      "cell_type": "markdown",
      "metadata": {
        "id": "tuN-EJ9tdg_u"
      },
      "source": [
        "Eliminación de filas con celdas vacías"
      ]
    },
    {
      "cell_type": "code",
      "metadata": {
        "id": "d8xYzlMa9Z5G"
      },
      "source": [
        "#Eliminación de datos nulos df2\n",
        "df2 = df2.dropna(axis = 0, how='any')"
      ],
      "execution_count": null,
      "outputs": []
    },
    {
      "cell_type": "markdown",
      "metadata": {
        "id": "lZoDzxxkKq7c"
      },
      "source": [
        "Asignación de Clases"
      ]
    },
    {
      "cell_type": "code",
      "metadata": {
        "id": "E8P9yWum9enH"
      },
      "source": [
        "#Clases de los países de intéres en df2\n",
        "\n",
        "#Clase de Argentina\n",
        "Arg = df2[df2['Pais']=='Argentina']\n",
        "\n",
        "#Clase de Brazil\n",
        "Bra = df2[df2['Pais']=='Brazil']\n",
        "\n",
        "#Clase de Canada\n",
        "Can = df2[df2['Pais']=='Canada']\n",
        "\n",
        "#Clase de Chile\n",
        "Chile = df2[df2['Pais']=='Chile']\n",
        "\n",
        "#Clase de France\n",
        "Fra = df2[df2['Pais']=='France']\n",
        "\n",
        "#Clase de China\n",
        "China = df2[df2['Pais']=='China']\n",
        "\n",
        "#Clase de Germany\n",
        "Ale = df2[df2['Pais']=='Germany']\n",
        "\n",
        "#Clase de Greenland\n",
        "Gro = df2[df2['Pais']=='Greenland']\n",
        "\n",
        "#Clase de India\n",
        "Ind = df2[df2['Pais']=='India']\n",
        "\n",
        "#Clase de Mexico\n",
        "Mex = df2[df2['Pais']=='Mexico']\n",
        "\n",
        "#Clase de United States\n",
        "USA = df2[df2['Pais']=='United States']\n",
        "\n",
        "#Clase de Rusia\n",
        "Rus = df2[df2['Pais']=='Russia']"
      ],
      "execution_count": null,
      "outputs": []
    },
    {
      "cell_type": "markdown",
      "metadata": {
        "id": "SYR9z_5RKv4F"
      },
      "source": [
        "Verificación de Datos nulos"
      ]
    },
    {
      "cell_type": "code",
      "metadata": {
        "colab": {
          "base_uri": "https://localhost:8080/"
        },
        "id": "x4a1PIYA9qoe",
        "outputId": "bd0855ef-1210-4f08-dcf6-1b5c5a9a5c34"
      },
      "source": [
        "#Revisión de Datos nulos en df2\n",
        "Arg.isnull().sum()\n",
        "Ind.isnull().sum()\n",
        "Mex.isnull().sum()\n",
        "USA.isnull().sum()\n",
        "Rus.isnull().sum()"
      ],
      "execution_count": null,
      "outputs": [
        {
          "output_type": "execute_result",
          "data": {
            "text/plain": [
              "Fecha                       0\n",
              "Promedio_Temperatura        0\n",
              "Promedio_Temperatura_inc    0\n",
              "Pais                        0\n",
              "Min                         0\n",
              "Max                         0\n",
              "dtype: int64"
            ]
          },
          "metadata": {},
          "execution_count": 33
        }
      ]
    },
    {
      "cell_type": "code",
      "metadata": {
        "id": "yZYZxxa59s4U"
      },
      "source": [
        "#Agrupaciones en df2\n",
        "Arg.to_csv('Argentina.csv', index=False)\n",
        "Ind.to_csv('India.csv', index=False)\n",
        "Mex.to_csv('Mexico.csv', index=False)\n",
        "USA.to_csv('USA.csv', index=False)\n",
        "Rus.to_csv('Rusia.csv', index=False)"
      ],
      "execution_count": null,
      "outputs": []
    },
    {
      "cell_type": "code",
      "metadata": {
        "id": "bCQ4Wuud9voJ"
      },
      "source": [
        "#Leer las Bases de Datos en df2\n",
        "Arg_csv = pd.read_csv(\"Argentina.csv\")\n",
        "Ind_csv = pd.read_csv('India.csv')\n",
        "Mex_csv = pd.read_csv('Mexico.csv')\n",
        "USA_csv = pd.read_csv('USA.csv')\n",
        "Rus_csv = pd.read_csv('Rusia.csv')"
      ],
      "execution_count": null,
      "outputs": []
    },
    {
      "cell_type": "code",
      "metadata": {
        "id": "QzDdKycz9yev"
      },
      "source": [
        "#Reducir los Data Frames\n",
        "\n",
        "for i in range(0,len(Arg)):\n",
        "  if (int(i % 10) != 0):\n",
        "    Arg_csv = Arg_csv.drop([i],axis = 0)\n",
        "\n",
        "for i in range(0,len(Ind)):\n",
        "  if (int(i % 10) != 0):\n",
        "    Ind_csv = Ind_csv.drop([i],axis = 0)\n",
        "\n",
        "for i in range(0,len(Mex)):\n",
        "  if (int(i % 10) != 0):\n",
        "    Mex_csv = Mex_csv.drop([i],axis = 0)\n",
        "\n",
        "for i in range(0,len(USA)):\n",
        "  if (int(i % 10) != 0):\n",
        "    USA_csv = USA_csv.drop([i],axis = 0)\n",
        "\n",
        "for i in range(0,len(Rus)):\n",
        "  if (int(i % 10) != 0):\n",
        "    Rus_csv = Rus_csv.drop([i],axis = 0)"
      ],
      "execution_count": null,
      "outputs": []
    },
    {
      "cell_type": "markdown",
      "metadata": {
        "id": "hEHlDLRg93h-"
      },
      "source": [
        "Gráficas"
      ]
    },
    {
      "cell_type": "code",
      "metadata": {
        "id": "j6Vwp7SI91cY"
      },
      "source": [
        "#Librerías para graficas\n",
        "from matplotlib import pyplot\n",
        "from pandas import Series"
      ],
      "execution_count": null,
      "outputs": []
    },
    {
      "cell_type": "code",
      "metadata": {
        "colab": {
          "base_uri": "https://localhost:8080/",
          "height": 295
        },
        "id": "N_r2nUU199Vg",
        "outputId": "0228d78b-bc49-4ac4-c68c-49eb6538a14b"
      },
      "source": [
        "Arg_csv.plot(x = 'Fecha', y = 'Promedio_Temperatura')\n",
        "pyplot.title('Temperaturas de Argentina')\n",
        "pyplot.ylabel('Temperatura')\n",
        "pyplot.show()"
      ],
      "execution_count": null,
      "outputs": [
        {
          "output_type": "display_data",
          "data": {
            "image/png": "[encoded data removed]",
            "text/plain": [
              "<Figure size 432x288 with 1 Axes>"
            ]
          },
          "metadata": {
            "needs_background": "light"
          }
        }
      ]
    },
    {
      "cell_type": "code",
      "metadata": {
        "colab": {
          "base_uri": "https://localhost:8080/",
          "height": 295
        },
        "id": "Cr0XkusO-AsA",
        "outputId": "b880f638-7a5c-4141-da50-867121f9bc48"
      },
      "source": [
        "Ind_csv.plot(x = 'Fecha', y = 'Promedio_Temperatura')\n",
        "pyplot.title('Temperaturas de India')\n",
        "pyplot.ylabel('Temperatura')\n",
        "pyplot.show()"
      ],
      "execution_count": null,
      "outputs": [
        {
          "output_type": "display_data",
          "data": {
            "image/png": "[encoded data removed]",
            "text/plain": [
              "<Figure size 432x288 with 1 Axes>"
            ]
          },
          "metadata": {
            "needs_background": "light"
          }
        }
      ]
    },
    {
      "cell_type": "code",
      "metadata": {
        "colab": {
          "base_uri": "https://localhost:8080/",
          "height": 295
        },
        "id": "I1TDJcNN-Esw",
        "outputId": "1de9892b-f98a-4da0-e5c0-b54e9aaec5b2"
      },
      "source": [
        "Mex_csv.plot(x = 'Fecha', y = 'Promedio_Temperatura')\n",
        "pyplot.title('Temperaturas de México')\n",
        "pyplot.ylabel('Temperatura')\n",
        "pyplot.show()"
      ],
      "execution_count": null,
      "outputs": [
        {
          "output_type": "display_data",
          "data": {
            "image/png": "[encoded data removed]",
            "text/plain": [
              "<Figure size 432x288 with 1 Axes>"
            ]
          },
          "metadata": {
            "needs_background": "light"
          }
        }
      ]
    },
    {
      "cell_type": "code",
      "metadata": {
        "colab": {
          "base_uri": "https://localhost:8080/",
          "height": 295
        },
        "id": "Ufj0SiBg-FYr",
        "outputId": "160accc8-124f-43a8-b9ad-c585596ca12d"
      },
      "source": [
        "USA_csv.plot(x = 'Fecha', y = 'Promedio_Temperatura')\n",
        "pyplot.title('Temperaturas de Estados Unidos')\n",
        "pyplot.ylabel('Temperatura')\n",
        "pyplot.show()"
      ],
      "execution_count": null,
      "outputs": [
        {
          "output_type": "display_data",
          "data": {
            "image/png": "[encoded data removed]",
            "text/plain": [
              "<Figure size 432x288 with 1 Axes>"
            ]
          },
          "metadata": {
            "needs_background": "light"
          }
        }
      ]
    },
    {
      "cell_type": "code",
      "metadata": {
        "colab": {
          "base_uri": "https://localhost:8080/",
          "height": 295
        },
        "id": "loOVwRXg-I48",
        "outputId": "6efeb5fa-1d29-4e51-dfbd-c6a1cd253b21"
      },
      "source": [
        "Rus_csv.plot(x = 'Fecha', y = 'Promedio_Temperatura')\n",
        "pyplot.title('Temperaturas de Rusia')\n",
        "pyplot.ylabel('Temperatura')\n",
        "pyplot.show()"
      ],
      "execution_count": null,
      "outputs": [
        {
          "output_type": "display_data",
          "data": {
            "image/png": "[encoded data removed]",
            "text/plain": [
              "<Figure size 432x288 with 1 Axes>"
            ]
          },
          "metadata": {
            "needs_background": "light"
          }
        }
      ]
    },
    {
      "cell_type": "code",
      "metadata": {
        "colab": {
          "base_uri": "https://localhost:8080/"
        },
        "id": "dINF8FIL-tLp",
        "outputId": "f1eb7aea-e051-44bd-c7e6-a3265c5fc7b6"
      },
      "source": [
        "#Trato de la variable df3\n",
        "print(\"Número de Filas y Columnas: \",df3.shape) #Número de Filas y Columnas\n",
        "#df3.dtypes\n",
        "df3 = df3.rename(columns = {\n",
        "    'dt' : 'Fecha',\n",
        "    'LandAverageTemperature' : 'Prom_Temperatura_Tierra',\n",
        "    'AverageTemperatureUncertainty' : 'Inc_Prom_Temperatura_Tierra',\n",
        "    'LandMaxTemperature' : 'Max_Temperatura_Tierra',\n",
        "    'LandMaxTemperatureUncertainty':'Inc_Max_Temperature_Tierra',\n",
        "    'LandMinTemperature' : 'Min_Temperatura_Tierra',\n",
        "    'LandMinTemperatureUncertainty' : 'Inc_Min_Temperatura_Tierra',\n",
        "    'LandAndOceanAverageTemperature' : 'Prom_Temperatura_TO',\n",
        "    'LandAndOceanAverageTemperatureUncertainty' : 'Inc_Prom_Temperatura_TO'\n",
        "})"
      ],
      "execution_count": null,
      "outputs": [
        {
          "output_type": "stream",
          "text": [
            "Número de Filas y Columnas:  (3192, 9)\n"
          ],
          "name": "stdout"
        }
      ]
    },
    {
      "cell_type": "code",
      "metadata": {
        "colab": {
          "base_uri": "https://localhost:8080/"
        },
        "id": "CPCQ3v2y-3zf",
        "outputId": "18a2f2a4-edef-429e-9b3e-705cb7787022"
      },
      "source": [
        "#Verificación de nulos df2\n",
        "df3.isnull().sum()"
      ],
      "execution_count": null,
      "outputs": [
        {
          "output_type": "execute_result",
          "data": {
            "text/plain": [
              "Fecha                                   0\n",
              "Prom_Temperatura_Tierra                12\n",
              "LandAverageTemperatureUncertainty      12\n",
              "Max_Temperatura_Tierra               1200\n",
              "Inc_Max_Temperature_Tierra           1200\n",
              "Min_Temperatura_Tierra               1200\n",
              "Inc_Min_Temperatura_Tierra           1200\n",
              "Prom_Temperatura_TO                  1200\n",
              "Inc_Prom_Temperatura_TO              1200\n",
              "dtype: int64"
            ]
          },
          "metadata": {},
          "execution_count": 44
        }
      ]
    },
    {
      "cell_type": "code",
      "metadata": {
        "id": "7O7bRr93-9ix"
      },
      "source": [
        "#Eliminación de datos nulos df2\n",
        "df3 = df3.dropna(axis = 0, how='any')"
      ],
      "execution_count": null,
      "outputs": []
    },
    {
      "cell_type": "code",
      "metadata": {
        "colab": {
          "base_uri": "https://localhost:8080/",
          "height": 320
        },
        "id": "6b_QfHEA_J6V",
        "outputId": "0102df2a-8fe8-466b-e407-ae15e1b7fb28"
      },
      "source": [
        "#Descripción de df3\n",
        "df3_summary = df3.describe()\n",
        "df3_summary"
      ],
      "execution_count": null,
      "outputs": [
        {
          "output_type": "execute_result",
          "data": {
            "text/html": [
              "<div>\n",
              "<style scoped>\n",
              "    .dataframe tbody tr th:only-of-type {\n",
              "        vertical-align: middle;\n",
              "    }\n",
              "\n",
              "    .dataframe tbody tr th {\n",
              "        vertical-align: top;\n",
              "    }\n",
              "\n",
              "    .dataframe thead th {\n",
              "        text-align: right;\n",
              "    }\n",
              "</style>\n",
              "<table border=\"1\" class=\"dataframe\">\n",
              "  <thead>\n",
              "    <tr style=\"text-align: right;\">\n",
              "      <th></th>\n",
              "      <th>Prom_Temperatura_Tierra</th>\n",
              "      <th>LandAverageTemperatureUncertainty</th>\n",
              "      <th>Max_Temperatura_Tierra</th>\n",
              "      <th>Inc_Max_Temperature_Tierra</th>\n",
              "      <th>Min_Temperatura_Tierra</th>\n",
              "      <th>Inc_Min_Temperatura_Tierra</th>\n",
              "      <th>Prom_Temperatura_TO</th>\n",
              "      <th>Inc_Prom_Temperatura_TO</th>\n",
              "    </tr>\n",
              "  </thead>\n",
              "  <tbody>\n",
              "    <tr>\n",
              "      <th>count</th>\n",
              "      <td>1992.000000</td>\n",
              "      <td>1992.000000</td>\n",
              "      <td>1992.000000</td>\n",
              "      <td>1992.000000</td>\n",
              "      <td>1992.000000</td>\n",
              "      <td>1992.000000</td>\n",
              "      <td>1992.000000</td>\n",
              "      <td>1992.000000</td>\n",
              "    </tr>\n",
              "    <tr>\n",
              "      <th>mean</th>\n",
              "      <td>8.571583</td>\n",
              "      <td>0.276663</td>\n",
              "      <td>14.350601</td>\n",
              "      <td>0.479782</td>\n",
              "      <td>2.743595</td>\n",
              "      <td>0.431849</td>\n",
              "      <td>15.212566</td>\n",
              "      <td>0.128532</td>\n",
              "    </tr>\n",
              "    <tr>\n",
              "      <th>std</th>\n",
              "      <td>4.263193</td>\n",
              "      <td>0.224030</td>\n",
              "      <td>4.309579</td>\n",
              "      <td>0.583203</td>\n",
              "      <td>4.155835</td>\n",
              "      <td>0.445838</td>\n",
              "      <td>1.274093</td>\n",
              "      <td>0.073587</td>\n",
              "    </tr>\n",
              "    <tr>\n",
              "      <th>min</th>\n",
              "      <td>0.404000</td>\n",
              "      <td>0.034000</td>\n",
              "      <td>5.900000</td>\n",
              "      <td>0.044000</td>\n",
              "      <td>-5.407000</td>\n",
              "      <td>0.045000</td>\n",
              "      <td>12.475000</td>\n",
              "      <td>0.042000</td>\n",
              "    </tr>\n",
              "    <tr>\n",
              "      <th>25%</th>\n",
              "      <td>4.430000</td>\n",
              "      <td>0.099750</td>\n",
              "      <td>10.212000</td>\n",
              "      <td>0.142000</td>\n",
              "      <td>-1.334500</td>\n",
              "      <td>0.155000</td>\n",
              "      <td>14.047000</td>\n",
              "      <td>0.063000</td>\n",
              "    </tr>\n",
              "    <tr>\n",
              "      <th>50%</th>\n",
              "      <td>8.850500</td>\n",
              "      <td>0.230000</td>\n",
              "      <td>14.760000</td>\n",
              "      <td>0.252000</td>\n",
              "      <td>2.949500</td>\n",
              "      <td>0.279000</td>\n",
              "      <td>15.251000</td>\n",
              "      <td>0.122000</td>\n",
              "    </tr>\n",
              "    <tr>\n",
              "      <th>75%</th>\n",
              "      <td>12.858500</td>\n",
              "      <td>0.347250</td>\n",
              "      <td>18.451500</td>\n",
              "      <td>0.539000</td>\n",
              "      <td>6.778750</td>\n",
              "      <td>0.458250</td>\n",
              "      <td>16.396250</td>\n",
              "      <td>0.151000</td>\n",
              "    </tr>\n",
              "    <tr>\n",
              "      <th>max</th>\n",
              "      <td>15.482000</td>\n",
              "      <td>1.492000</td>\n",
              "      <td>21.320000</td>\n",
              "      <td>4.373000</td>\n",
              "      <td>9.715000</td>\n",
              "      <td>3.498000</td>\n",
              "      <td>17.611000</td>\n",
              "      <td>0.457000</td>\n",
              "    </tr>\n",
              "  </tbody>\n",
              "</table>\n",
              "</div>"
            ],
            "text/plain": [
              "       Prom_Temperatura_Tierra  ...  Inc_Prom_Temperatura_TO\n",
              "count              1992.000000  ...              1992.000000\n",
              "mean                  8.571583  ...                 0.128532\n",
              "std                   4.263193  ...                 0.073587\n",
              "min                   0.404000  ...                 0.042000\n",
              "25%                   4.430000  ...                 0.063000\n",
              "50%                   8.850500  ...                 0.122000\n",
              "75%                  12.858500  ...                 0.151000\n",
              "max                  15.482000  ...                 0.457000\n",
              "\n",
              "[8 rows x 8 columns]"
            ]
          },
          "metadata": {},
          "execution_count": 46
        }
      ]
    }
  ]
}