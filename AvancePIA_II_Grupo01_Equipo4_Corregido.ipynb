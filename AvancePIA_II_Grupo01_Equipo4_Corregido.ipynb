{
  "nbformat": 4,
  "nbformat_minor": 0,
  "metadata": {
    "colab": {
      "name": "AvancePIA_II_Grupo01_Equipo4 .ipynb",
      "provenance": [],
      "collapsed_sections": [],
      "include_colab_link": true
    },
    "kernelspec": {
      "name": "python3",
      "display_name": "Python 3"
    },
    "language_info": {
      "name": "python"
    }
  },
  "cells": [
    {
      "cell_type": "markdown",
      "metadata": {
        "id": "view-in-github",
        "colab_type": "text"
      },
      "source": [
        "<a href=\"https://colab.research.google.com/github/AlbertoEli/UANL_Mineria_de_Datos/blob/main/AvancePIA_II_Grupo01_Equipo4_Corregido.ipynb\" target=\"_parent\"><img src=\"https://colab.research.google.com/assets/colab-badge.svg\" alt=\"Open In Colab\"/></a>"
      ]
    },
    {
      "cell_type": "markdown",
      "metadata": {
        "id": "dsOdL2PNV2yp"
      },
      "source": [
        "# Segundo avance de PIA"
      ]
    },
    {
      "cell_type": "markdown",
      "metadata": {
        "id": "cuvtnu1dWBC6"
      },
      "source": [
        "Equipo: 4\n",
        "\n",
        "Grupo: 001, lunes\n",
        "\n",
        "Integrantes\n",
        "*   1877283, Cavazos Huerta, Sandra María.\t\t\t\t  \n",
        "*   1869764, Elizondo Villarreal, Alberto.\t\t\t\t\t\t\n",
        "*   1867031, Sánchez Tovar, Arturo Isaac.\t\t\t\t\n",
        "*   1862646, Sepulveda Bermudez, Marlene Michel. \t\t\n",
        "*   1877498, Villarreal Garza, Diana. \t\t\t\t   \t\n",
        "\n",
        "\n",
        "\n",
        "\n",
        "\n"
      ]
    },
    {
      "cell_type": "markdown",
      "metadata": {
        "id": "32ro5nAFX6H_"
      },
      "source": [
        "## Base de datos secundaria \n"
      ]
    },
    {
      "cell_type": "markdown",
      "metadata": {
        "id": "FBszTXcImEau"
      },
      "source": [
        "Al trabajar con nuestra base de datos principal (Water Quality) nos percatamos que las características de la base de datos no eran favorables para obtener descripción estadística útil para cumplir nuestros objetivos.\n",
        "Por esta razón decidimos trabajar con nuestra base de datos secundaria (Climate Change)."
      ]
    },
    {
      "cell_type": "markdown",
      "metadata": {
        "id": "T9E5uO8EXSPe"
      },
      "source": [
        "###**1. Título de la base de datos**"
      ]
    },
    {
      "cell_type": "markdown",
      "metadata": {
        "id": "26p_bKGoYIIB"
      },
      "source": [
        "\n",
        "\n",
        "  a) Nombre: Climate Change: Earth Surface Temperature Data\n",
        "\n",
        "  b) URL: https://www.kaggle.com/berkeleyearth/climate-change-earth-surface-temperature-data"
      ]
    },
    {
      "cell_type": "markdown",
      "metadata": {
        "id": "VWV284gjpj9G"
      },
      "source": [
        "###**2 Descripción de Datos**\n",
        "\n",
        "\n",
        "\n",
        "\n",
        "\n",
        "\n",
        "\n"
      ]
    },
    {
      "cell_type": "markdown",
      "metadata": {
        "id": "kIEZykmXMCm2"
      },
      "source": [
        "a) Descripción de la Base de Datos."
      ]
    },
    {
      "cell_type": "markdown",
      "metadata": {
        "id": "C3MrByLnMDi_"
      },
      "source": [
        "> Se tomaron los archivos de \"GlobalLandTemperaturesByCountry\" y el archivo \"GlobalTemperatures\". \n",
        ">En el primer archivo,\"GlobalLandTemperaturesByCountry\", nos muestra una tabla con la temperatura promedio mensual por país. Se tiene registro desde 1743 hasta 2013 de 243 países. "
      ]
    },
    {
      "cell_type": "markdown",
      "metadata": {
        "id": "cuWBfZnQMJxC"
      },
      "source": [
        "b) Descripción de las columnas."
      ]
    },
    {
      "cell_type": "markdown",
      "metadata": {
        "id": "ARHwMvmEMQ4m"
      },
      "source": [
        "Esta tabla está compuesta de las siguientes columnas:\n",
        "\n",
        "*   dt\n",
        "> Fecha en la cual se obtuvieron los datos. Esta fecha es mensual y está disponible desde finales del 1743 hasta finales del 2013.\n",
        "\n",
        "* AverageTemperature\n",
        "> Promedio de Temperatura (grados Celsius).\n",
        "\n",
        "* AverageTemperatureUncertainty\n",
        "> El intervalo de confianza del 95% sobre el Promedio de Temperatura (grados Celsius).\n",
        "\n",
        "* Country\n",
        "> El país en estudio. Se tienen 243 registros únicos."
      ]
    },
    {
      "cell_type": "markdown",
      "metadata": {
        "id": "6xPFZcBCZb_9"
      },
      "source": [
        "###**3. Justificación del uso de datos**"
      ]
    },
    {
      "cell_type": "markdown",
      "metadata": {
        "id": "UV_HiwV9Z1ZZ"
      },
      "source": [
        "a) Características Destacables\n",
        ">Dentro de las características por las cuales nos llamaron la atención estos datos fue el registro de las temperaturas desde hace más de 200 años, el valor de incertidumbre del 95% y la división para más de 200 diferentes paises.\n",
        "\n",
        "> Lo que nos hizo querer trabajar estos datos fue que, ya que tenemos muchos registros de diferentes países, podemos desarrollar una serie de tiempo de algunos países de interés.\n",
        "\n",
        "b) Beneficios\n",
        ">En los últimos 50 años se ha hablado mucho del tema de cambio climático, y aunque vemos noticias y percibimos cambios en el ambiente, no le damos la importancia a este tema como sociedad. Nuestra intención con este trabajo es mostrar de una manera más clara estos cambios climáticos y cómo va empeorando.\n",
        "\n",
        ">Entre los beneficios de trabajar con estos datos se encuentra el formar una Serie de Tiempo a través de los años para observar el aumento de la temperatura a nivel global y por países."
      ]
    },
    {
      "cell_type": "markdown",
      "metadata": {
        "id": "c6FP4QZezwAJ"
      },
      "source": [
        "###**4. Objetivos**"
      ]
    },
    {
      "cell_type": "markdown",
      "metadata": {
        "id": "AQA5u8q5z0S6"
      },
      "source": [
        "\n",
        "\n",
        "Objetivo principal\n",
        "*   Generar pronósticos de los impactos del cambio climático en países de interés y de manera global.\n",
        "\n",
        "Objetivo secundario\n",
        "*   Verificar el comportamiento del cambio climático de diferentes países en base a los promedios de sus temperaturas."
      ]
    },
    {
      "cell_type": "markdown",
      "metadata": {
        "id": "XPsVqFuCjljT"
      },
      "source": [
        "###**5. Desarrollo de las Herramientas**"
      ]
    },
    {
      "cell_type": "markdown",
      "metadata": {
        "id": "vzjZHVXXKJN_"
      },
      "source": [
        "Importación de Librerías y Base de Datos"
      ]
    },
    {
      "cell_type": "code",
      "metadata": {
        "id": "YLhQW0P_88ms"
      },
      "source": [
        "#Importar Librerías y Base de Datos\n",
        "import pandas as pd\n",
        "import numpy as np\n",
        "import json\n",
        "\n",
        "df2 = pd.read_csv(\"GlobalLandTemperaturesByCountry.csv\")\n",
        "df3 = pd.read_csv(\"GlobalTemperatures.csv\")\n"
      ],
      "execution_count": 47,
      "outputs": []
    },
    {
      "cell_type": "markdown",
      "metadata": {
        "id": "N9oOk0HGpA0d"
      },
      "source": [
        "Visualización de Filas, Columnas de las Bases de Datos"
      ]
    },
    {
      "cell_type": "code",
      "metadata": {
        "colab": {
          "base_uri": "https://localhost:8080/",
          "height": 416
        },
        "id": "roVY2hq9o-37",
        "outputId": "da0b8ac9-2eda-40e0-bbc9-97436ec64da6"
      },
      "source": [
        "print(\"Las bases de datos sin manipulación son las siguientes\")\n",
        "print(\" \")\n",
        "print(\"BASE DE DATOS DE TEMPERATURAS POR PAISES\")\n",
        "df2.head(10)"
      ],
      "execution_count": 48,
      "outputs": [
        {
          "output_type": "stream",
          "name": "stdout",
          "text": [
            "Las bases de datos sin manipulación son las siguientes\n",
            " \n",
            "BASE DE DATOS DE TEMPERATURAS POR PAISES\n"
          ]
        },
        {
          "output_type": "execute_result",
          "data": {
            "text/html": [
              "<div>\n",
              "<style scoped>\n",
              "    .dataframe tbody tr th:only-of-type {\n",
              "        vertical-align: middle;\n",
              "    }\n",
              "\n",
              "    .dataframe tbody tr th {\n",
              "        vertical-align: top;\n",
              "    }\n",
              "\n",
              "    .dataframe thead th {\n",
              "        text-align: right;\n",
              "    }\n",
              "</style>\n",
              "<table border=\"1\" class=\"dataframe\">\n",
              "  <thead>\n",
              "    <tr style=\"text-align: right;\">\n",
              "      <th></th>\n",
              "      <th>dt</th>\n",
              "      <th>AverageTemperature</th>\n",
              "      <th>AverageTemperatureUncertainty</th>\n",
              "      <th>Country</th>\n",
              "    </tr>\n",
              "  </thead>\n",
              "  <tbody>\n",
              "    <tr>\n",
              "      <th>0</th>\n",
              "      <td>1743-11-01</td>\n",
              "      <td>4.384</td>\n",
              "      <td>2.294</td>\n",
              "      <td>Åland</td>\n",
              "    </tr>\n",
              "    <tr>\n",
              "      <th>1</th>\n",
              "      <td>1743-12-01</td>\n",
              "      <td>NaN</td>\n",
              "      <td>NaN</td>\n",
              "      <td>Åland</td>\n",
              "    </tr>\n",
              "    <tr>\n",
              "      <th>2</th>\n",
              "      <td>1744-01-01</td>\n",
              "      <td>NaN</td>\n",
              "      <td>NaN</td>\n",
              "      <td>Åland</td>\n",
              "    </tr>\n",
              "    <tr>\n",
              "      <th>3</th>\n",
              "      <td>1744-02-01</td>\n",
              "      <td>NaN</td>\n",
              "      <td>NaN</td>\n",
              "      <td>Åland</td>\n",
              "    </tr>\n",
              "    <tr>\n",
              "      <th>4</th>\n",
              "      <td>1744-03-01</td>\n",
              "      <td>NaN</td>\n",
              "      <td>NaN</td>\n",
              "      <td>Åland</td>\n",
              "    </tr>\n",
              "    <tr>\n",
              "      <th>5</th>\n",
              "      <td>1744-04-01</td>\n",
              "      <td>1.530</td>\n",
              "      <td>4.680</td>\n",
              "      <td>Åland</td>\n",
              "    </tr>\n",
              "    <tr>\n",
              "      <th>6</th>\n",
              "      <td>1744-05-01</td>\n",
              "      <td>6.702</td>\n",
              "      <td>1.789</td>\n",
              "      <td>Åland</td>\n",
              "    </tr>\n",
              "    <tr>\n",
              "      <th>7</th>\n",
              "      <td>1744-06-01</td>\n",
              "      <td>11.609</td>\n",
              "      <td>1.577</td>\n",
              "      <td>Åland</td>\n",
              "    </tr>\n",
              "    <tr>\n",
              "      <th>8</th>\n",
              "      <td>1744-07-01</td>\n",
              "      <td>15.342</td>\n",
              "      <td>1.410</td>\n",
              "      <td>Åland</td>\n",
              "    </tr>\n",
              "    <tr>\n",
              "      <th>9</th>\n",
              "      <td>1744-08-01</td>\n",
              "      <td>NaN</td>\n",
              "      <td>NaN</td>\n",
              "      <td>Åland</td>\n",
              "    </tr>\n",
              "  </tbody>\n",
              "</table>\n",
              "</div>"
            ],
            "text/plain": [
              "           dt  AverageTemperature  AverageTemperatureUncertainty Country\n",
              "0  1743-11-01               4.384                          2.294   Åland\n",
              "1  1743-12-01                 NaN                            NaN   Åland\n",
              "2  1744-01-01                 NaN                            NaN   Åland\n",
              "3  1744-02-01                 NaN                            NaN   Åland\n",
              "4  1744-03-01                 NaN                            NaN   Åland\n",
              "5  1744-04-01               1.530                          4.680   Åland\n",
              "6  1744-05-01               6.702                          1.789   Åland\n",
              "7  1744-06-01              11.609                          1.577   Åland\n",
              "8  1744-07-01              15.342                          1.410   Åland\n",
              "9  1744-08-01                 NaN                            NaN   Åland"
            ]
          },
          "metadata": {},
          "execution_count": 48
        }
      ]
    },
    {
      "cell_type": "code",
      "metadata": {
        "colab": {
          "base_uri": "https://localhost:8080/",
          "height": 573
        },
        "id": "Gd4AP7jsov9y",
        "outputId": "92fe32c0-c473-49a7-e0f6-7ebe8a54d264"
      },
      "source": [
        "print(\"BASE DE DATOS DE TEMPERATURAS GLOBALES\")\n",
        "df3.head(10)"
      ],
      "execution_count": 49,
      "outputs": [
        {
          "output_type": "stream",
          "name": "stdout",
          "text": [
            "BASE DE DATOS DE TEMPERATURAS GLOBALES\n"
          ]
        },
        {
          "output_type": "execute_result",
          "data": {
            "text/html": [
              "<div>\n",
              "<style scoped>\n",
              "    .dataframe tbody tr th:only-of-type {\n",
              "        vertical-align: middle;\n",
              "    }\n",
              "\n",
              "    .dataframe tbody tr th {\n",
              "        vertical-align: top;\n",
              "    }\n",
              "\n",
              "    .dataframe thead th {\n",
              "        text-align: right;\n",
              "    }\n",
              "</style>\n",
              "<table border=\"1\" class=\"dataframe\">\n",
              "  <thead>\n",
              "    <tr style=\"text-align: right;\">\n",
              "      <th></th>\n",
              "      <th>dt</th>\n",
              "      <th>LandAverageTemperature</th>\n",
              "      <th>LandAverageTemperatureUncertainty</th>\n",
              "      <th>LandMaxTemperature</th>\n",
              "      <th>LandMaxTemperatureUncertainty</th>\n",
              "      <th>LandMinTemperature</th>\n",
              "      <th>LandMinTemperatureUncertainty</th>\n",
              "      <th>LandAndOceanAverageTemperature</th>\n",
              "      <th>LandAndOceanAverageTemperatureUncertainty</th>\n",
              "    </tr>\n",
              "  </thead>\n",
              "  <tbody>\n",
              "    <tr>\n",
              "      <th>0</th>\n",
              "      <td>1750-01-01</td>\n",
              "      <td>3.034</td>\n",
              "      <td>3.574</td>\n",
              "      <td>NaN</td>\n",
              "      <td>NaN</td>\n",
              "      <td>NaN</td>\n",
              "      <td>NaN</td>\n",
              "      <td>NaN</td>\n",
              "      <td>NaN</td>\n",
              "    </tr>\n",
              "    <tr>\n",
              "      <th>1</th>\n",
              "      <td>1750-02-01</td>\n",
              "      <td>3.083</td>\n",
              "      <td>3.702</td>\n",
              "      <td>NaN</td>\n",
              "      <td>NaN</td>\n",
              "      <td>NaN</td>\n",
              "      <td>NaN</td>\n",
              "      <td>NaN</td>\n",
              "      <td>NaN</td>\n",
              "    </tr>\n",
              "    <tr>\n",
              "      <th>2</th>\n",
              "      <td>1750-03-01</td>\n",
              "      <td>5.626</td>\n",
              "      <td>3.076</td>\n",
              "      <td>NaN</td>\n",
              "      <td>NaN</td>\n",
              "      <td>NaN</td>\n",
              "      <td>NaN</td>\n",
              "      <td>NaN</td>\n",
              "      <td>NaN</td>\n",
              "    </tr>\n",
              "    <tr>\n",
              "      <th>3</th>\n",
              "      <td>1750-04-01</td>\n",
              "      <td>8.490</td>\n",
              "      <td>2.451</td>\n",
              "      <td>NaN</td>\n",
              "      <td>NaN</td>\n",
              "      <td>NaN</td>\n",
              "      <td>NaN</td>\n",
              "      <td>NaN</td>\n",
              "      <td>NaN</td>\n",
              "    </tr>\n",
              "    <tr>\n",
              "      <th>4</th>\n",
              "      <td>1750-05-01</td>\n",
              "      <td>11.573</td>\n",
              "      <td>2.072</td>\n",
              "      <td>NaN</td>\n",
              "      <td>NaN</td>\n",
              "      <td>NaN</td>\n",
              "      <td>NaN</td>\n",
              "      <td>NaN</td>\n",
              "      <td>NaN</td>\n",
              "    </tr>\n",
              "    <tr>\n",
              "      <th>5</th>\n",
              "      <td>1750-06-01</td>\n",
              "      <td>12.937</td>\n",
              "      <td>1.724</td>\n",
              "      <td>NaN</td>\n",
              "      <td>NaN</td>\n",
              "      <td>NaN</td>\n",
              "      <td>NaN</td>\n",
              "      <td>NaN</td>\n",
              "      <td>NaN</td>\n",
              "    </tr>\n",
              "    <tr>\n",
              "      <th>6</th>\n",
              "      <td>1750-07-01</td>\n",
              "      <td>15.868</td>\n",
              "      <td>1.911</td>\n",
              "      <td>NaN</td>\n",
              "      <td>NaN</td>\n",
              "      <td>NaN</td>\n",
              "      <td>NaN</td>\n",
              "      <td>NaN</td>\n",
              "      <td>NaN</td>\n",
              "    </tr>\n",
              "    <tr>\n",
              "      <th>7</th>\n",
              "      <td>1750-08-01</td>\n",
              "      <td>14.750</td>\n",
              "      <td>2.231</td>\n",
              "      <td>NaN</td>\n",
              "      <td>NaN</td>\n",
              "      <td>NaN</td>\n",
              "      <td>NaN</td>\n",
              "      <td>NaN</td>\n",
              "      <td>NaN</td>\n",
              "    </tr>\n",
              "    <tr>\n",
              "      <th>8</th>\n",
              "      <td>1750-09-01</td>\n",
              "      <td>11.413</td>\n",
              "      <td>2.637</td>\n",
              "      <td>NaN</td>\n",
              "      <td>NaN</td>\n",
              "      <td>NaN</td>\n",
              "      <td>NaN</td>\n",
              "      <td>NaN</td>\n",
              "      <td>NaN</td>\n",
              "    </tr>\n",
              "    <tr>\n",
              "      <th>9</th>\n",
              "      <td>1750-10-01</td>\n",
              "      <td>6.367</td>\n",
              "      <td>2.668</td>\n",
              "      <td>NaN</td>\n",
              "      <td>NaN</td>\n",
              "      <td>NaN</td>\n",
              "      <td>NaN</td>\n",
              "      <td>NaN</td>\n",
              "      <td>NaN</td>\n",
              "    </tr>\n",
              "  </tbody>\n",
              "</table>\n",
              "</div>"
            ],
            "text/plain": [
              "           dt  ...  LandAndOceanAverageTemperatureUncertainty\n",
              "0  1750-01-01  ...                                        NaN\n",
              "1  1750-02-01  ...                                        NaN\n",
              "2  1750-03-01  ...                                        NaN\n",
              "3  1750-04-01  ...                                        NaN\n",
              "4  1750-05-01  ...                                        NaN\n",
              "5  1750-06-01  ...                                        NaN\n",
              "6  1750-07-01  ...                                        NaN\n",
              "7  1750-08-01  ...                                        NaN\n",
              "8  1750-09-01  ...                                        NaN\n",
              "9  1750-10-01  ...                                        NaN\n",
              "\n",
              "[10 rows x 9 columns]"
            ]
          },
          "metadata": {},
          "execution_count": 49
        }
      ]
    },
    {
      "cell_type": "markdown",
      "metadata": {
        "id": "LF_PrJiOKRAN"
      },
      "source": [
        "Cambio de Nombres en las Columnas de la Base de Datos de Temperaturas por País"
      ]
    },
    {
      "cell_type": "code",
      "metadata": {
        "colab": {
          "base_uri": "https://localhost:8080/",
          "height": 380
        },
        "id": "tH_3vPDw9DIO",
        "outputId": "48ca3c50-0650-4ce3-f0d3-cc4a427b9f53"
      },
      "source": [
        "#Trato de la variable df2\n",
        "print(\"Número de Filas y Columnas: \",df2.shape) #Número de Filas y Columnas\n",
        "\n",
        "df2 = df2.rename(columns = {\n",
        "    'dt' : 'Fecha',\n",
        "    'AverageTemperature' : 'Promedio_Temperatura',\n",
        "    'AverageTemperatureUncertainty' : 'Promedio_Temperatura_inc',\n",
        "    'Country' : 'Pais'\n",
        "})\n",
        "\n",
        "df2.head(10)"
      ],
      "execution_count": 50,
      "outputs": [
        {
          "output_type": "stream",
          "name": "stdout",
          "text": [
            "Número de Filas y Columnas:  (577462, 4)\n"
          ]
        },
        {
          "output_type": "execute_result",
          "data": {
            "text/html": [
              "<div>\n",
              "<style scoped>\n",
              "    .dataframe tbody tr th:only-of-type {\n",
              "        vertical-align: middle;\n",
              "    }\n",
              "\n",
              "    .dataframe tbody tr th {\n",
              "        vertical-align: top;\n",
              "    }\n",
              "\n",
              "    .dataframe thead th {\n",
              "        text-align: right;\n",
              "    }\n",
              "</style>\n",
              "<table border=\"1\" class=\"dataframe\">\n",
              "  <thead>\n",
              "    <tr style=\"text-align: right;\">\n",
              "      <th></th>\n",
              "      <th>Fecha</th>\n",
              "      <th>Promedio_Temperatura</th>\n",
              "      <th>Promedio_Temperatura_inc</th>\n",
              "      <th>Pais</th>\n",
              "    </tr>\n",
              "  </thead>\n",
              "  <tbody>\n",
              "    <tr>\n",
              "      <th>0</th>\n",
              "      <td>1743-11-01</td>\n",
              "      <td>4.384</td>\n",
              "      <td>2.294</td>\n",
              "      <td>Åland</td>\n",
              "    </tr>\n",
              "    <tr>\n",
              "      <th>1</th>\n",
              "      <td>1743-12-01</td>\n",
              "      <td>NaN</td>\n",
              "      <td>NaN</td>\n",
              "      <td>Åland</td>\n",
              "    </tr>\n",
              "    <tr>\n",
              "      <th>2</th>\n",
              "      <td>1744-01-01</td>\n",
              "      <td>NaN</td>\n",
              "      <td>NaN</td>\n",
              "      <td>Åland</td>\n",
              "    </tr>\n",
              "    <tr>\n",
              "      <th>3</th>\n",
              "      <td>1744-02-01</td>\n",
              "      <td>NaN</td>\n",
              "      <td>NaN</td>\n",
              "      <td>Åland</td>\n",
              "    </tr>\n",
              "    <tr>\n",
              "      <th>4</th>\n",
              "      <td>1744-03-01</td>\n",
              "      <td>NaN</td>\n",
              "      <td>NaN</td>\n",
              "      <td>Åland</td>\n",
              "    </tr>\n",
              "    <tr>\n",
              "      <th>5</th>\n",
              "      <td>1744-04-01</td>\n",
              "      <td>1.530</td>\n",
              "      <td>4.680</td>\n",
              "      <td>Åland</td>\n",
              "    </tr>\n",
              "    <tr>\n",
              "      <th>6</th>\n",
              "      <td>1744-05-01</td>\n",
              "      <td>6.702</td>\n",
              "      <td>1.789</td>\n",
              "      <td>Åland</td>\n",
              "    </tr>\n",
              "    <tr>\n",
              "      <th>7</th>\n",
              "      <td>1744-06-01</td>\n",
              "      <td>11.609</td>\n",
              "      <td>1.577</td>\n",
              "      <td>Åland</td>\n",
              "    </tr>\n",
              "    <tr>\n",
              "      <th>8</th>\n",
              "      <td>1744-07-01</td>\n",
              "      <td>15.342</td>\n",
              "      <td>1.410</td>\n",
              "      <td>Åland</td>\n",
              "    </tr>\n",
              "    <tr>\n",
              "      <th>9</th>\n",
              "      <td>1744-08-01</td>\n",
              "      <td>NaN</td>\n",
              "      <td>NaN</td>\n",
              "      <td>Åland</td>\n",
              "    </tr>\n",
              "  </tbody>\n",
              "</table>\n",
              "</div>"
            ],
            "text/plain": [
              "        Fecha  Promedio_Temperatura  Promedio_Temperatura_inc   Pais\n",
              "0  1743-11-01                 4.384                     2.294  Åland\n",
              "1  1743-12-01                   NaN                       NaN  Åland\n",
              "2  1744-01-01                   NaN                       NaN  Åland\n",
              "3  1744-02-01                   NaN                       NaN  Åland\n",
              "4  1744-03-01                   NaN                       NaN  Åland\n",
              "5  1744-04-01                 1.530                     4.680  Åland\n",
              "6  1744-05-01                 6.702                     1.789  Åland\n",
              "7  1744-06-01                11.609                     1.577  Åland\n",
              "8  1744-07-01                15.342                     1.410  Åland\n",
              "9  1744-08-01                   NaN                       NaN  Åland"
            ]
          },
          "metadata": {},
          "execution_count": 50
        }
      ]
    },
    {
      "cell_type": "markdown",
      "metadata": {
        "id": "B0eHeYVK8Ioc"
      },
      "source": [
        "Cambio de Nombres en las Columnas de la Base de Datos de Temperaturas Globales"
      ]
    },
    {
      "cell_type": "code",
      "metadata": {
        "colab": {
          "base_uri": "https://localhost:8080/",
          "height": 573
        },
        "id": "dINF8FIL-tLp",
        "outputId": "90bd6a6e-5219-4d80-867d-fbc16a2e6bc5"
      },
      "source": [
        "#Trato de la variable df3\n",
        "print(\"Número de Filas y Columnas: \",df3.shape) #Número de Filas y Columnas\n",
        "#df3.dtypes\n",
        "df3 = df3.rename(columns = {\n",
        "    'dt' : 'Fecha',\n",
        "    'LandAverageTemperature' : 'Prom_Temperatura_Tierra',\n",
        "    'AverageTemperatureUncertainty' : 'Inc_Prom_Temperatura_Tierra',\n",
        "    'LandMaxTemperature' : 'Max_Temperatura_Tierra',\n",
        "    'LandMaxTemperatureUncertainty':'Inc_Max_Temperature_Tierra',\n",
        "    'LandMinTemperature' : 'Min_Temperatura_Tierra',\n",
        "    'LandMinTemperatureUncertainty' : 'Inc_Min_Temperatura_Tierra',\n",
        "    'LandAndOceanAverageTemperature' : 'Prom_Temperatura_TO',\n",
        "    'LandAndOceanAverageTemperatureUncertainty' : 'Inc_Prom_Temperatura_TO'\n",
        "})\n",
        "\n",
        "df3.head(10)"
      ],
      "execution_count": 51,
      "outputs": [
        {
          "output_type": "stream",
          "name": "stdout",
          "text": [
            "Número de Filas y Columnas:  (3192, 9)\n"
          ]
        },
        {
          "output_type": "execute_result",
          "data": {
            "text/html": [
              "<div>\n",
              "<style scoped>\n",
              "    .dataframe tbody tr th:only-of-type {\n",
              "        vertical-align: middle;\n",
              "    }\n",
              "\n",
              "    .dataframe tbody tr th {\n",
              "        vertical-align: top;\n",
              "    }\n",
              "\n",
              "    .dataframe thead th {\n",
              "        text-align: right;\n",
              "    }\n",
              "</style>\n",
              "<table border=\"1\" class=\"dataframe\">\n",
              "  <thead>\n",
              "    <tr style=\"text-align: right;\">\n",
              "      <th></th>\n",
              "      <th>Fecha</th>\n",
              "      <th>Prom_Temperatura_Tierra</th>\n",
              "      <th>LandAverageTemperatureUncertainty</th>\n",
              "      <th>Max_Temperatura_Tierra</th>\n",
              "      <th>Inc_Max_Temperature_Tierra</th>\n",
              "      <th>Min_Temperatura_Tierra</th>\n",
              "      <th>Inc_Min_Temperatura_Tierra</th>\n",
              "      <th>Prom_Temperatura_TO</th>\n",
              "      <th>Inc_Prom_Temperatura_TO</th>\n",
              "    </tr>\n",
              "  </thead>\n",
              "  <tbody>\n",
              "    <tr>\n",
              "      <th>0</th>\n",
              "      <td>1750-01-01</td>\n",
              "      <td>3.034</td>\n",
              "      <td>3.574</td>\n",
              "      <td>NaN</td>\n",
              "      <td>NaN</td>\n",
              "      <td>NaN</td>\n",
              "      <td>NaN</td>\n",
              "      <td>NaN</td>\n",
              "      <td>NaN</td>\n",
              "    </tr>\n",
              "    <tr>\n",
              "      <th>1</th>\n",
              "      <td>1750-02-01</td>\n",
              "      <td>3.083</td>\n",
              "      <td>3.702</td>\n",
              "      <td>NaN</td>\n",
              "      <td>NaN</td>\n",
              "      <td>NaN</td>\n",
              "      <td>NaN</td>\n",
              "      <td>NaN</td>\n",
              "      <td>NaN</td>\n",
              "    </tr>\n",
              "    <tr>\n",
              "      <th>2</th>\n",
              "      <td>1750-03-01</td>\n",
              "      <td>5.626</td>\n",
              "      <td>3.076</td>\n",
              "      <td>NaN</td>\n",
              "      <td>NaN</td>\n",
              "      <td>NaN</td>\n",
              "      <td>NaN</td>\n",
              "      <td>NaN</td>\n",
              "      <td>NaN</td>\n",
              "    </tr>\n",
              "    <tr>\n",
              "      <th>3</th>\n",
              "      <td>1750-04-01</td>\n",
              "      <td>8.490</td>\n",
              "      <td>2.451</td>\n",
              "      <td>NaN</td>\n",
              "      <td>NaN</td>\n",
              "      <td>NaN</td>\n",
              "      <td>NaN</td>\n",
              "      <td>NaN</td>\n",
              "      <td>NaN</td>\n",
              "    </tr>\n",
              "    <tr>\n",
              "      <th>4</th>\n",
              "      <td>1750-05-01</td>\n",
              "      <td>11.573</td>\n",
              "      <td>2.072</td>\n",
              "      <td>NaN</td>\n",
              "      <td>NaN</td>\n",
              "      <td>NaN</td>\n",
              "      <td>NaN</td>\n",
              "      <td>NaN</td>\n",
              "      <td>NaN</td>\n",
              "    </tr>\n",
              "    <tr>\n",
              "      <th>5</th>\n",
              "      <td>1750-06-01</td>\n",
              "      <td>12.937</td>\n",
              "      <td>1.724</td>\n",
              "      <td>NaN</td>\n",
              "      <td>NaN</td>\n",
              "      <td>NaN</td>\n",
              "      <td>NaN</td>\n",
              "      <td>NaN</td>\n",
              "      <td>NaN</td>\n",
              "    </tr>\n",
              "    <tr>\n",
              "      <th>6</th>\n",
              "      <td>1750-07-01</td>\n",
              "      <td>15.868</td>\n",
              "      <td>1.911</td>\n",
              "      <td>NaN</td>\n",
              "      <td>NaN</td>\n",
              "      <td>NaN</td>\n",
              "      <td>NaN</td>\n",
              "      <td>NaN</td>\n",
              "      <td>NaN</td>\n",
              "    </tr>\n",
              "    <tr>\n",
              "      <th>7</th>\n",
              "      <td>1750-08-01</td>\n",
              "      <td>14.750</td>\n",
              "      <td>2.231</td>\n",
              "      <td>NaN</td>\n",
              "      <td>NaN</td>\n",
              "      <td>NaN</td>\n",
              "      <td>NaN</td>\n",
              "      <td>NaN</td>\n",
              "      <td>NaN</td>\n",
              "    </tr>\n",
              "    <tr>\n",
              "      <th>8</th>\n",
              "      <td>1750-09-01</td>\n",
              "      <td>11.413</td>\n",
              "      <td>2.637</td>\n",
              "      <td>NaN</td>\n",
              "      <td>NaN</td>\n",
              "      <td>NaN</td>\n",
              "      <td>NaN</td>\n",
              "      <td>NaN</td>\n",
              "      <td>NaN</td>\n",
              "    </tr>\n",
              "    <tr>\n",
              "      <th>9</th>\n",
              "      <td>1750-10-01</td>\n",
              "      <td>6.367</td>\n",
              "      <td>2.668</td>\n",
              "      <td>NaN</td>\n",
              "      <td>NaN</td>\n",
              "      <td>NaN</td>\n",
              "      <td>NaN</td>\n",
              "      <td>NaN</td>\n",
              "      <td>NaN</td>\n",
              "    </tr>\n",
              "  </tbody>\n",
              "</table>\n",
              "</div>"
            ],
            "text/plain": [
              "        Fecha  ...  Inc_Prom_Temperatura_TO\n",
              "0  1750-01-01  ...                      NaN\n",
              "1  1750-02-01  ...                      NaN\n",
              "2  1750-03-01  ...                      NaN\n",
              "3  1750-04-01  ...                      NaN\n",
              "4  1750-05-01  ...                      NaN\n",
              "5  1750-06-01  ...                      NaN\n",
              "6  1750-07-01  ...                      NaN\n",
              "7  1750-08-01  ...                      NaN\n",
              "8  1750-09-01  ...                      NaN\n",
              "9  1750-10-01  ...                      NaN\n",
              "\n",
              "[10 rows x 9 columns]"
            ]
          },
          "metadata": {},
          "execution_count": 51
        }
      ]
    },
    {
      "cell_type": "markdown",
      "metadata": {
        "id": "1IQcCC9uKoPz"
      },
      "source": [
        "Revisión de Celdas Vacías"
      ]
    },
    {
      "cell_type": "code",
      "metadata": {
        "colab": {
          "base_uri": "https://localhost:8080/"
        },
        "id": "DEhrTL3P9T6l",
        "outputId": "b437b181-d8e2-42a0-976b-eb5fad412831"
      },
      "source": [
        "#Verificación de nulos df2\n",
        "df2.isnull().sum()"
      ],
      "execution_count": 52,
      "outputs": [
        {
          "output_type": "execute_result",
          "data": {
            "text/plain": [
              "Fecha                           0\n",
              "Promedio_Temperatura        32651\n",
              "Promedio_Temperatura_inc    31912\n",
              "Pais                            0\n",
              "dtype: int64"
            ]
          },
          "metadata": {},
          "execution_count": 52
        }
      ]
    },
    {
      "cell_type": "code",
      "metadata": {
        "colab": {
          "base_uri": "https://localhost:8080/"
        },
        "id": "CPCQ3v2y-3zf",
        "outputId": "4049f517-4ac1-4e8d-ea97-af43aedf60b2"
      },
      "source": [
        "#Verificación de nulos df2\n",
        "df3.isnull().sum()"
      ],
      "execution_count": 53,
      "outputs": [
        {
          "output_type": "execute_result",
          "data": {
            "text/plain": [
              "Fecha                                   0\n",
              "Prom_Temperatura_Tierra                12\n",
              "LandAverageTemperatureUncertainty      12\n",
              "Max_Temperatura_Tierra               1200\n",
              "Inc_Max_Temperature_Tierra           1200\n",
              "Min_Temperatura_Tierra               1200\n",
              "Inc_Min_Temperatura_Tierra           1200\n",
              "Prom_Temperatura_TO                  1200\n",
              "Inc_Prom_Temperatura_TO              1200\n",
              "dtype: int64"
            ]
          },
          "metadata": {},
          "execution_count": 53
        }
      ]
    },
    {
      "cell_type": "markdown",
      "metadata": {
        "id": "tuN-EJ9tdg_u"
      },
      "source": [
        "Eliminación de filas con celdas vacías"
      ]
    },
    {
      "cell_type": "code",
      "metadata": {
        "id": "d8xYzlMa9Z5G"
      },
      "source": [
        "#Eliminación de datos nulos df2\n",
        "df2 = df2.dropna(axis = 0, how='any')"
      ],
      "execution_count": 54,
      "outputs": []
    },
    {
      "cell_type": "code",
      "metadata": {
        "id": "7O7bRr93-9ix"
      },
      "source": [
        "#Eliminación de datos nulos df2\n",
        "df3 = df3.dropna(axis = 0, how='any')"
      ],
      "execution_count": 55,
      "outputs": []
    },
    {
      "cell_type": "markdown",
      "metadata": {
        "id": "MubPz0yEKYXi"
      },
      "source": [
        "Agregamos 2 columnas para el Máximo y el Mínimo por registro. Esto para tener unas columnas donde se pueda representar mejor la incertidumbre de la Temperatura promedio."
      ]
    },
    {
      "cell_type": "code",
      "metadata": {
        "id": "2PG7Lo7y9EaQ"
      },
      "source": [
        "#Agregar columnas de Max y Min en df2\n",
        "df2['Min'] = df2.Promedio_Temperatura - df2.Promedio_Temperatura_inc \n",
        "df2['Max'] = df2.Promedio_Temperatura + df2.Promedio_Temperatura_inc"
      ],
      "execution_count": 56,
      "outputs": []
    },
    {
      "cell_type": "markdown",
      "metadata": {
        "id": "lZoDzxxkKq7c"
      },
      "source": [
        "Asignación de Clases"
      ]
    },
    {
      "cell_type": "markdown",
      "metadata": {
        "id": "om6mZvq_1l2Y"
      },
      "source": [
        "Para poder cumplir con nuestro objetivo de verificar el comportamiento de la temperatura y del cambio climático de diferentes países, asignamos varias clases de los países de interés. \n",
        "Se seleccionaron estos países debido a su ubicación geográfica, estos fueron los países de interés:\n",
        "\n",
        "\n",
        "*   México\n",
        "*   Argentina\n",
        "*   India\n",
        "*   Estados Unidos\n",
        "*   Rusia\n",
        "\n"
      ]
    },
    {
      "cell_type": "code",
      "metadata": {
        "id": "E8P9yWum9enH"
      },
      "source": [
        "#Clases de los paises de intéres en df2\n",
        "\n",
        "#Clase de Argentina\n",
        "Arg = df2[df2['Pais']=='Argentina']\n",
        "\n",
        "#Clase de India\n",
        "Ind = df2[df2['Pais']=='India']\n",
        "\n",
        "#Clase de Mexico\n",
        "Mex = df2[df2['Pais']=='Mexico']\n",
        "\n",
        "#Clase de United States\n",
        "USA = df2[df2['Pais']=='United States']\n",
        "\n",
        "#Clase de Rusia\n",
        "Rus = df2[df2['Pais']=='Russia']"
      ],
      "execution_count": 57,
      "outputs": []
    },
    {
      "cell_type": "markdown",
      "metadata": {
        "id": "SYR9z_5RKv4F"
      },
      "source": [
        "Verificación de Datos nulos en las clases de los países"
      ]
    },
    {
      "cell_type": "code",
      "metadata": {
        "colab": {
          "base_uri": "https://localhost:8080/"
        },
        "id": "x4a1PIYA9qoe",
        "outputId": "e71a246b-e222-48f1-fedb-09356a615421"
      },
      "source": [
        "#Revisión de Datos nulos en df2\n",
        "Arg.isnull().sum()\n",
        "Ind.isnull().sum()\n",
        "Mex.isnull().sum()\n",
        "USA.isnull().sum()\n",
        "Rus.isnull().sum()"
      ],
      "execution_count": 58,
      "outputs": [
        {
          "output_type": "execute_result",
          "data": {
            "text/plain": [
              "Fecha                       0\n",
              "Promedio_Temperatura        0\n",
              "Promedio_Temperatura_inc    0\n",
              "Pais                        0\n",
              "Min                         0\n",
              "Max                         0\n",
              "dtype: int64"
            ]
          },
          "metadata": {},
          "execution_count": 58
        }
      ]
    },
    {
      "cell_type": "markdown",
      "metadata": {
        "id": "Gs8zBPbE5x4c"
      },
      "source": [
        "Selección de Paises de Interés"
      ]
    },
    {
      "cell_type": "code",
      "metadata": {
        "id": "yZYZxxa59s4U"
      },
      "source": [
        "#Agrupaciones de las clases en df2\n",
        "Arg.to_csv('Argentina.csv', index=False)\n",
        "Ind.to_csv('India.csv', index=False)\n",
        "Mex.to_csv('Mexico.csv', index=False)\n",
        "USA.to_csv('USA.csv', index=False)\n",
        "Rus.to_csv('Rusia.csv', index=False)"
      ],
      "execution_count": 59,
      "outputs": []
    },
    {
      "cell_type": "code",
      "metadata": {
        "id": "bCQ4Wuud9voJ"
      },
      "source": [
        "#Leer las Bases de Datos en df2\n",
        "Arg_csv = pd.read_csv(\"Argentina.csv\")\n",
        "Ind_csv = pd.read_csv('India.csv')\n",
        "Mex_csv = pd.read_csv('Mexico.csv')\n",
        "USA_csv = pd.read_csv('USA.csv')\n",
        "Rus_csv = pd.read_csv('Rusia.csv')"
      ],
      "execution_count": 60,
      "outputs": []
    },
    {
      "cell_type": "markdown",
      "metadata": {
        "id": "zxd7HVLP5Poc"
      },
      "source": [
        "Reducción de las Bases de Datos de los países de interés para la visualización de series de tiempo. Esta reducción nos ayudará a observar los registros de los países de interés de manera anual por país."
      ]
    },
    {
      "cell_type": "code",
      "metadata": {
        "id": "QzDdKycz9yev"
      },
      "source": [
        "#Reducir los Data Frames\n",
        "\n",
        "for i in range(0,len(Arg)):\n",
        "  if (int(i % 12) != 0):\n",
        "    Arg_csv = Arg_csv.drop([i],axis = 0)\n",
        "\n",
        "for i in range(0,len(Ind)):\n",
        "  if (int(i % 12) != 0):\n",
        "    Ind_csv = Ind_csv.drop([i],axis = 0)\n",
        "\n",
        "for i in range(0,len(Mex)):\n",
        "  if (int(i % 12) != 0):\n",
        "    Mex_csv = Mex_csv.drop([i],axis = 0)\n",
        "\n",
        "for i in range(0,len(USA)):\n",
        "  if (int(i % 12) != 0):\n",
        "    USA_csv = USA_csv.drop([i],axis = 0)\n",
        "\n",
        "for i in range(0,len(Rus)):\n",
        "  if (int(i % 12) != 0):\n",
        "    Rus_csv = Rus_csv.drop([i],axis = 0)"
      ],
      "execution_count": 61,
      "outputs": []
    },
    {
      "cell_type": "markdown",
      "metadata": {
        "id": "2rsq7w4X6qzF"
      },
      "source": [
        "Importación de Librerías para Graficar"
      ]
    },
    {
      "cell_type": "code",
      "metadata": {
        "id": "R93qaXs_6pkk"
      },
      "source": [
        "import pandas as pd\n",
        "import matplotlib.pyplot as plt\n",
        "import seaborn as sns\n",
        "import numpy as np"
      ],
      "execution_count": 62,
      "outputs": []
    },
    {
      "cell_type": "markdown",
      "metadata": {
        "id": "HQYYVPpb6j_u"
      },
      "source": [
        "Para revisar la correlación entre las variables dentro de esta base de datos, revisamos la tabla de correlación."
      ]
    },
    {
      "cell_type": "code",
      "metadata": {
        "colab": {
          "base_uri": "https://localhost:8080/",
          "height": 732
        },
        "id": "Opb4Q5n46nvx",
        "outputId": "5c17e1ce-1b0c-4062-b36a-702a0b912ae8"
      },
      "source": [
        "f,ax=plt.subplots(figsize = (10,10))\n",
        "sns.heatmap(df2.corr(),annot= True,linewidths=0.5,fmt = \".1f\",ax=ax)\n",
        "plt.xticks(rotation=90)\n",
        "plt.yticks(rotation=0)\n",
        "\n",
        "plt.title('Mapa de correlación de Temperatura Globales por País')\n",
        "plt.savefig('graph.png')\n",
        "plt.show()"
      ],
      "execution_count": null,
      "outputs": [
        {
          "output_type": "display_data",
          "data": {
            "image/png": "[encoded data removed]",
            "text/plain": [
              "<Figure size 720x720 with 2 Axes>"
            ]
          },
          "metadata": {
            "needs_background": "light"
          }
        }
      ]
    },
    {
      "cell_type": "markdown",
      "metadata": {
        "id": "IgwUCAsi7A3Z"
      },
      "source": [
        "Se decidió no modificar las columnas de la Base de Datos de Temperaturas de los Países, ya que en la mayoría de los casos se muestra una muy buena correlación. Para la variable de incertidumbre, es normal la variación de este valor a través de los registros"
      ]
    },
    {
      "cell_type": "code",
      "metadata": {
        "colab": {
          "base_uri": "https://localhost:8080/",
          "height": 784
        },
        "id": "nY2W0p-E_aOk",
        "outputId": "4eddddc6-dccb-4cb8-c294-35e81ceb2dfa"
      },
      "source": [
        "f,ax=plt.subplots(figsize = (10,10))\n",
        "sns.heatmap(df3.corr(),annot= True,linewidths=0.5,fmt = \".1f\",ax=ax)\n",
        "plt.xticks(rotation=90)\n",
        "plt.yticks(rotation=0)\n",
        "\n",
        "plt.title('Mapa de correlación de Temperaturas Globales')\n",
        "plt.savefig('graph.png')\n",
        "\n",
        "plt.show()"
      ],
      "execution_count": null,
      "outputs": [
        {
          "output_type": "display_data",
          "data": {
            "image/png": "[encoded data removed]",
            "text/plain": [
              "<Figure size 720x720 with 2 Axes>"
            ]
          },
          "metadata": {
            "needs_background": "light"
          }
        }
      ]
    },
    {
      "cell_type": "markdown",
      "metadata": {
        "id": "4QZrUbuhAYrQ"
      },
      "source": [
        "En las temperaturas globales observamos una gran cantidad de variables correlacionadas entre ellas, por esto mismo no se desean eliminar o modificar alguna de éstas."
      ]
    },
    {
      "cell_type": "markdown",
      "metadata": {
        "id": "hEHlDLRg93h-"
      },
      "source": [
        "Series de Tiempo de los países de Interés"
      ]
    },
    {
      "cell_type": "code",
      "metadata": {
        "id": "j6Vwp7SI91cY"
      },
      "source": [
        "#Librerías para graficas\n",
        "from matplotlib import pyplot\n",
        "from pandas import Series\n",
        "import matplotlib.pyplot as plt"
      ],
      "execution_count": 79,
      "outputs": []
    },
    {
      "cell_type": "code",
      "metadata": {
        "colab": {
          "base_uri": "https://localhost:8080/",
          "height": 297
        },
        "id": "avGmrkT4JAEf",
        "outputId": "cc5e71fb-198e-4e7d-ad2d-7f30919f3b35"
      },
      "source": [
        "#Serie de Tiempo de Argentina \n",
        "x = np.arange(1856,2015)\n",
        "y = Arg_csv['Promedio_Temperatura']\n",
        "A1 = plt.plot(x,y)\n",
        "pyplot.title('Temperaturas Promedio de Argentina')\n",
        "pyplot.ylabel('Temperatura')\n",
        "pyplot.xlabel('Fecha')\n",
        "plt.tight_layout()"
      ],
      "execution_count": 189,
      "outputs": [
        {
          "output_type": "display_data",
          "data": {
            "image/png": "[encoded data removed]",
            "text/plain": [
              "<Figure size 432x288 with 1 Axes>"
            ]
          },
          "metadata": {
            "needs_background": "light"
          }
        }
      ]
    },
    {
      "cell_type": "code",
      "metadata": {
        "colab": {
          "base_uri": "https://localhost:8080/",
          "height": 297
        },
        "id": "aDWqL1J4Kk4S",
        "outputId": "b2b7b4eb-dad9-4a99-d370-0b467845c14b"
      },
      "source": [
        "#Serie de Tiempo de India\n",
        "pyplot.title('Temperaturas Promedio de India')\n",
        "pyplot.ylabel('Temperatura')\n",
        "pyplot.xlabel('Fecha')\n",
        "x = np.arange(1806,2015)\n",
        "y = Ind_csv['Promedio_Temperatura']\n",
        "A2 = plt.plot(x,y)\n",
        "plt.tight_layout()"
      ],
      "execution_count": 192,
      "outputs": [
        {
          "output_type": "display_data",
          "data": {
            "image/png": "[encoded data removed]",
            "text/plain": [
              "<Figure size 432x288 with 1 Axes>"
            ]
          },
          "metadata": {
            "needs_background": "light"
          }
        }
      ]
    },
    {
      "cell_type": "code",
      "metadata": {
        "colab": {
          "base_uri": "https://localhost:8080/",
          "height": 297
        },
        "id": "LWeZEJnaKyrz",
        "outputId": "87c9d4cd-5f6d-42bf-c0e1-a9c8ca00fdd1"
      },
      "source": [
        "#Serie de Tiempo de Mexico\n",
        "pyplot.title('Temperaturas Promedio de México')\n",
        "pyplot.ylabel('Temperatura')\n",
        "pyplot.xlabel('Fecha')\n",
        "x = np.arange(1836,2015)\n",
        "y = Mex_csv['Promedio_Temperatura']\n",
        "A3 = plt.plot(x,y)\n",
        "plt.tight_layout()"
      ],
      "execution_count": 193,
      "outputs": [
        {
          "output_type": "display_data",
          "data": {
            "image/png": "[encoded data removed]",
            "text/plain": [
              "<Figure size 432x288 with 1 Axes>"
            ]
          },
          "metadata": {
            "needs_background": "light"
          }
        }
      ]
    },
    {
      "cell_type": "code",
      "metadata": {
        "colab": {
          "base_uri": "https://localhost:8080/",
          "height": 297
        },
        "id": "2S5dDbReNc0X",
        "outputId": "ba211313-fede-49ce-e175-a1580bc2295b"
      },
      "source": [
        "#Serie de Tiempo de Estados Unidos\n",
        "pyplot.title('Temperaturas Promedio de Estados Unidos')\n",
        "pyplot.ylabel('Temperatura')\n",
        "pyplot.xlabel('Fecha')\n",
        "x = np.arange(1808,2015)\n",
        "y = USA_csv['Promedio_Temperatura']\n",
        "A4 = plt.plot(x,y)\n",
        "plt.tight_layout()"
      ],
      "execution_count": 148,
      "outputs": [
        {
          "output_type": "display_data",
          "data": {
            "image/png": "[encoded data removed]",
            "text/plain": [
              "<Figure size 432x288 with 1 Axes>"
            ]
          },
          "metadata": {
            "needs_background": "light"
          }
        }
      ]
    },
    {
      "cell_type": "code",
      "metadata": {
        "colab": {
          "base_uri": "https://localhost:8080/",
          "height": 297
        },
        "id": "Gk_70kFONpwc",
        "outputId": "425391b6-5de8-4f16-ab75-f4380bf873ab"
      },
      "source": [
        "#Serie de Tiempo de Rusia\n",
        "pyplot.title('Temperaturas Promedio de Rusia')\n",
        "pyplot.ylabel('Temperatura')\n",
        "pyplot.xlabel('Fecha')\n",
        "x = np.arange(1814,2015)\n",
        "y = Rus_csv['Promedio_Temperatura']\n",
        "A5 = plt.plot(x,y)\n",
        "plt.tight_layout()"
      ],
      "execution_count": 149,
      "outputs": [
        {
          "output_type": "display_data",
          "data": {
            "image/png": "[encoded data removed]",
            "text/plain": [
              "<Figure size 432x288 with 1 Axes>"
            ]
          },
          "metadata": {
            "needs_background": "light"
          }
        }
      ]
    },
    {
      "cell_type": "markdown",
      "metadata": {
        "id": "NWF3m4CbA6hC"
      },
      "source": [
        "Creación de una base de datos con solamente la información de nuestros paises de interés"
      ]
    },
    {
      "cell_type": "code",
      "metadata": {
        "id": "F40wiYy6A62p"
      },
      "source": [
        "paises = pd.concat([Arg, Ind, Mex, USA, Rus])"
      ],
      "execution_count": 134,
      "outputs": []
    },
    {
      "cell_type": "markdown",
      "metadata": {
        "id": "NineKXo--reO"
      },
      "source": [
        "###**8. Estadística básica de los datos**"
      ]
    },
    {
      "cell_type": "markdown",
      "metadata": {
        "id": "OjBDU3JcbkIg"
      },
      "source": [
        "Para analizar el impacto del cambio climático a través de las temperaturas promedio, máximas y mínimas de la Tierra junto con su incertidumbre, se realizará el uso de las medidas estadísticas por las siguientes razones: \n",
        "\n",
        "* Contar: Conocer el número de registros que se tiene.\n",
        "* Promedio: Cuantificar la temperatura promedio.\n",
        "* Desviación estándar: Cuantificar la dispersión de las temperaturas.\n",
        "* Mínimo: Cuantificar la temperatura mínima registrada.\n",
        "* Máximo: Cuantificar la temperatura máxima registrada.\n",
        "* 1er, 2do, 3er cuartíl: Conocer la distribución de las temperaturas.\n",
        "\n"
      ]
    },
    {
      "cell_type": "code",
      "metadata": {
        "colab": {
          "base_uri": "https://localhost:8080/",
          "height": 320
        },
        "id": "6b_QfHEA_J6V",
        "outputId": "0102df2a-8fe8-466b-e407-ae15e1b7fb28"
      },
      "source": [
        "#Descripción de df3\n",
        "df3_summary = df3.describe()\n",
        "df3_summary"
      ],
      "execution_count": null,
      "outputs": [
        {
          "output_type": "execute_result",
          "data": {
            "text/html": [
              "<div>\n",
              "<style scoped>\n",
              "    .dataframe tbody tr th:only-of-type {\n",
              "        vertical-align: middle;\n",
              "    }\n",
              "\n",
              "    .dataframe tbody tr th {\n",
              "        vertical-align: top;\n",
              "    }\n",
              "\n",
              "    .dataframe thead th {\n",
              "        text-align: right;\n",
              "    }\n",
              "</style>\n",
              "<table border=\"1\" class=\"dataframe\">\n",
              "  <thead>\n",
              "    <tr style=\"text-align: right;\">\n",
              "      <th></th>\n",
              "      <th>Prom_Temperatura_Tierra</th>\n",
              "      <th>LandAverageTemperatureUncertainty</th>\n",
              "      <th>Max_Temperatura_Tierra</th>\n",
              "      <th>Inc_Max_Temperature_Tierra</th>\n",
              "      <th>Min_Temperatura_Tierra</th>\n",
              "      <th>Inc_Min_Temperatura_Tierra</th>\n",
              "      <th>Prom_Temperatura_TO</th>\n",
              "      <th>Inc_Prom_Temperatura_TO</th>\n",
              "    </tr>\n",
              "  </thead>\n",
              "  <tbody>\n",
              "    <tr>\n",
              "      <th>count</th>\n",
              "      <td>1992.000000</td>\n",
              "      <td>1992.000000</td>\n",
              "      <td>1992.000000</td>\n",
              "      <td>1992.000000</td>\n",
              "      <td>1992.000000</td>\n",
              "      <td>1992.000000</td>\n",
              "      <td>1992.000000</td>\n",
              "      <td>1992.000000</td>\n",
              "    </tr>\n",
              "    <tr>\n",
              "      <th>mean</th>\n",
              "      <td>8.571583</td>\n",
              "      <td>0.276663</td>\n",
              "      <td>14.350601</td>\n",
              "      <td>0.479782</td>\n",
              "      <td>2.743595</td>\n",
              "      <td>0.431849</td>\n",
              "      <td>15.212566</td>\n",
              "      <td>0.128532</td>\n",
              "    </tr>\n",
              "    <tr>\n",
              "      <th>std</th>\n",
              "      <td>4.263193</td>\n",
              "      <td>0.224030</td>\n",
              "      <td>4.309579</td>\n",
              "      <td>0.583203</td>\n",
              "      <td>4.155835</td>\n",
              "      <td>0.445838</td>\n",
              "      <td>1.274093</td>\n",
              "      <td>0.073587</td>\n",
              "    </tr>\n",
              "    <tr>\n",
              "      <th>min</th>\n",
              "      <td>0.404000</td>\n",
              "      <td>0.034000</td>\n",
              "      <td>5.900000</td>\n",
              "      <td>0.044000</td>\n",
              "      <td>-5.407000</td>\n",
              "      <td>0.045000</td>\n",
              "      <td>12.475000</td>\n",
              "      <td>0.042000</td>\n",
              "    </tr>\n",
              "    <tr>\n",
              "      <th>25%</th>\n",
              "      <td>4.430000</td>\n",
              "      <td>0.099750</td>\n",
              "      <td>10.212000</td>\n",
              "      <td>0.142000</td>\n",
              "      <td>-1.334500</td>\n",
              "      <td>0.155000</td>\n",
              "      <td>14.047000</td>\n",
              "      <td>0.063000</td>\n",
              "    </tr>\n",
              "    <tr>\n",
              "      <th>50%</th>\n",
              "      <td>8.850500</td>\n",
              "      <td>0.230000</td>\n",
              "      <td>14.760000</td>\n",
              "      <td>0.252000</td>\n",
              "      <td>2.949500</td>\n",
              "      <td>0.279000</td>\n",
              "      <td>15.251000</td>\n",
              "      <td>0.122000</td>\n",
              "    </tr>\n",
              "    <tr>\n",
              "      <th>75%</th>\n",
              "      <td>12.858500</td>\n",
              "      <td>0.347250</td>\n",
              "      <td>18.451500</td>\n",
              "      <td>0.539000</td>\n",
              "      <td>6.778750</td>\n",
              "      <td>0.458250</td>\n",
              "      <td>16.396250</td>\n",
              "      <td>0.151000</td>\n",
              "    </tr>\n",
              "    <tr>\n",
              "      <th>max</th>\n",
              "      <td>15.482000</td>\n",
              "      <td>1.492000</td>\n",
              "      <td>21.320000</td>\n",
              "      <td>4.373000</td>\n",
              "      <td>9.715000</td>\n",
              "      <td>3.498000</td>\n",
              "      <td>17.611000</td>\n",
              "      <td>0.457000</td>\n",
              "    </tr>\n",
              "  </tbody>\n",
              "</table>\n",
              "</div>"
            ],
            "text/plain": [
              "       Prom_Temperatura_Tierra  ...  Inc_Prom_Temperatura_TO\n",
              "count              1992.000000  ...              1992.000000\n",
              "mean                  8.571583  ...                 0.128532\n",
              "std                   4.263193  ...                 0.073587\n",
              "min                   0.404000  ...                 0.042000\n",
              "25%                   4.430000  ...                 0.063000\n",
              "50%                   8.850500  ...                 0.122000\n",
              "75%                  12.858500  ...                 0.151000\n",
              "max                  15.482000  ...                 0.457000\n",
              "\n",
              "[8 rows x 8 columns]"
            ]
          },
          "metadata": {},
          "execution_count": 46
        }
      ]
    },
    {
      "cell_type": "code",
      "metadata": {
        "colab": {
          "base_uri": "https://localhost:8080/",
          "height": 320
        },
        "id": "lud_LT4ms_Vi",
        "outputId": "f5053866-af49-4998-8761-431ae68e511e"
      },
      "source": [
        "#Covarianza de df3\n",
        "df3.cov()"
      ],
      "execution_count": null,
      "outputs": [
        {
          "output_type": "execute_result",
          "data": {
            "text/html": [
              "<div>\n",
              "<style scoped>\n",
              "    .dataframe tbody tr th:only-of-type {\n",
              "        vertical-align: middle;\n",
              "    }\n",
              "\n",
              "    .dataframe tbody tr th {\n",
              "        vertical-align: top;\n",
              "    }\n",
              "\n",
              "    .dataframe thead th {\n",
              "        text-align: right;\n",
              "    }\n",
              "</style>\n",
              "<table border=\"1\" class=\"dataframe\">\n",
              "  <thead>\n",
              "    <tr style=\"text-align: right;\">\n",
              "      <th></th>\n",
              "      <th>Prom_Temperatura_Tierra</th>\n",
              "      <th>LandAverageTemperatureUncertainty</th>\n",
              "      <th>Max_Temperatura_Tierra</th>\n",
              "      <th>Inc_Max_Temperature_Tierra</th>\n",
              "      <th>Min_Temperatura_Tierra</th>\n",
              "      <th>Inc_Min_Temperatura_Tierra</th>\n",
              "      <th>Prom_Temperatura_TO</th>\n",
              "      <th>Inc_Prom_Temperatura_TO</th>\n",
              "    </tr>\n",
              "  </thead>\n",
              "  <tbody>\n",
              "    <tr>\n",
              "      <th>Prom_Temperatura_Tierra</th>\n",
              "      <td>18.174812</td>\n",
              "      <td>-0.136699</td>\n",
              "      <td>18.295532</td>\n",
              "      <td>-0.269670</td>\n",
              "      <td>17.639358</td>\n",
              "      <td>-0.318273</td>\n",
              "      <td>5.366879</td>\n",
              "      <td>-0.041226</td>\n",
              "    </tr>\n",
              "    <tr>\n",
              "      <th>LandAverageTemperatureUncertainty</th>\n",
              "      <td>-0.136699</td>\n",
              "      <td>0.050189</td>\n",
              "      <td>-0.128316</td>\n",
              "      <td>0.113270</td>\n",
              "      <td>-0.153681</td>\n",
              "      <td>0.088766</td>\n",
              "      <td>-0.059373</td>\n",
              "      <td>0.016031</td>\n",
              "    </tr>\n",
              "    <tr>\n",
              "      <th>Max_Temperatura_Tierra</th>\n",
              "      <td>18.295532</td>\n",
              "      <td>-0.128316</td>\n",
              "      <td>18.572471</td>\n",
              "      <td>-0.264779</td>\n",
              "      <td>17.791761</td>\n",
              "      <td>-0.307458</td>\n",
              "      <td>5.402156</td>\n",
              "      <td>-0.038234</td>\n",
              "    </tr>\n",
              "    <tr>\n",
              "      <th>Inc_Max_Temperature_Tierra</th>\n",
              "      <td>-0.269670</td>\n",
              "      <td>0.113270</td>\n",
              "      <td>-0.264779</td>\n",
              "      <td>0.340126</td>\n",
              "      <td>-0.298722</td>\n",
              "      <td>0.225875</td>\n",
              "      <td>-0.121412</td>\n",
              "      <td>0.036926</td>\n",
              "    </tr>\n",
              "    <tr>\n",
              "      <th>Min_Temperatura_Tierra</th>\n",
              "      <td>17.639358</td>\n",
              "      <td>-0.153681</td>\n",
              "      <td>17.791761</td>\n",
              "      <td>-0.298722</td>\n",
              "      <td>17.270967</td>\n",
              "      <td>-0.343721</td>\n",
              "      <td>5.222922</td>\n",
              "      <td>-0.047380</td>\n",
              "    </tr>\n",
              "    <tr>\n",
              "      <th>Inc_Min_Temperatura_Tierra</th>\n",
              "      <td>-0.318273</td>\n",
              "      <td>0.088766</td>\n",
              "      <td>-0.307458</td>\n",
              "      <td>0.225875</td>\n",
              "      <td>-0.343721</td>\n",
              "      <td>0.198771</td>\n",
              "      <td>-0.125960</td>\n",
              "      <td>0.028873</td>\n",
              "    </tr>\n",
              "    <tr>\n",
              "      <th>Prom_Temperatura_TO</th>\n",
              "      <td>5.366879</td>\n",
              "      <td>-0.059373</td>\n",
              "      <td>5.402156</td>\n",
              "      <td>-0.121412</td>\n",
              "      <td>5.222922</td>\n",
              "      <td>-0.125960</td>\n",
              "      <td>1.623313</td>\n",
              "      <td>-0.019039</td>\n",
              "    </tr>\n",
              "    <tr>\n",
              "      <th>Inc_Prom_Temperatura_TO</th>\n",
              "      <td>-0.041226</td>\n",
              "      <td>0.016031</td>\n",
              "      <td>-0.038234</td>\n",
              "      <td>0.036926</td>\n",
              "      <td>-0.047380</td>\n",
              "      <td>0.028873</td>\n",
              "      <td>-0.019039</td>\n",
              "      <td>0.005415</td>\n",
              "    </tr>\n",
              "  </tbody>\n",
              "</table>\n",
              "</div>"
            ],
            "text/plain": [
              "                                   Prom_Temperatura_Tierra  ...  Inc_Prom_Temperatura_TO\n",
              "Prom_Temperatura_Tierra                          18.174812  ...                -0.041226\n",
              "LandAverageTemperatureUncertainty                -0.136699  ...                 0.016031\n",
              "Max_Temperatura_Tierra                           18.295532  ...                -0.038234\n",
              "Inc_Max_Temperature_Tierra                       -0.269670  ...                 0.036926\n",
              "Min_Temperatura_Tierra                           17.639358  ...                -0.047380\n",
              "Inc_Min_Temperatura_Tierra                       -0.318273  ...                 0.028873\n",
              "Prom_Temperatura_TO                               5.366879  ...                -0.019039\n",
              "Inc_Prom_Temperatura_TO                          -0.041226  ...                 0.005415\n",
              "\n",
              "[8 rows x 8 columns]"
            ]
          },
          "metadata": {},
          "execution_count": 30
        }
      ]
    },
    {
      "cell_type": "code",
      "metadata": {
        "colab": {
          "base_uri": "https://localhost:8080/",
          "height": 320
        },
        "id": "2n3-Cg4ntErx",
        "outputId": "5da4c787-aaa5-4c5a-dde9-86be6e294960"
      },
      "source": [
        "#Correlación de df3\n",
        "df3.corr()"
      ],
      "execution_count": null,
      "outputs": [
        {
          "output_type": "execute_result",
          "data": {
            "text/html": [
              "<div>\n",
              "<style scoped>\n",
              "    .dataframe tbody tr th:only-of-type {\n",
              "        vertical-align: middle;\n",
              "    }\n",
              "\n",
              "    .dataframe tbody tr th {\n",
              "        vertical-align: top;\n",
              "    }\n",
              "\n",
              "    .dataframe thead th {\n",
              "        text-align: right;\n",
              "    }\n",
              "</style>\n",
              "<table border=\"1\" class=\"dataframe\">\n",
              "  <thead>\n",
              "    <tr style=\"text-align: right;\">\n",
              "      <th></th>\n",
              "      <th>Prom_Temperatura_Tierra</th>\n",
              "      <th>LandAverageTemperatureUncertainty</th>\n",
              "      <th>Max_Temperatura_Tierra</th>\n",
              "      <th>Inc_Max_Temperature_Tierra</th>\n",
              "      <th>Min_Temperatura_Tierra</th>\n",
              "      <th>Inc_Min_Temperatura_Tierra</th>\n",
              "      <th>Prom_Temperatura_TO</th>\n",
              "      <th>Inc_Prom_Temperatura_TO</th>\n",
              "    </tr>\n",
              "  </thead>\n",
              "  <tbody>\n",
              "    <tr>\n",
              "      <th>Prom_Temperatura_Tierra</th>\n",
              "      <td>1.000000</td>\n",
              "      <td>-0.143129</td>\n",
              "      <td>0.995807</td>\n",
              "      <td>-0.108462</td>\n",
              "      <td>0.995611</td>\n",
              "      <td>-0.167451</td>\n",
              "      <td>0.988066</td>\n",
              "      <td>-0.131412</td>\n",
              "    </tr>\n",
              "    <tr>\n",
              "      <th>LandAverageTemperatureUncertainty</th>\n",
              "      <td>-0.143129</td>\n",
              "      <td>1.000000</td>\n",
              "      <td>-0.132905</td>\n",
              "      <td>0.866944</td>\n",
              "      <td>-0.165066</td>\n",
              "      <td>0.888717</td>\n",
              "      <td>-0.208008</td>\n",
              "      <td>0.972405</td>\n",
              "    </tr>\n",
              "    <tr>\n",
              "      <th>Max_Temperatura_Tierra</th>\n",
              "      <td>0.995807</td>\n",
              "      <td>-0.132905</td>\n",
              "      <td>1.000000</td>\n",
              "      <td>-0.105349</td>\n",
              "      <td>0.993404</td>\n",
              "      <td>-0.160020</td>\n",
              "      <td>0.983855</td>\n",
              "      <td>-0.120563</td>\n",
              "    </tr>\n",
              "    <tr>\n",
              "      <th>Inc_Max_Temperature_Tierra</th>\n",
              "      <td>-0.108462</td>\n",
              "      <td>0.866944</td>\n",
              "      <td>-0.105349</td>\n",
              "      <td>1.000000</td>\n",
              "      <td>-0.123251</td>\n",
              "      <td>0.868702</td>\n",
              "      <td>-0.163396</td>\n",
              "      <td>0.860425</td>\n",
              "    </tr>\n",
              "    <tr>\n",
              "      <th>Min_Temperatura_Tierra</th>\n",
              "      <td>0.995611</td>\n",
              "      <td>-0.165066</td>\n",
              "      <td>0.993404</td>\n",
              "      <td>-0.123251</td>\n",
              "      <td>1.000000</td>\n",
              "      <td>-0.185512</td>\n",
              "      <td>0.986402</td>\n",
              "      <td>-0.154931</td>\n",
              "    </tr>\n",
              "    <tr>\n",
              "      <th>Inc_Min_Temperatura_Tierra</th>\n",
              "      <td>-0.167451</td>\n",
              "      <td>0.888717</td>\n",
              "      <td>-0.160020</td>\n",
              "      <td>0.868702</td>\n",
              "      <td>-0.185512</td>\n",
              "      <td>1.000000</td>\n",
              "      <td>-0.221746</td>\n",
              "      <td>0.880062</td>\n",
              "    </tr>\n",
              "    <tr>\n",
              "      <th>Prom_Temperatura_TO</th>\n",
              "      <td>0.988066</td>\n",
              "      <td>-0.208008</td>\n",
              "      <td>0.983855</td>\n",
              "      <td>-0.163396</td>\n",
              "      <td>0.986402</td>\n",
              "      <td>-0.221746</td>\n",
              "      <td>1.000000</td>\n",
              "      <td>-0.203072</td>\n",
              "    </tr>\n",
              "    <tr>\n",
              "      <th>Inc_Prom_Temperatura_TO</th>\n",
              "      <td>-0.131412</td>\n",
              "      <td>0.972405</td>\n",
              "      <td>-0.120563</td>\n",
              "      <td>0.860425</td>\n",
              "      <td>-0.154931</td>\n",
              "      <td>0.880062</td>\n",
              "      <td>-0.203072</td>\n",
              "      <td>1.000000</td>\n",
              "    </tr>\n",
              "  </tbody>\n",
              "</table>\n",
              "</div>"
            ],
            "text/plain": [
              "                                   Prom_Temperatura_Tierra  ...  Inc_Prom_Temperatura_TO\n",
              "Prom_Temperatura_Tierra                           1.000000  ...                -0.131412\n",
              "LandAverageTemperatureUncertainty                -0.143129  ...                 0.972405\n",
              "Max_Temperatura_Tierra                            0.995807  ...                -0.120563\n",
              "Inc_Max_Temperature_Tierra                       -0.108462  ...                 0.860425\n",
              "Min_Temperatura_Tierra                            0.995611  ...                -0.154931\n",
              "Inc_Min_Temperatura_Tierra                       -0.167451  ...                 0.880062\n",
              "Prom_Temperatura_TO                               0.988066  ...                -0.203072\n",
              "Inc_Prom_Temperatura_TO                          -0.131412  ...                 1.000000\n",
              "\n",
              "[8 rows x 8 columns]"
            ]
          },
          "metadata": {},
          "execution_count": 31
        }
      ]
    },
    {
      "cell_type": "markdown",
      "metadata": {
        "id": "h9uGf9sWdyCT"
      },
      "source": [
        "**Conclusión para estadística básica de los datos**\n",
        "\n",
        "Con los resultados se observa que en cuestión al promedio de las temperaturas promedio en la Tierra es de 8.57 con una desviación estándar de 4.26. Dentro de las temperaturas máximas registradas, la mayor es de 21 mientras que la menor es de 5.9, con una desviación estándar de 4.3. Para las temperaturas mínimas registradas, la mayor es de 9.71 mientras que la menor es de -5.4, con una desviación estándar de 4.15.  \n",
        "\n",
        "Con la información brindada por los cuartíles, se sabe que el 75% de las temperaturas promedio de la Tierra son menores a 12.85. Para las temperaturas máximas el 75% de los datos son menores a 18.45. Al igual, para las temperaturas mínimas el 75% de los datos son menores a 6.77. \n",
        "\n",
        "Con esto, se observa que las temperaturas en la Tierra varían en aproximadamente 4 unidades, tanto para las temperaturas promedio,como para las temperaturas máximas y mínimas. Asimismo, brinda información del comportamiento de las temperaturas en la Tierra, para así hacer referencia a ellas en análisis posteriores. \n",
        "\n",
        "Para la correlación, nos percatamos de que la temperatura promedio aparenta estar relacionada linealmente de manera positiva con las temperaturas máximas, mínimas y las temperaturas promedio de Tierra y océanos.\n",
        "\n",
        "Con la covarianza, podemos confirmar que se tiene una relación lineal fuerte éstas mismas variables."
      ]
    },
    {
      "cell_type": "markdown",
      "metadata": {
        "id": "uxfoFgDRBLCz"
      },
      "source": [
        "###**9. Gráficas**"
      ]
    },
    {
      "cell_type": "markdown",
      "metadata": {
        "id": "coHXqYfcFeG1"
      },
      "source": [
        "Puesto que el objetivo principal es conocer el comportamiento del cambio climático en diferentes paises en base a sus temperaturas promedio, se tiene lo siguiente.\n",
        "\n",
        "Se realizará una gráfica de Violín para conocer la concentración de las temperaturas promedio en los países de interés, los cuales son: Argentina, India, México, Estados Unidos y Rusia. "
      ]
    },
    {
      "cell_type": "code",
      "metadata": {
        "colab": {
          "base_uri": "https://localhost:8080/",
          "height": 313
        },
        "id": "bcpxtxr-BHx1",
        "outputId": "bcf2f682-5a4c-468a-88f8-4d57cd358118"
      },
      "source": [
        "sns.violinplot(\n",
        "    x='Pais',\n",
        "    y='Promedio_Temperatura',\n",
        "    data=paises[paises.Pais.isin(paises.Pais.value_counts()[:5].index)]\n",
        ")\n",
        "plt.title(\"Promedio de Temperatura por País\")"
      ],
      "execution_count": 135,
      "outputs": [
        {
          "output_type": "execute_result",
          "data": {
            "text/plain": [
              "Text(0.5, 1.0, 'Promedio de Temperatura por País')"
            ]
          },
          "metadata": {},
          "execution_count": 135
        },
        {
          "output_type": "display_data",
          "data": {
            "image/png": "[encoded data removed]",
            "text/plain": [
              "<Figure size 432x288 with 1 Axes>"
            ]
          },
          "metadata": {
            "needs_background": "light"
          }
        }
      ]
    },
    {
      "cell_type": "markdown",
      "metadata": {
        "id": "446KsoxvF_gv"
      },
      "source": [
        "**Conclusión de gráfica de Violín**\n",
        "\n",
        "Se observa que las temperaturas promedio en los paises de Argentina, India y México son similares entre ellas. Asimismo, para dichos paises se encuentra el patrón que las temperaturas promedio tienden a ser más frecuente en temperaturas más cálidas. En el caso de Rusia y Estados Unidos se observa que no existe un patrón de concentración en alguna temperatura, además su rango es mayor, en donde Rusia tiene temperaturas menores a -30 hasta mayores a 20, mientras que Estados Unidos tiene en un rango de -10 hasta 20 grados. "
      ]
    },
    {
      "cell_type": "markdown",
      "metadata": {
        "id": "MMqTUOvqShKI"
      },
      "source": [
        "Continuando con un gráfico Boxplot para los mismos paises con el fin de visualizar la dispersión de sus temperaturas promedio, se tiene lo siguiente: "
      ]
    },
    {
      "cell_type": "code",
      "metadata": {
        "colab": {
          "base_uri": "https://localhost:8080/",
          "height": 475
        },
        "id": "Y2CQ5OXWCopG",
        "outputId": "86bf671a-42c1-458e-b2b4-7c71e1b20028"
      },
      "source": [
        "mdata = pd.melt(paises,id_vars = \"Pais\",value_vars = ['Promedio_Temperatura', 'Max', 'Min'])\n",
        "plt.figure(figsize = (20,10))\n",
        "sns.boxplot(x = \"variable\", y = \"value\", hue=\"Pais\",data= mdata)\n",
        "plt.xlabel(\"Variables\")\n",
        "plt.ylabel(\"Temperatura\")\n",
        "\n",
        "plt.title(\"Temperaturas Promedio, Máximas y Mínimas por País\")\n",
        "plt.show()"
      ],
      "execution_count": 136,
      "outputs": [
        {
          "output_type": "display_data",
          "data": {
            "image/png": "[encoded data removed]",
            "text/plain": [
              "<Figure size 1440x720 with 1 Axes>"
            ]
          },
          "metadata": {
            "needs_background": "light"
          }
        }
      ]
    },
    {
      "cell_type": "markdown",
      "metadata": {
        "id": "aL_W9uq1Sszy"
      },
      "source": [
        "**Conclusión para gráfico Boxplot**\n",
        "\n",
        "Con el gráfico anterior, observamos que las temperaturas promedio de Argentina, India y México no varian tanto a comparación de las de Rusia y Estados Unidos. "
      ]
    },
    {
      "cell_type": "markdown",
      "metadata": {
        "id": "36HbubgIHt5p"
      },
      "source": [
        "Por consiguiente, con las gráficas anteriores observamos un comportamiendo similar para los países de Argentina y México. Enfocándonos en las temperaturas promedio de dichos países, mediante un Histograma, se tiene lo siguiente: "
      ]
    },
    {
      "cell_type": "code",
      "metadata": {
        "colab": {
          "base_uri": "https://localhost:8080/",
          "height": 295
        },
        "id": "hg-AW3TTClYx",
        "outputId": "d73d68bd-8c8f-4f20-a8df-30f8a527a921"
      },
      "source": [
        "#Histograma Multivariado\n",
        "m = plt.hist(paises[paises[\"Pais\"] == \"Argentina\"].Promedio_Temperatura,bins=30,fc = (1,0,0,0.5),label = \"Argentina\")\n",
        "b = plt.hist(paises[paises[\"Pais\"] == \"Mexico\"].Promedio_Temperatura,bins=30,fc = (0,1,0,0.5),label = \"Mexico\")\n",
        "plt.legend()\n",
        "plt.xlabel(\"Temperatura Promedio\")\n",
        "plt.ylabel(\"Frecuencia\")\n",
        "plt.title(\"Histograma de Temperaturas Promedio\")\n",
        "plt.show()"
      ],
      "execution_count": 137,
      "outputs": [
        {
          "output_type": "display_data",
          "data": {
            "image/png": "[encoded data removed]",
            "text/plain": [
              "<Figure size 432x288 with 1 Axes>"
            ]
          },
          "metadata": {
            "needs_background": "light"
          }
        }
      ]
    },
    {
      "cell_type": "markdown",
      "metadata": {
        "id": "rHOD_ooiJ-YN"
      },
      "source": [
        "**Conclusión para Histograma**\n",
        "\n",
        "Con la gráfica anterior observamos como las temperaturas de Argentina y México difieren. Para el caso de Argentina se tienen registros de temperaturas de 5 hasta aproximadamente 23, mientras que para México se tienen registros desde aproximadamente 12 hasta mayores a 25. Igualmente la temperatura promedio más frecuente en Argentina es 20 mientras que para México es 25. \n",
        "\n",
        "Con esto, observamos que las temperaturas promedio de Argentina son menores que las de México. "
      ]
    },
    {
      "cell_type": "markdown",
      "metadata": {
        "id": "RqfPhVI6T-d4"
      },
      "source": [
        "A continuación, se realizarán dos gráficas tipo Hexplot para comparar las temperaturas máximas con las temperaturas promedio de todos los países y las temperaturas máximas con las temperaturas promedio de México, con esto se tiene:"
      ]
    },
    {
      "cell_type": "code",
      "metadata": {
        "colab": {
          "base_uri": "https://localhost:8080/",
          "height": 541
        },
        "id": "8jaoCJMoCIvX",
        "outputId": "68e6abd6-15b4-49a3-c7c7-92a3e6a54295"
      },
      "source": [
        "#Hexplot\n",
        "df2[df2['Max'] < 50].plot.hexbin(x='Promedio_Temperatura', y='Max', gridsize=15)\n",
        "plt.title(\"Hexplot temperaturas máximas vs temperaturas promedio de países\")\n",
        "#plt.xlabel('Temperatura promedio')\n",
        "plt.ylabel('Temperatura máxima')\n",
        "Mex[Mex['Max'] < 50].plot.hexbin(x='Promedio_Temperatura', y='Max', gridsize=15)\n",
        "plt.title(\"Hexplot temperaturas máximas vs temperaturas promedio en México\")\n",
        "#plt.xlabel('Temperatura promedio')\n",
        "plt.ylabel('Temperatura máxima')"
      ],
      "execution_count": null,
      "outputs": [
        {
          "output_type": "execute_result",
          "data": {
            "text/plain": [
              "Text(0, 0.5, 'Temperatura máxima')"
            ]
          },
          "metadata": {},
          "execution_count": 28
        },
        {
          "output_type": "display_data",
          "data": {
            "image/png": "[encoded data removed]",
            "text/plain": [
              "<Figure size 432x288 with 2 Axes>"
            ]
          },
          "metadata": {
            "needs_background": "light"
          }
        },
        {
          "output_type": "display_data",
          "data": {
            "image/png": "[encoded data removed]",
            "text/plain": [
              "<Figure size 432x288 with 2 Axes>"
            ]
          },
          "metadata": {
            "needs_background": "light"
          }
        }
      ]
    },
    {
      "cell_type": "markdown",
      "metadata": {
        "id": "eLbaC031U8VA"
      },
      "source": [
        "**Conclusión para gráfica Hexplot**\n",
        "\n",
        "Con lo anterior parece haber una relación lineal de las temperaturas máximas con la temperatura promedio en los países asi como en México. Asimismo, hay una mayor frecuencia de registros en las temperaturas de (25-30) para los países mientras que para México se cierra en aproximadamente 25. "
      ]
    },
    {
      "cell_type": "markdown",
      "metadata": {
        "id": "RE3HoMzgXH9T"
      },
      "source": [
        "**La importancia en la relación entre las temperaturas globales de la Tierra y del océano**\n",
        "\n",
        "La relación que existe entre las temperaturas del océano y de la Tierra es de vital importancia conocer.\n",
        "Esto ya que, es sustancial analizar el impacto que puede generarse por el aumento de las temperaturas promedio en alguno de los medios.\n",
        "Puesto que, si se sabe que las temperaturas de la Tierra se espera vayan a la alza, poder tomar medidas ante el comportamiendo esperado en las temperaturas del océano."
      ]
    },
    {
      "cell_type": "markdown",
      "metadata": {
        "id": "j6OsqPE8MRso"
      },
      "source": [
        "Continuando con el objetivo secundario, el cual es \"generar pronósticos de los impactos del cambio climático en países de interés y de manera global\", es útil conocer el efecto del cambio climático. Con el fin de conocer su impacto, es preciso identificar la relación que existe entre las temperaturas promedio en Tierra y en océano.\n",
        "\n",
        "Por consencuencia, se realizará un gráfico tipo Jointplot-hexagonal con el fin de observar la relación de las temperaturas promedio en Tierra con la temperatura promedio en Tierra y océano. "
      ]
    },
    {
      "cell_type": "code",
      "metadata": {
        "colab": {
          "base_uri": "https://localhost:8080/",
          "height": 461
        },
        "id": "ECi_vscyCec4",
        "outputId": "edca0732-e6e8-4651-ac0c-b602e7f58c6f"
      },
      "source": [
        "sns.jointplot(x='Prom_Temperatura_TO', y='Prom_Temperatura_Tierra', data=df3[df3['Prom_Temperatura_TO'] < 100], kind='hex', \n",
        "              gridsize=20)\n",
        "plt.suptitle(\"Jointplot tipo hexagonal de temperatura prom. en Tierra vs temperatura prom. en Tierra y Oceano\")\n",
        "plt.subplots_adjust(top=0.90)\n",
        "plt.xlabel('Temperatura prom. en Tierra y Oceano')\n",
        "plt.ylabel('Temperatura prom. en Tierra')"
      ],
      "execution_count": null,
      "outputs": [
        {
          "output_type": "execute_result",
          "data": {
            "text/plain": [
              "Text(27.125, 0.5, 'Temperatura prom. en Tierra')"
            ]
          },
          "metadata": {},
          "execution_count": 29
        },
        {
          "output_type": "display_data",
          "data": {
            "image/png": "[encoded data removed]",
            "text/plain": [
              "<Figure size 432x432 with 3 Axes>"
            ]
          },
          "metadata": {
            "needs_background": "light"
          }
        }
      ]
    },
    {
      "cell_type": "markdown",
      "metadata": {
        "id": "-meH6WoLPxOe"
      },
      "source": [
        "**Conclusión para gráfico Jointplot-hexagonal**\n",
        "\n",
        "Pareciera que existe una relación lineal entre las temperaturas promedio en Tierra y las temperaturas promedio en Tierra y océano. Con ello, indica que al aumentar las temperaturas en la Tierra, tambien aumentaran en el océano. Asimismo, existen una mayor frecuencia para las temperaturas entre 12-14 para Tierra y 16-17 para Tierra y océano. "
      ]
    },
    {
      "cell_type": "markdown",
      "metadata": {
        "id": "a19xeMfLXBm1"
      },
      "source": [
        "**Conclusión para los objetivos y planteamiento del problema**\n",
        "\n",
        "Se tiene que los temperaturas en los países de interés (Argentina, India, México, Estados Unidos y Rusia) se comportan de manera distinta. En Argentina, India y México sus temperaturas tienen un comportamiento similar, mientras que en Estados Unidos y Rusia éstas varían en mayor magnitud. \n",
        "\n",
        "Al igual, se observa que pareciera haber una relación lineal entre las temperaturas promedio de la Tierra y el océano. Por ello, es de vital importancia analizar las temperaturas de ambos medios, pues son afectadas de manera recíproca. \n"
      ]
    },
    {
      "cell_type": "markdown",
      "metadata": {
        "id": "fszmxj1Oxq9X"
      },
      "source": [
        "**Conclusión Global**\n",
        "\n",
        "Para facilitar la visualización de las series de tiempo de nuestros países de interés, reducimos los registros a que sean registros anuales, para una más clara representación. Además de esto, nos centramos en nuestros \"países de interés\", para reducir los tiempos de análisis y obtener conclusiones más concretas.\n",
        "\n",
        "Partiendo de la visualización de las bases de datos, concluímos que con las herramientas que tenemos es posible analizar el impacto del cambio climático en nuestros países de interés, al igual que generar pronósticos de los impactos de los cambios climáticos de manera local y global. \n",
        "\n",
        "\n"
      ]
    }
  ]
}