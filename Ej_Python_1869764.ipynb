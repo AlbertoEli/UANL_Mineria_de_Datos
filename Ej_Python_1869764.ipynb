{
  "nbformat": 4,
  "nbformat_minor": 0,
  "metadata": {
    "colab": {
      "name": "Ej_Python_1869764.ipynb",
      "provenance": [],
      "collapsed_sections": []
    },
    "kernelspec": {
      "name": "python3",
      "display_name": "Python 3"
    },
    "language_info": {
      "name": "python"
    }
  },
  "cells": [
    {
      "cell_type": "markdown",
      "metadata": {
        "id": "sEU_OmhkwYPK"
      },
      "source": [
        "EJERCICIO 1"
      ]
    },
    {
      "cell_type": "code",
      "metadata": {
        "id": "Cie5wtAlwO1X",
        "colab": {
          "base_uri": "https://localhost:8080/",
          "height": 35
        },
        "outputId": "7e526329-b817-44d6-f1eb-203b2b4c91ca"
      },
      "source": [
        "nom = \"Alberto Elizondo Villarreal\"\n",
        "mat = \"1869764\"\n",
        "\"  \".join([nom, mat])"
      ],
      "execution_count": 2,
      "outputs": [
        {
          "output_type": "execute_result",
          "data": {
            "application/vnd.google.colaboratory.intrinsic+json": {
              "type": "string"
            },
            "text/plain": [
              "'Alberto Elizondo Villarreal  1869764'"
            ]
          },
          "metadata": {},
          "execution_count": 2
        }
      ]
    },
    {
      "cell_type": "markdown",
      "metadata": {
        "id": "XLJujtVCxNQu"
      },
      "source": [
        "EJERCICIO 2"
      ]
    },
    {
      "cell_type": "code",
      "metadata": {
        "id": "SMY5IdZpxLx_",
        "colab": {
          "base_uri": "https://localhost:8080/"
        },
        "outputId": "fcdba7ca-f01a-4ff4-c39d-28c0de799bda"
      },
      "source": [
        "import sys\n",
        "print(\"Calculadora\")\n",
        "#Numeros de la operacion\n",
        "n1 = int(input(\"Introduce el primer número:\" ))\n",
        "n2 = int(input(\"Introduce el segundo número:\" ))\n",
        "\n",
        "#Proceso de eleccion de operacion\n",
        "p1 = 0\n",
        "print(\"Qué operación quiere realizar?\")\n",
        "while p1 < 1 or p1 > 5 :\n",
        "  print(\"1. +\")\n",
        "  print(\"2. -\")\n",
        "  print(\"3. *\")\n",
        "  print(\"4. /\")\n",
        "  print(\"5. a^b\")\n",
        "  p1 = int(input(\"Selecciona el numero de la operacion deseada: \"))\n",
        "  if p1 < 1 or p1 > 5 :\n",
        "    print(\"Opcion no disponible\")\n",
        "  if p1 == 4 and n2 == 0 :\n",
        "    print(\"Resultado Indefinido\")\n",
        "    sys.exit()\n",
        "  \n",
        "#Proceso de Operacion\n",
        "if p1 == 1 :\n",
        "  res = n1 + n2\n",
        "elif p1 == 2 :\n",
        "  res = n1 - n2\n",
        "elif p1 == 3 :\n",
        "  res = n1 * n2\n",
        "elif p1 == 4 :\n",
        "  res = n1 / n2\n",
        "elif p1 == 5 :\n",
        "  res = n1**n2\n",
        "\n",
        "#Imprimir Resultado\n",
        "print(\"Resultado: \",res)\n"
      ],
      "execution_count": 3,
      "outputs": [
        {
          "output_type": "stream",
          "text": [
            "Calculadora\n",
            "Introduce el primer número:3\n",
            "Introduce el segundo número:5\n",
            "Qué operación quiere realizar?\n",
            "1. +\n",
            "2. -\n",
            "3. *\n",
            "4. /\n",
            "5. a^b\n",
            "Selecciona el numero de la operacion deseada: 3\n",
            "Resultado:  15\n"
          ],
          "name": "stdout"
        }
      ]
    },
    {
      "cell_type": "markdown",
      "metadata": {
        "id": "HSYptD6WWRtR"
      },
      "source": [
        "EJERCICIO 3"
      ]
    },
    {
      "cell_type": "code",
      "metadata": {
        "id": "BVXi5TPNWQvn",
        "colab": {
          "base_uri": "https://localhost:8080/"
        },
        "outputId": "597674cb-0bce-4224-dfe2-35f2591e5a00"
      },
      "source": [
        "#Arreglo vacio de tamano 10\n",
        "variable = [0] *10\n",
        "\n",
        "#Llenar Arreglo\n",
        "i = 0\n",
        "while i < 10 :\n",
        "  variable[i] = 3 * (i+1)\n",
        "  i = i+1\n",
        "print(\"Multiplos del 3: \",variable)\n",
        "\n",
        "#Suma\n",
        "tot = 0\n",
        "for n in variable :\n",
        "  tot = tot + n\n",
        "print(\"Suma de los Multiplos de 3: \",tot)"
      ],
      "execution_count": 4,
      "outputs": [
        {
          "output_type": "stream",
          "text": [
            "Multiplos del 3:  [3, 6, 9, 12, 15, 18, 21, 24, 27, 30]\n",
            "Suma de los Multiplos de 3:  165\n"
          ],
          "name": "stdout"
        }
      ]
    },
    {
      "cell_type": "markdown",
      "metadata": {
        "id": "Zw5HvskmZua7"
      },
      "source": [
        "EJERCICIO 4"
      ]
    },
    {
      "cell_type": "code",
      "metadata": {
        "id": "ZSuODx1bZzez",
        "colab": {
          "base_uri": "https://localhost:8080/"
        },
        "outputId": "cafc607b-5e70-4ca9-c49b-0028ca1c8288"
      },
      "source": [
        "  x = int(input(\"Ingrese un numero: \"))\n",
        "  \n",
        "  if x % 2 == 0: \n",
        "    print(\"Numero par\")\n",
        "  else : \n",
        "    print(\"Numero impar\")\n",
        "\n",
        "n = 0\n",
        "  for i in range(2,x+1):\n",
        "    if x % i == 0:\n",
        "      n += 1\n",
        "      #print(\"Divisible por: \",i)\n",
        "\n",
        "  if n == 1:\n",
        "    print(\"Numero primo\")\n",
        "  else:\n",
        "    print(\"Numero no primo\")\n"
      ],
      "execution_count": 5,
      "outputs": [
        {
          "output_type": "stream",
          "text": [
            "Ingrese un numero: 79\n",
            "Numero impar\n",
            "Numero primo\n"
          ],
          "name": "stdout"
        }
      ]
    },
    {
      "cell_type": "markdown",
      "metadata": {
        "id": "vTvGRFkSe1E8"
      },
      "source": [
        "EJERCICIO 5"
      ]
    },
    {
      "cell_type": "code",
      "metadata": {
        "id": "M8-vsmyme0tm",
        "colab": {
          "base_uri": "https://localhost:8080/"
        },
        "outputId": "f4120bd0-4cd6-4526-b53d-1a6d6add7aba"
      },
      "source": [
        "#Utilizando diferentes clases en python, crea una calculadora con los operadores básicos de suma, resta, multiplicación, división, y exponente.\n",
        "import sys\n",
        "print(\"Calculadora\")\n",
        "#Numeros de la operacion\n",
        "n1 = float(input(\"Introduce el primer número:\" ))\n",
        "n2 = float(input(\"Introduce el segundo número:\" ))\n",
        "\n",
        "#Proceso de eleccion de operacion\n",
        "p1 = 0\n",
        "p2 = 0\n",
        "print(\"Qué operación quiere realizar?\")\n",
        "while p1 < 1 or p1 > 5 :\n",
        "  print(\"1. +\")\n",
        "  print(\"2. -\")\n",
        "  print(\"3. *\")\n",
        "  print(\"4. /\")\n",
        "  print(\"5. a^b\")\n",
        "  while p2 != 1 :\n",
        "    p1 = int(input(\"Selecciona el numero de la operacion deseada: \"))\n",
        "    p2 = int(input(\"Estas seguro que es la operacion deseada? 1.Si / 2.No : \"))\n",
        "  if p1 < 1 or p1 > 5 :\n",
        "    print(\"Opcion no disponible\")\n",
        "  if p1 == 4 and n2 == 0 :\n",
        "    print(\"Resultado Indefinido\")\n",
        "    sys.exit()\n",
        "  \n",
        "#Proceso de Operacion\n",
        "if p1 == 1 :\n",
        "  res = n1 + n2\n",
        "elif p1 == 2 :\n",
        "  res = n1 - n2\n",
        "elif p1 == 3 :\n",
        "  res = n1 * n2\n",
        "elif p1 == 4 :\n",
        "  res = n1 / n2\n",
        "elif p1 == 5 :\n",
        "  res = n1**n2\n",
        "\n",
        "#Imprimir Resultado\n",
        "print(\"Resultado: \",res)\n",
        "  "
      ],
      "execution_count": 6,
      "outputs": [
        {
          "output_type": "stream",
          "text": [
            "Calculadora\n",
            "Introduce el primer número:4.5\n",
            "Introduce el segundo número:6\n",
            "Qué operación quiere realizar?\n",
            "1. +\n",
            "2. -\n",
            "3. *\n",
            "4. /\n",
            "5. a^b\n",
            "Selecciona el numero de la operacion deseada: 3\n",
            "Estas seguro que es la operacion deseada? 1.Si / 2.No : 2\n",
            "Selecciona el numero de la operacion deseada: 5\n",
            "Estas seguro que es la operacion deseada? 1.Si / 2.No : 1\n",
            "Resultado:  8303.765625\n"
          ],
          "name": "stdout"
        }
      ]
    },
    {
      "cell_type": "markdown",
      "metadata": {
        "id": "EXcu3Kr-AFla"
      },
      "source": [
        "Ejercicios con Estructura Básica de Python"
      ]
    },
    {
      "cell_type": "markdown",
      "metadata": {
        "id": "_GZeFbugCl_s"
      },
      "source": [
        "Tuplas"
      ]
    },
    {
      "cell_type": "code",
      "metadata": {
        "id": "GAGpR7A2Cp6o",
        "colab": {
          "base_uri": "https://localhost:8080/"
        },
        "outputId": "fdc9b9ff-5f5c-44d8-e7b0-d67d130535c5"
      },
      "source": [
        "#Crear una variable flotante, integer, boleana y compleja e imprimir el tipo de variable que es.\n",
        "print(\"VARIABLES:\")\n",
        "flo = 4.25\n",
        "print(\"Variable flo: \",flo)\n",
        "print(type(flo))\n",
        "i = 5\n",
        "print(\"Variable i: \",i)\n",
        "print(type(i))\n",
        "bol = True\n",
        "print(\"Variable bol: \",bol)\n",
        "print(type(bol))\n",
        "c = complex(3,5)\n",
        "print(\"Variable c: \",c)\n",
        "print(type(c))\n",
        "print(\" \")\n",
        "\n",
        "\n",
        "#Crear una tupla con valores enteros imprimir el primer y ultimo valor.\n",
        "print(\"TUPLA\")\n",
        "t1 = (3,2,1,5,4)\n",
        "print(\"Tupla: \",t1)\n",
        "print(\"Primer Valor: \",t1[0])\n",
        "print(\"Ultimo Valor: \",t1[-1])\n",
        "\n",
        "\n",
        "#Añadir 3 valores de string a la tupla.\n",
        "t1 = t1.__add__((\"Hugo\",\"Paco\",\"Luis\"))\n",
        "print(\"Nueva Tupla: \",t1)\n",
        "print(\" \")\n",
        "\n",
        "#Verificar si una variable existe dentro de la tupla.\n",
        "print(\"VERIFICAR SI LAS VARIABLES EXISTE DENTRO DE LA TUPLA\")\n",
        "\n",
        "def verificar(ver):\n",
        "  if ver == True:\n",
        "    print(\"Si existe en la Tupla\")\n",
        "  else:\n",
        "    print(\"No existe en la Tupla\")\n",
        "\n",
        "print(\"VARIABLE 'Flo':\")\n",
        "ver = flo in t1\n",
        "verificar(ver)\n",
        "\n",
        "print(\"VARIABLE 'i':\")\n",
        "ver = i in t1\n",
        "verificar(ver)\n",
        "\n",
        "print(\"VARIABLE 'bol':\")\n",
        "ver = bol in t1\n",
        "verificar(ver)\n",
        "\n",
        "print(\"VARIABLE 'c'':\")\n",
        "ver = c in t1\n",
        "verificar(ver)"
      ],
      "execution_count": 13,
      "outputs": [
        {
          "output_type": "stream",
          "text": [
            "VARIABLES:\n",
            "Variable flo:  4.25\n",
            "<class 'float'>\n",
            "Variable i:  5\n",
            "<class 'int'>\n",
            "Variable bol:  True\n",
            "<class 'bool'>\n",
            "Variable c:  (3+5j)\n",
            "<class 'complex'>\n",
            " \n",
            "TUPLA\n",
            "Tupla:  (3, 2, 1, 5, 4)\n",
            "Primer Valor:  3\n",
            "Ultimo Valor:  4\n",
            "Nueva Tupla:  (3, 2, 1, 5, 4, 'Hugo', 'Paco', 'Luis')\n",
            " \n",
            "VERIFICAR SI LAS VARIABLES EXISTE DENTRO DE LA TUPLA\n",
            "VARIABLE 'Flo':\n",
            "No existe en la Tupla\n",
            "VARIABLE 'i':\n",
            "Si existe en la Tupla\n",
            "VARIABLE 'bol':\n",
            "Si existe en la Tupla\n",
            "VARIABLE 'c'':\n",
            "No existe en la Tupla\n"
          ],
          "name": "stdout"
        }
      ]
    },
    {
      "cell_type": "markdown",
      "metadata": {
        "id": "bp0M4yMUGfvc"
      },
      "source": [
        "Listas"
      ]
    },
    {
      "cell_type": "code",
      "metadata": {
        "id": "b4oV09yqGjDC",
        "colab": {
          "base_uri": "https://localhost:8080/"
        },
        "outputId": "d54394f8-f235-4a61-f49f-7317a3b6ac37"
      },
      "source": [
        "import  random\n",
        "lista = [0] * 40\n",
        "for i in range(40): \n",
        "  lista[i] = random.randint(0,1000)\n",
        "lista\n",
        "\n",
        "\n",
        "#Funcion para crear la lista par y la impar\n",
        "def separacion():\n",
        "  lista_par = [0]\n",
        "  lista_impar = [0]\n",
        "  for i in range(40):\n",
        "    if lista[i]%2 == 0:\n",
        "      lista_par.append(lista[i])\n",
        "    else:\n",
        "      lista_impar.append(lista[i])\n",
        "  #Eliminar el 0 con el que empieza la lista\n",
        "  del lista_par[0]\n",
        "  del lista_impar[0]\n",
        "  print(\"Lista Original: \",lista)\n",
        "  print(\"Lista Par: \",lista_par)\n",
        "  print(\"Lista impar: \",lista_impar)\n",
        "  return lista_par,lista_impar;\n",
        "\n",
        "lista_par,lista_impar = separacion()\n",
        "\n",
        "\n",
        "#Longitud de las listas\n",
        "lenpar = len(lista_par)\n",
        "lenimpar = len(lista_impar)\n",
        "print(\"Total de numeros pares: \",lenpar)\n",
        "print(\"Total de numeros impares: \",lenimpar)\n",
        "\n",
        "\n",
        "#Ordenar las listas\n",
        "  #Par de mayor a menor\n",
        "lista_par.sort()\n",
        "lista_par.reverse()\n",
        "  #impar de menor a mayor\n",
        "lista_impar.sort()\n",
        "\n",
        "\n",
        "#Imprimir nuevas listas\n",
        "print(\"NUEVAS LISTAS\")\n",
        "print(\"Lista par (Mayor a menor):\", lista_par)\n",
        "print(\"Lista Impar (Menor a Mayor): \",lista_impar)\n",
        "\n",
        "\n",
        "#4 funciones de listas\n",
        "lista.sort() #Acomodrlas de menor a mayor\n",
        "lista.reverse() #Acomodarla de mayor a menor\n",
        "lista.pop() #Quitarle el ultimo numero\n",
        "lista.clear() #Limpiar toda la lista"
      ],
      "execution_count": 1,
      "outputs": [
        {
          "output_type": "stream",
          "text": [
            "Lista Original:  [135, 796, 302, 775, 22, 563, 544, 600, 821, 627, 941, 434, 291, 337, 955, 312, 15, 723, 672, 280, 87, 229, 321, 660, 694, 271, 481, 81, 809, 91, 438, 498, 39, 33, 617, 95, 134, 475, 307, 835]\n",
            "Lista Par:  [796, 302, 22, 544, 600, 434, 312, 672, 280, 660, 694, 438, 498, 134]\n",
            "Lista impar:  [135, 775, 563, 821, 627, 941, 291, 337, 955, 15, 723, 87, 229, 321, 271, 481, 81, 809, 91, 39, 33, 617, 95, 475, 307, 835]\n",
            "Total de numeros pares:  14\n",
            "Total de numeros impares:  26\n",
            "NUEVAS LISTAS\n",
            "Lista par (Mayor a menor): [796, 694, 672, 660, 600, 544, 498, 438, 434, 312, 302, 280, 134, 22]\n",
            "Lista Impar (Menor a Mayor):  [15, 33, 39, 81, 87, 91, 95, 135, 229, 271, 291, 307, 321, 337, 475, 481, 563, 617, 627, 723, 775, 809, 821, 835, 941, 955]\n"
          ],
          "name": "stdout"
        }
      ]
    },
    {
      "cell_type": "markdown",
      "metadata": {
        "id": "3LfMQUGPd4sJ"
      },
      "source": [
        "Diccionarios"
      ]
    },
    {
      "cell_type": "code",
      "metadata": {
        "id": "--T24fi6d4QL",
        "colab": {
          "base_uri": "https://localhost:8080/"
        },
        "outputId": "473a6f3d-b4eb-4070-ba62-1753b900eac7"
      },
      "source": [
        "dict1 = {'Alberto': 20, 'Fernando': 17, 'Leonardo': 25, 'Katia': 20, 'Liliana': 21, 'Julio': 23}\n",
        "\n",
        "lista = list(dict1.values())\n",
        "lista.sort()\n",
        "\n",
        "print(\"Edades de menor a mayor: \",lista)\n",
        "\n",
        "\n",
        "#Imprimir solamente los nombres\n",
        "print(\"NOMBRES:\")\n",
        "for i in dict1:\n",
        "  print(i)\n",
        "\n",
        "#Agregar a dps personas\n",
        "print(\" \") #Espacio\n",
        "dict1['Jose'] = '30'\n",
        "dict1['Pablo'] = '21'\n",
        "print(\"Nuevo Diccionario: \")\n",
        "dict1"
      ],
      "execution_count": 14,
      "outputs": [
        {
          "output_type": "stream",
          "text": [
            "Edades de menor a mayor:  [17, 20, 20, 21, 23, 25]\n",
            "NOMBRES:\n",
            "Alberto\n",
            "Fernando\n",
            "Leonardo\n",
            "Katia\n",
            "Liliana\n",
            "Julio\n",
            " \n",
            "Nuevo Diccionario: \n"
          ],
          "name": "stdout"
        },
        {
          "output_type": "execute_result",
          "data": {
            "text/plain": [
              "{'Alberto': 20,\n",
              " 'Fernando': 17,\n",
              " 'Jose': '30',\n",
              " 'Julio': 23,\n",
              " 'Katia': 20,\n",
              " 'Leonardo': 25,\n",
              " 'Liliana': 21,\n",
              " 'Pablo': '21'}"
            ]
          },
          "metadata": {},
          "execution_count": 14
        }
      ]
    },
    {
      "cell_type": "markdown",
      "metadata": {
        "id": "tHYnLObVSjTv"
      },
      "source": [
        "Sets"
      ]
    },
    {
      "cell_type": "code",
      "metadata": {
        "id": "UboyqvBMSkBz",
        "colab": {
          "base_uri": "https://localhost:8080/"
        },
        "outputId": "1ffe71e8-ae1c-4f6b-8c27-eec766f11e38"
      },
      "source": [
        "#Crea un set con 100 numeros aleatorios enteros del 1 al 25.\n",
        "import  random\n",
        "set1 = set()\n",
        "for i in range(100): \n",
        "  set1.add(random.randint(1,25))\n",
        "#Imprimir el Set\n",
        "print(\"SET INICIAL: \",set1)\n",
        "\n",
        "\n",
        "#Comprueba la longitud de tu set.\n",
        "print(\"Longitud del set: \",len(set1))\n",
        "\n",
        "\n",
        "#Crea una lista de 5 numeros aleatorios del 1 al 10 y comprueba si cada valor aparece en el set inicial.\n",
        "list1 = [0] * 5\n",
        "for i in range(5): \n",
        "  list1[i] = random.randint(1,10)\n",
        "print(\"LISTA DE NUMEROS: \",list1)\n",
        "\n",
        "\n",
        "for i in range(len(list1)):\n",
        "  if (list1[i] in set1) == True :\n",
        "    print(\"El valor \",list1[i],\" SI aparece en el set\")\n",
        "  else:\n",
        "    print(\"El valor \",list1[i],\" NO aparece en el set\")"
      ],
      "execution_count": 15,
      "outputs": [
        {
          "output_type": "stream",
          "text": [
            "SET INICIAL:  {1, 2, 3, 4, 5, 6, 7, 8, 9, 10, 11, 12, 13, 14, 15, 16, 17, 18, 19, 20, 21, 22, 23, 24, 25}\n",
            "Longitud del set:  25\n",
            "LISTA DE NUMEROS:  [1, 6, 5, 10, 6]\n",
            "El valor  1  SI aparece en el set\n",
            "El valor  6  SI aparece en el set\n",
            "El valor  5  SI aparece en el set\n",
            "El valor  10  SI aparece en el set\n",
            "El valor  6  SI aparece en el set\n"
          ],
          "name": "stdout"
        }
      ]
    }
  ]
}