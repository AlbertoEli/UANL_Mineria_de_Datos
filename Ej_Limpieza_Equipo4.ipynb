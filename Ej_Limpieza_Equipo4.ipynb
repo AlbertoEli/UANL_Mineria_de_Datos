{
  "nbformat": 4,
  "nbformat_minor": 0,
  "metadata": {
    "colab": {
      "name": "Ej_Limpieza_Equipo4.ipynb",
      "provenance": [],
      "collapsed_sections": []
    },
    "kernelspec": {
      "name": "python3",
      "display_name": "Python 3"
    },
    "language_info": {
      "name": "python"
    }
  },
  "cells": [
    {
      "cell_type": "markdown",
      "metadata": {
        "id": "ErNqVNVMwKcC"
      },
      "source": [
        "Equipo 4\n",
        "\n",
        "Número de Grupo: 001, Frecuencia de clase: Lunes\n",
        "\n",
        "\n",
        "Integrantes\n",
        "*   1877283, Cavazos Huerta, Sandra María.\t\t\t\t  \n",
        "*   1869764, Elizondo Villarreal, Alberto.\t\t\t\t\t\t\n",
        "*   1867031, Sánchez Tovar, Arturo Isaac.\t\t\t\t\n",
        "*   1862646, Sepulveda Bermudez, Marlene Michel. \t\t\n",
        "*   1877498, Villarreal Garza, Diana. \n",
        "\n",
        "\n",
        "\n",
        "\n",
        "\n",
        "\n",
        "\n",
        "\n",
        "\n",
        "\n"
      ]
    },
    {
      "cell_type": "markdown",
      "metadata": {
        "id": "JuelOiIjxkIT"
      },
      "source": [
        "1) Título de la Base de Datos\n",
        "\n",
        " Nombre:\n",
        "\n",
        "\n",
        "> Iris Species\n",
        "\n",
        "> URL (https://www.kaggle.com/uciml/iris)\n",
        "\n",
        "\n",
        "\n"
      ]
    },
    {
      "cell_type": "markdown",
      "metadata": {
        "id": "1R401aPTyFAG"
      },
      "source": [
        "2) Técnicas de Limpieza"
      ]
    },
    {
      "cell_type": "markdown",
      "metadata": {
        "id": "pdqizvhEMq8o"
      },
      "source": [
        "\n",
        "> a) Importar Librerías y Base de Datos \n",
        "\n"
      ]
    },
    {
      "cell_type": "code",
      "metadata": {
        "id": "tAfjg3tdMws_"
      },
      "source": [
        "#a) Importar Librerías y Base de Datos\n",
        "import pandas as pd\n",
        "import numpy as np\n",
        "import json\n",
        "\n",
        "df = pd.read_csv(\"Iris.csv\")"
      ],
      "execution_count": null,
      "outputs": []
    },
    {
      "cell_type": "markdown",
      "metadata": {
        "id": "EknuXRMXO9TD"
      },
      "source": [
        "\n",
        "\n",
        "> b) Visualización de Datos\n",
        "\n",
        "\n"
      ]
    },
    {
      "cell_type": "code",
      "metadata": {
        "colab": {
          "base_uri": "https://localhost:8080/",
          "height": 310
        },
        "id": "VLqT0A0uPHQV",
        "outputId": "1a34d5af-c58d-4fb2-914b-f1095ce452d6"
      },
      "source": [
        "print(\"Número de Filas y Columnas: \",df.shape) #Número de Filas y Columnas\n",
        "print(\"Nombres de Columnas: \",df.columns) #Nombre de las Columnas\n",
        "print(\" \")\n",
        "print(\"Primeros 5 datos de la Base de Datos: \")\n",
        "df.head()"
      ],
      "execution_count": null,
      "outputs": [
        {
          "output_type": "stream",
          "text": [
            "Número de Filas y Columnas:  (150, 6)\n",
            "Nombres de Columnas:  Index(['Id', 'SepalLengthCm', 'SepalWidthCm', 'PetalLengthCm', 'PetalWidthCm',\n",
            "       'Species'],\n",
            "      dtype='object')\n",
            " \n",
            "Primeros 5 datos de la Base de Datos: \n"
          ],
          "name": "stdout"
        },
        {
          "output_type": "execute_result",
          "data": {
            "text/html": [
              "<div>\n",
              "<style scoped>\n",
              "    .dataframe tbody tr th:only-of-type {\n",
              "        vertical-align: middle;\n",
              "    }\n",
              "\n",
              "    .dataframe tbody tr th {\n",
              "        vertical-align: top;\n",
              "    }\n",
              "\n",
              "    .dataframe thead th {\n",
              "        text-align: right;\n",
              "    }\n",
              "</style>\n",
              "<table border=\"1\" class=\"dataframe\">\n",
              "  <thead>\n",
              "    <tr style=\"text-align: right;\">\n",
              "      <th></th>\n",
              "      <th>Id</th>\n",
              "      <th>SepalLengthCm</th>\n",
              "      <th>SepalWidthCm</th>\n",
              "      <th>PetalLengthCm</th>\n",
              "      <th>PetalWidthCm</th>\n",
              "      <th>Species</th>\n",
              "    </tr>\n",
              "  </thead>\n",
              "  <tbody>\n",
              "    <tr>\n",
              "      <th>0</th>\n",
              "      <td>1</td>\n",
              "      <td>5.1</td>\n",
              "      <td>3.5</td>\n",
              "      <td>1.4</td>\n",
              "      <td>0.2</td>\n",
              "      <td>Iris-setosa</td>\n",
              "    </tr>\n",
              "    <tr>\n",
              "      <th>1</th>\n",
              "      <td>2</td>\n",
              "      <td>4.9</td>\n",
              "      <td>3.0</td>\n",
              "      <td>1.4</td>\n",
              "      <td>0.2</td>\n",
              "      <td>Iris-setosa</td>\n",
              "    </tr>\n",
              "    <tr>\n",
              "      <th>2</th>\n",
              "      <td>3</td>\n",
              "      <td>4.7</td>\n",
              "      <td>3.2</td>\n",
              "      <td>1.3</td>\n",
              "      <td>0.2</td>\n",
              "      <td>Iris-setosa</td>\n",
              "    </tr>\n",
              "    <tr>\n",
              "      <th>3</th>\n",
              "      <td>4</td>\n",
              "      <td>4.6</td>\n",
              "      <td>3.1</td>\n",
              "      <td>1.5</td>\n",
              "      <td>0.2</td>\n",
              "      <td>Iris-setosa</td>\n",
              "    </tr>\n",
              "    <tr>\n",
              "      <th>4</th>\n",
              "      <td>5</td>\n",
              "      <td>5.0</td>\n",
              "      <td>3.6</td>\n",
              "      <td>1.4</td>\n",
              "      <td>0.2</td>\n",
              "      <td>Iris-setosa</td>\n",
              "    </tr>\n",
              "  </tbody>\n",
              "</table>\n",
              "</div>"
            ],
            "text/plain": [
              "   Id  SepalLengthCm  SepalWidthCm  PetalLengthCm  PetalWidthCm      Species\n",
              "0   1            5.1           3.5            1.4           0.2  Iris-setosa\n",
              "1   2            4.9           3.0            1.4           0.2  Iris-setosa\n",
              "2   3            4.7           3.2            1.3           0.2  Iris-setosa\n",
              "3   4            4.6           3.1            1.5           0.2  Iris-setosa\n",
              "4   5            5.0           3.6            1.4           0.2  Iris-setosa"
            ]
          },
          "metadata": {},
          "execution_count": 2
        }
      ]
    },
    {
      "cell_type": "markdown",
      "metadata": {
        "id": "P2tB9F-uQTI3"
      },
      "source": [
        "\n",
        "\n",
        "> c) Descripción básica de columnas\n",
        "\n"
      ]
    },
    {
      "cell_type": "code",
      "metadata": {
        "colab": {
          "base_uri": "https://localhost:8080/"
        },
        "id": "Uo_Y7s_IQWeM",
        "outputId": "fb1fcaf6-0533-40f0-b672-274e81878580"
      },
      "source": [
        "df.dtypes #Tipo de Dato de Cada Columna"
      ],
      "execution_count": null,
      "outputs": [
        {
          "output_type": "execute_result",
          "data": {
            "text/plain": [
              "Id                 int64\n",
              "SepalLengthCm    float64\n",
              "SepalWidthCm     float64\n",
              "PetalLengthCm    float64\n",
              "PetalWidthCm     float64\n",
              "Species           object\n",
              "dtype: object"
            ]
          },
          "metadata": {},
          "execution_count": 7
        }
      ]
    },
    {
      "cell_type": "markdown",
      "metadata": {
        "id": "lCZg4nafSepB"
      },
      "source": [
        "Mediante las siguientes funciones revisamos si existen celdas vacías dentro de la Base de Datos.\n",
        "\n"
      ]
    },
    {
      "cell_type": "code",
      "metadata": {
        "colab": {
          "base_uri": "https://localhost:8080/"
        },
        "id": "hakpLh3WRvsA",
        "outputId": "96545bec-c678-496a-fde1-bf610dd745f4"
      },
      "source": [
        "#Nos muestra \"False\" si no existen celdas nulas por columna\n",
        "df.isnull().any()"
      ],
      "execution_count": null,
      "outputs": [
        {
          "output_type": "execute_result",
          "data": {
            "text/plain": [
              "Id               False\n",
              "SepalLengthCm    False\n",
              "SepalWidthCm     False\n",
              "PetalLengthCm    False\n",
              "PetalWidthCm     False\n",
              "Species          False\n",
              "dtype: bool"
            ]
          },
          "metadata": {},
          "execution_count": 8
        }
      ]
    },
    {
      "cell_type": "code",
      "metadata": {
        "colab": {
          "base_uri": "https://localhost:8080/"
        },
        "id": "smDeKdSPSRvC",
        "outputId": "2cf51c53-9dc9-461e-8d8c-e1aacc8fab16"
      },
      "source": [
        "#Confirmamos que no hay celdas nulas, con la función de suma de datos nulos por columna\n",
        "df.isnull().sum()"
      ],
      "execution_count": null,
      "outputs": [
        {
          "output_type": "execute_result",
          "data": {
            "text/plain": [
              "Id               0\n",
              "SepalLengthCm    0\n",
              "SepalWidthCm     0\n",
              "PetalLengthCm    0\n",
              "PetalWidthCm     0\n",
              "Species          0\n",
              "dtype: int64"
            ]
          },
          "metadata": {},
          "execution_count": 9
        }
      ]
    },
    {
      "cell_type": "markdown",
      "metadata": {
        "id": "mmHMSm9VTg8Y"
      },
      "source": [
        "\n",
        "> d) Clasificación de Datos \n",
        "\n"
      ]
    },
    {
      "cell_type": "code",
      "metadata": {
        "colab": {
          "base_uri": "https://localhost:8080/"
        },
        "id": "woExbGaUThTd",
        "outputId": "e6a9fa7f-4c74-4c79-d7ce-56f73db82a6d"
      },
      "source": [
        "#Obtenemos los valores únicos de la columna de \"Species\" de la Base de Datos\n",
        "df.Species.unique()"
      ],
      "execution_count": null,
      "outputs": [
        {
          "output_type": "execute_result",
          "data": {
            "text/plain": [
              "array(['Iris-setosa', 'Iris-versicolor', 'Iris-virginica'], dtype=object)"
            ]
          },
          "metadata": {},
          "execution_count": 26
        }
      ]
    },
    {
      "cell_type": "markdown",
      "metadata": {
        "id": "pMJlPkaVU7dF"
      },
      "source": [
        "Una vez obtenidos los valores únicos de la Columna, podemos clasificarlos con los siguientes comandos: "
      ]
    },
    {
      "cell_type": "code",
      "metadata": {
        "id": "o2xT-ULHU6Yu"
      },
      "source": [
        "#Clase de Iris-setosa\n",
        "s1 = df[df['Species']=='Iris-setosa']\n",
        "\n",
        "#Clase de Iris-virginica\n",
        "s2 = df[df['Species']=='Iris-versicolor']\n",
        "\n",
        "#Clase de Iris-versicolor\n",
        "s3 = df[df['Species']=='Iris-virginica']"
      ],
      "execution_count": null,
      "outputs": []
    },
    {
      "cell_type": "markdown",
      "metadata": {
        "id": "PosA4YEGZaQ8"
      },
      "source": [
        "e) Cambiar Nombre de Columnas"
      ]
    },
    {
      "cell_type": "code",
      "metadata": {
        "id": "qQhfm7TeZaoc"
      },
      "source": [
        "df = df.rename(columns = {\n",
        "    'SepalLengthCm':'Longitud_Sepalo_cm',\n",
        "    'SepalWidthCm':'Anchura_Sepalo_cm',\n",
        "    'PetalLengthCm':'Longitud_Petalo_cm',\n",
        "    'PetalWidthCm':'Anchura_Petalo_cm',\n",
        "    'Species':'Especies'\n",
        "    })\n",
        "\n",
        "s1 = s1.rename(columns = {\n",
        "    'SepalLengthCm':'Longitud_Sepalo_cm',\n",
        "    'SepalWidthCm':'Anchura_Sepalo_cm',\n",
        "    'PetalLengthCm':'Longitud_Petalo_cm',\n",
        "    'PetalWidthCm':'Anchura_Petalo_cm',\n",
        "    'Species':'Especies'\n",
        "    })\n",
        "\n",
        "s2 = s2.rename(columns = {\n",
        "    'SepalLengthCm':'Longitud_Sepalo_cm',\n",
        "    'SepalWidthCm':'Anchura_Sepalo_cm',\n",
        "    'PetalLengthCm':'Longitud_Petalo_cm',\n",
        "    'PetalWidthCm':'Anchura_Petalo_cm',\n",
        "    'Species':'Especies'\n",
        "    })\n",
        "\n",
        "s3 = s3.rename(columns = {\n",
        "    'SepalLengthCm':'Longitud_Sepalo_cm',\n",
        "    'SepalWidthCm':'Anchura_Sepalo_cm',\n",
        "    'PetalLengthCm':'Longitud_Petalo_cm',\n",
        "    'PetalWidthCm':'Anchura_Petalo_cm',\n",
        "    'Species':'Especies'\n",
        "    })"
      ],
      "execution_count": null,
      "outputs": []
    },
    {
      "cell_type": "markdown",
      "metadata": {
        "id": "RDgmI29zb59N"
      },
      "source": [
        "En este caso, tenemos que hacer el cambio de nombres de las columnas en el Data Frame principal, al igual que en las clases s1, s2 y s3. \n",
        "Esto es porque se nos pide primero crear las clases y después cambiar los nombres de las columnas. \n",
        "Si primero se cambiaran los nombres de las columnas de \"df\" y después se asignan las clases, no sería necesario la repetición de las líneas de código."
      ]
    },
    {
      "cell_type": "markdown",
      "metadata": {
        "id": "MuA57xQedHlV"
      },
      "source": [
        "f) Agrupación de Datos"
      ]
    },
    {
      "cell_type": "code",
      "metadata": {
        "id": "Ram1cTRPdH-C"
      },
      "source": [
        "#Agrupacion de la Clase de Iris-setosa\n",
        "s1.to_csv('Specie1.csv', index=False)\n",
        "\n",
        "#Agrupacion de la Clase de Iris-versicolor\n",
        "s2.to_csv('Specie2.csv', index=False)\n",
        "\n",
        "#Agrupacion de la Clase de Iris-virginica\n",
        "s3.to_csv('Specie3.csv', index=False)"
      ],
      "execution_count": null,
      "outputs": []
    },
    {
      "cell_type": "markdown",
      "metadata": {
        "id": "Rcg_oh-EeDar"
      },
      "source": [
        "Leemos los primeros 5 elementos de las nuevas agrupaciones para verificar si se hicieron correctamente."
      ]
    },
    {
      "cell_type": "code",
      "metadata": {
        "colab": {
          "base_uri": "https://localhost:8080/",
          "height": 206
        },
        "id": "1gGRHGVleZLO",
        "outputId": "ac96fa5d-48ab-469c-9876-c2130462325d"
      },
      "source": [
        "#Verificación Especie 1\n",
        "S1 = pd.read_csv(\"Specie1.csv\")\n",
        "S1.head()"
      ],
      "execution_count": null,
      "outputs": [
        {
          "output_type": "execute_result",
          "data": {
            "text/html": [
              "<div>\n",
              "<style scoped>\n",
              "    .dataframe tbody tr th:only-of-type {\n",
              "        vertical-align: middle;\n",
              "    }\n",
              "\n",
              "    .dataframe tbody tr th {\n",
              "        vertical-align: top;\n",
              "    }\n",
              "\n",
              "    .dataframe thead th {\n",
              "        text-align: right;\n",
              "    }\n",
              "</style>\n",
              "<table border=\"1\" class=\"dataframe\">\n",
              "  <thead>\n",
              "    <tr style=\"text-align: right;\">\n",
              "      <th></th>\n",
              "      <th>Id</th>\n",
              "      <th>Longitud_Sepalo_cm</th>\n",
              "      <th>Anchura_Sepalo_cm</th>\n",
              "      <th>Longitud_Petalo_cm</th>\n",
              "      <th>Anchura_Petalo_cm</th>\n",
              "      <th>Especies</th>\n",
              "    </tr>\n",
              "  </thead>\n",
              "  <tbody>\n",
              "    <tr>\n",
              "      <th>0</th>\n",
              "      <td>1</td>\n",
              "      <td>5.1</td>\n",
              "      <td>3.5</td>\n",
              "      <td>1.4</td>\n",
              "      <td>0.2</td>\n",
              "      <td>Iris-setosa</td>\n",
              "    </tr>\n",
              "    <tr>\n",
              "      <th>1</th>\n",
              "      <td>2</td>\n",
              "      <td>4.9</td>\n",
              "      <td>3.0</td>\n",
              "      <td>1.4</td>\n",
              "      <td>0.2</td>\n",
              "      <td>Iris-setosa</td>\n",
              "    </tr>\n",
              "    <tr>\n",
              "      <th>2</th>\n",
              "      <td>3</td>\n",
              "      <td>4.7</td>\n",
              "      <td>3.2</td>\n",
              "      <td>1.3</td>\n",
              "      <td>0.2</td>\n",
              "      <td>Iris-setosa</td>\n",
              "    </tr>\n",
              "    <tr>\n",
              "      <th>3</th>\n",
              "      <td>4</td>\n",
              "      <td>4.6</td>\n",
              "      <td>3.1</td>\n",
              "      <td>1.5</td>\n",
              "      <td>0.2</td>\n",
              "      <td>Iris-setosa</td>\n",
              "    </tr>\n",
              "    <tr>\n",
              "      <th>4</th>\n",
              "      <td>5</td>\n",
              "      <td>5.0</td>\n",
              "      <td>3.6</td>\n",
              "      <td>1.4</td>\n",
              "      <td>0.2</td>\n",
              "      <td>Iris-setosa</td>\n",
              "    </tr>\n",
              "  </tbody>\n",
              "</table>\n",
              "</div>"
            ],
            "text/plain": [
              "   Id  Longitud_Sepalo_cm  ...  Anchura_Petalo_cm     Especies\n",
              "0   1                 5.1  ...                0.2  Iris-setosa\n",
              "1   2                 4.9  ...                0.2  Iris-setosa\n",
              "2   3                 4.7  ...                0.2  Iris-setosa\n",
              "3   4                 4.6  ...                0.2  Iris-setosa\n",
              "4   5                 5.0  ...                0.2  Iris-setosa\n",
              "\n",
              "[5 rows x 6 columns]"
            ]
          },
          "metadata": {},
          "execution_count": 6
        }
      ]
    },
    {
      "cell_type": "code",
      "metadata": {
        "colab": {
          "base_uri": "https://localhost:8080/",
          "height": 206
        },
        "id": "CtjS_KthetPL",
        "outputId": "a66c06f5-3aec-4611-d998-7ab992a667b2"
      },
      "source": [
        "#Verificación Especie 2\n",
        "S2 = pd.read_csv(\"Specie2.csv\")\n",
        "S2.head()"
      ],
      "execution_count": null,
      "outputs": [
        {
          "output_type": "execute_result",
          "data": {
            "text/html": [
              "<div>\n",
              "<style scoped>\n",
              "    .dataframe tbody tr th:only-of-type {\n",
              "        vertical-align: middle;\n",
              "    }\n",
              "\n",
              "    .dataframe tbody tr th {\n",
              "        vertical-align: top;\n",
              "    }\n",
              "\n",
              "    .dataframe thead th {\n",
              "        text-align: right;\n",
              "    }\n",
              "</style>\n",
              "<table border=\"1\" class=\"dataframe\">\n",
              "  <thead>\n",
              "    <tr style=\"text-align: right;\">\n",
              "      <th></th>\n",
              "      <th>Id</th>\n",
              "      <th>Longitud_Sepalo_cm</th>\n",
              "      <th>Anchura_Sepalo_cm</th>\n",
              "      <th>Longitud_Petalo_cm</th>\n",
              "      <th>Anchura_Petalo_cm</th>\n",
              "      <th>Especies</th>\n",
              "    </tr>\n",
              "  </thead>\n",
              "  <tbody>\n",
              "    <tr>\n",
              "      <th>0</th>\n",
              "      <td>51</td>\n",
              "      <td>7.0</td>\n",
              "      <td>3.2</td>\n",
              "      <td>4.7</td>\n",
              "      <td>1.4</td>\n",
              "      <td>Iris-versicolor</td>\n",
              "    </tr>\n",
              "    <tr>\n",
              "      <th>1</th>\n",
              "      <td>52</td>\n",
              "      <td>6.4</td>\n",
              "      <td>3.2</td>\n",
              "      <td>4.5</td>\n",
              "      <td>1.5</td>\n",
              "      <td>Iris-versicolor</td>\n",
              "    </tr>\n",
              "    <tr>\n",
              "      <th>2</th>\n",
              "      <td>53</td>\n",
              "      <td>6.9</td>\n",
              "      <td>3.1</td>\n",
              "      <td>4.9</td>\n",
              "      <td>1.5</td>\n",
              "      <td>Iris-versicolor</td>\n",
              "    </tr>\n",
              "    <tr>\n",
              "      <th>3</th>\n",
              "      <td>54</td>\n",
              "      <td>5.5</td>\n",
              "      <td>2.3</td>\n",
              "      <td>4.0</td>\n",
              "      <td>1.3</td>\n",
              "      <td>Iris-versicolor</td>\n",
              "    </tr>\n",
              "    <tr>\n",
              "      <th>4</th>\n",
              "      <td>55</td>\n",
              "      <td>6.5</td>\n",
              "      <td>2.8</td>\n",
              "      <td>4.6</td>\n",
              "      <td>1.5</td>\n",
              "      <td>Iris-versicolor</td>\n",
              "    </tr>\n",
              "  </tbody>\n",
              "</table>\n",
              "</div>"
            ],
            "text/plain": [
              "   Id  Longitud_Sepalo_cm  ...  Anchura_Petalo_cm         Especies\n",
              "0  51                 7.0  ...                1.4  Iris-versicolor\n",
              "1  52                 6.4  ...                1.5  Iris-versicolor\n",
              "2  53                 6.9  ...                1.5  Iris-versicolor\n",
              "3  54                 5.5  ...                1.3  Iris-versicolor\n",
              "4  55                 6.5  ...                1.5  Iris-versicolor\n",
              "\n",
              "[5 rows x 6 columns]"
            ]
          },
          "metadata": {},
          "execution_count": 54
        }
      ]
    },
    {
      "cell_type": "code",
      "metadata": {
        "colab": {
          "base_uri": "https://localhost:8080/",
          "height": 206
        },
        "id": "e7J-63ecetgn",
        "outputId": "e27b456e-016c-4d75-b5f6-63c4c1b02736"
      },
      "source": [
        "#Verificación Especie 3\n",
        "S3 = pd.read_csv(\"Specie3.csv\")\n",
        "S3.head()"
      ],
      "execution_count": null,
      "outputs": [
        {
          "output_type": "execute_result",
          "data": {
            "text/html": [
              "<div>\n",
              "<style scoped>\n",
              "    .dataframe tbody tr th:only-of-type {\n",
              "        vertical-align: middle;\n",
              "    }\n",
              "\n",
              "    .dataframe tbody tr th {\n",
              "        vertical-align: top;\n",
              "    }\n",
              "\n",
              "    .dataframe thead th {\n",
              "        text-align: right;\n",
              "    }\n",
              "</style>\n",
              "<table border=\"1\" class=\"dataframe\">\n",
              "  <thead>\n",
              "    <tr style=\"text-align: right;\">\n",
              "      <th></th>\n",
              "      <th>Id</th>\n",
              "      <th>Longitud_Sepalo_cm</th>\n",
              "      <th>Anchura_Sepalo_cm</th>\n",
              "      <th>Longitud_Petalo_cm</th>\n",
              "      <th>Anchura_Petalo_cm</th>\n",
              "      <th>Especies</th>\n",
              "    </tr>\n",
              "  </thead>\n",
              "  <tbody>\n",
              "    <tr>\n",
              "      <th>0</th>\n",
              "      <td>101</td>\n",
              "      <td>6.3</td>\n",
              "      <td>3.3</td>\n",
              "      <td>6.0</td>\n",
              "      <td>2.5</td>\n",
              "      <td>Iris-virginica</td>\n",
              "    </tr>\n",
              "    <tr>\n",
              "      <th>1</th>\n",
              "      <td>102</td>\n",
              "      <td>5.8</td>\n",
              "      <td>2.7</td>\n",
              "      <td>5.1</td>\n",
              "      <td>1.9</td>\n",
              "      <td>Iris-virginica</td>\n",
              "    </tr>\n",
              "    <tr>\n",
              "      <th>2</th>\n",
              "      <td>103</td>\n",
              "      <td>7.1</td>\n",
              "      <td>3.0</td>\n",
              "      <td>5.9</td>\n",
              "      <td>2.1</td>\n",
              "      <td>Iris-virginica</td>\n",
              "    </tr>\n",
              "    <tr>\n",
              "      <th>3</th>\n",
              "      <td>104</td>\n",
              "      <td>6.3</td>\n",
              "      <td>2.9</td>\n",
              "      <td>5.6</td>\n",
              "      <td>1.8</td>\n",
              "      <td>Iris-virginica</td>\n",
              "    </tr>\n",
              "    <tr>\n",
              "      <th>4</th>\n",
              "      <td>105</td>\n",
              "      <td>6.5</td>\n",
              "      <td>3.0</td>\n",
              "      <td>5.8</td>\n",
              "      <td>2.2</td>\n",
              "      <td>Iris-virginica</td>\n",
              "    </tr>\n",
              "  </tbody>\n",
              "</table>\n",
              "</div>"
            ],
            "text/plain": [
              "    Id  Longitud_Sepalo_cm  ...  Anchura_Petalo_cm        Especies\n",
              "0  101                 6.3  ...                2.5  Iris-virginica\n",
              "1  102                 5.8  ...                1.9  Iris-virginica\n",
              "2  103                 7.1  ...                2.1  Iris-virginica\n",
              "3  104                 6.3  ...                1.8  Iris-virginica\n",
              "4  105                 6.5  ...                2.2  Iris-virginica\n",
              "\n",
              "[5 rows x 6 columns]"
            ]
          },
          "metadata": {},
          "execution_count": 55
        }
      ]
    },
    {
      "cell_type": "markdown",
      "metadata": {
        "id": "bCUI68tZFdV_"
      },
      "source": [
        "## Respondiendo a las Preguntas de Interés"
      ]
    },
    {
      "cell_type": "markdown",
      "metadata": {
        "id": "LjBBxF-_gDd2"
      },
      "source": [
        "\n",
        "\n",
        "*   ¿Para que me puede servir estas agrupaciones para la práctica siguiente?\n",
        "\n",
        "> Esto nos sirve para poder trabajar los datos de la manera más práctica según sus características. Podemos sacar conclusiones para cada tipo de especie.\n",
        "\n",
        "\n",
        "*   Importancia del análisis previo de los datos antes de iniciar las modificaciones.\n",
        "\n",
        "> Para tener presente las propiedades originales (tamaño de muestra, tipo de datos, número de columnas,...), al igual que posibles errores o datos nulos que se puedan presentar.\n",
        "\n",
        "\n",
        "\n"
      ]
    },
    {
      "cell_type": "markdown",
      "metadata": {
        "id": "UJCVa_yDFhAo"
      },
      "source": [
        "## Tareas Extras: (Puntos Extras)"
      ]
    },
    {
      "cell_type": "markdown",
      "metadata": {
        "id": "KmxnMOg7FVEX"
      },
      "source": [
        "\n",
        "\n",
        "### **Investigación**\n",
        "\n",
        "*   ?df.dropna()\n",
        "\n",
        "> Esta función devuelve un data frame filtrado con filas o columnas eliminadas según los parámetros especificados. Con el parámetro \"axis\" se define si se eliminarán las filas (Cuando axis = 0) o las columnas (Cuando axis = 1).\n",
        "\n",
        "> Otro parámetro importante es el \"how\". Con este parámetro podemos determinar si se eliminarán las filas o columnas si se tiene al menos un valor nulo en dicha fila o columna (how = \"any\") o si todos son nulos (how = \"all\").\n",
        "\n",
        "\n",
        "*   ?df.astype\n",
        "\n",
        "> Cambia el tipo de datos de los objetos en la Base de Datos a un tipo de formato especificado.\n",
        "\n",
        "> Se necesita aportar el nuevo formato de la columna de la siguiente manera: df.Nombre_de_Columna = df.Nombre_de_Columna.astype('Tipo_de_Dato')\n",
        "donde el tipo de dato puede ser 'int64', 'float64',..."
      ]
    },
    {
      "cell_type": "markdown",
      "metadata": {
        "id": "XM1-YX8dEOKE"
      },
      "source": [
        " ### **Preprocesamiento**"
      ]
    },
    {
      "cell_type": "markdown",
      "metadata": {
        "id": "ViMLEdxVGWVP"
      },
      "source": [
        "Iniciamos el preprocesamiento haciendo una copia de seguridad de la Data Frame, antes de trabajar en ella."
      ]
    },
    {
      "cell_type": "code",
      "metadata": {
        "id": "8r-tlVNSDSHC"
      },
      "source": [
        "#Copia de la Data Frame\n",
        "df_c = df.copy()"
      ],
      "execution_count": null,
      "outputs": []
    },
    {
      "cell_type": "markdown",
      "metadata": {
        "id": "6htwg0ORFn_y"
      },
      "source": [
        "En el siguiente bloque de código nos interesa saber aquellos registros que se encuentran sobre la media de la Anchura del Sépalo."
      ]
    },
    {
      "cell_type": "code",
      "metadata": {
        "colab": {
          "base_uri": "https://localhost:8080/",
          "height": 441
        },
        "id": "Wu2T1z3NBV9A",
        "outputId": "bdb9b719-c265-4fab-db07-2ab73a3a6169"
      },
      "source": [
        "##Datos sobre el promedio de la Anchura de Sépalo\n",
        "prom_as = df['Anchura_Sepalo_cm'].mean()\n",
        "print(\"Promedio de la Anchura del Sépalo: \",round(prom_as, ndigits =  4))\n",
        "df[df.Anchura_Sepalo_cm > prom_as]"
      ],
      "execution_count": null,
      "outputs": [
        {
          "output_type": "stream",
          "text": [
            "Promedio de la Anchura del Sépalo:  3.054\n"
          ],
          "name": "stdout"
        },
        {
          "output_type": "execute_result",
          "data": {
            "text/html": [
              "<div>\n",
              "<style scoped>\n",
              "    .dataframe tbody tr th:only-of-type {\n",
              "        vertical-align: middle;\n",
              "    }\n",
              "\n",
              "    .dataframe tbody tr th {\n",
              "        vertical-align: top;\n",
              "    }\n",
              "\n",
              "    .dataframe thead th {\n",
              "        text-align: right;\n",
              "    }\n",
              "</style>\n",
              "<table border=\"1\" class=\"dataframe\">\n",
              "  <thead>\n",
              "    <tr style=\"text-align: right;\">\n",
              "      <th></th>\n",
              "      <th>Id</th>\n",
              "      <th>Longitud_Sepalo_cm</th>\n",
              "      <th>Anchura_Sepalo_cm</th>\n",
              "      <th>Longitud_Petalo_cm</th>\n",
              "      <th>Anchura_Petalo_cm</th>\n",
              "      <th>Especies</th>\n",
              "    </tr>\n",
              "  </thead>\n",
              "  <tbody>\n",
              "    <tr>\n",
              "      <th>0</th>\n",
              "      <td>1</td>\n",
              "      <td>5.1</td>\n",
              "      <td>3.5</td>\n",
              "      <td>1.4</td>\n",
              "      <td>0.2</td>\n",
              "      <td>Iris-setosa</td>\n",
              "    </tr>\n",
              "    <tr>\n",
              "      <th>2</th>\n",
              "      <td>3</td>\n",
              "      <td>4.7</td>\n",
              "      <td>3.2</td>\n",
              "      <td>1.3</td>\n",
              "      <td>0.2</td>\n",
              "      <td>Iris-setosa</td>\n",
              "    </tr>\n",
              "    <tr>\n",
              "      <th>3</th>\n",
              "      <td>4</td>\n",
              "      <td>4.6</td>\n",
              "      <td>3.1</td>\n",
              "      <td>1.5</td>\n",
              "      <td>0.2</td>\n",
              "      <td>Iris-setosa</td>\n",
              "    </tr>\n",
              "    <tr>\n",
              "      <th>4</th>\n",
              "      <td>5</td>\n",
              "      <td>5.0</td>\n",
              "      <td>3.6</td>\n",
              "      <td>1.4</td>\n",
              "      <td>0.2</td>\n",
              "      <td>Iris-setosa</td>\n",
              "    </tr>\n",
              "    <tr>\n",
              "      <th>5</th>\n",
              "      <td>6</td>\n",
              "      <td>5.4</td>\n",
              "      <td>3.9</td>\n",
              "      <td>1.7</td>\n",
              "      <td>0.4</td>\n",
              "      <td>Iris-setosa</td>\n",
              "    </tr>\n",
              "    <tr>\n",
              "      <th>...</th>\n",
              "      <td>...</td>\n",
              "      <td>...</td>\n",
              "      <td>...</td>\n",
              "      <td>...</td>\n",
              "      <td>...</td>\n",
              "      <td>...</td>\n",
              "    </tr>\n",
              "    <tr>\n",
              "      <th>140</th>\n",
              "      <td>141</td>\n",
              "      <td>6.7</td>\n",
              "      <td>3.1</td>\n",
              "      <td>5.6</td>\n",
              "      <td>2.4</td>\n",
              "      <td>Iris-virginica</td>\n",
              "    </tr>\n",
              "    <tr>\n",
              "      <th>141</th>\n",
              "      <td>142</td>\n",
              "      <td>6.9</td>\n",
              "      <td>3.1</td>\n",
              "      <td>5.1</td>\n",
              "      <td>2.3</td>\n",
              "      <td>Iris-virginica</td>\n",
              "    </tr>\n",
              "    <tr>\n",
              "      <th>143</th>\n",
              "      <td>144</td>\n",
              "      <td>6.8</td>\n",
              "      <td>3.2</td>\n",
              "      <td>5.9</td>\n",
              "      <td>2.3</td>\n",
              "      <td>Iris-virginica</td>\n",
              "    </tr>\n",
              "    <tr>\n",
              "      <th>144</th>\n",
              "      <td>145</td>\n",
              "      <td>6.7</td>\n",
              "      <td>3.3</td>\n",
              "      <td>5.7</td>\n",
              "      <td>2.5</td>\n",
              "      <td>Iris-virginica</td>\n",
              "    </tr>\n",
              "    <tr>\n",
              "      <th>148</th>\n",
              "      <td>149</td>\n",
              "      <td>6.2</td>\n",
              "      <td>3.4</td>\n",
              "      <td>5.4</td>\n",
              "      <td>2.3</td>\n",
              "      <td>Iris-virginica</td>\n",
              "    </tr>\n",
              "  </tbody>\n",
              "</table>\n",
              "<p>67 rows × 6 columns</p>\n",
              "</div>"
            ],
            "text/plain": [
              "      Id  Longitud_Sepalo_cm  ...  Anchura_Petalo_cm        Especies\n",
              "0      1                 5.1  ...                0.2     Iris-setosa\n",
              "2      3                 4.7  ...                0.2     Iris-setosa\n",
              "3      4                 4.6  ...                0.2     Iris-setosa\n",
              "4      5                 5.0  ...                0.2     Iris-setosa\n",
              "5      6                 5.4  ...                0.4     Iris-setosa\n",
              "..   ...                 ...  ...                ...             ...\n",
              "140  141                 6.7  ...                2.4  Iris-virginica\n",
              "141  142                 6.9  ...                2.3  Iris-virginica\n",
              "143  144                 6.8  ...                2.3  Iris-virginica\n",
              "144  145                 6.7  ...                2.5  Iris-virginica\n",
              "148  149                 6.2  ...                2.3  Iris-virginica\n",
              "\n",
              "[67 rows x 6 columns]"
            ]
          },
          "metadata": {},
          "execution_count": 26
        }
      ]
    },
    {
      "cell_type": "markdown",
      "metadata": {
        "id": "py02pUs1GfAL"
      },
      "source": [
        "Para finalizar, mostramos un resumen de la estadística descriptiva del Data Frame."
      ]
    },
    {
      "cell_type": "code",
      "metadata": {
        "colab": {
          "base_uri": "https://localhost:8080/",
          "height": 300
        },
        "id": "TLd8JDqaDj1K",
        "outputId": "57aa23be-0a09-47a7-e381-2a19f5321850"
      },
      "source": [
        "#Presentamos una descripción de los datos de la Data frame\n",
        "df_summary = df.describe()\n",
        "df_summary.drop('Id',axis = 1)"
      ],
      "execution_count": null,
      "outputs": [
        {
          "output_type": "execute_result",
          "data": {
            "text/html": [
              "<div>\n",
              "<style scoped>\n",
              "    .dataframe tbody tr th:only-of-type {\n",
              "        vertical-align: middle;\n",
              "    }\n",
              "\n",
              "    .dataframe tbody tr th {\n",
              "        vertical-align: top;\n",
              "    }\n",
              "\n",
              "    .dataframe thead th {\n",
              "        text-align: right;\n",
              "    }\n",
              "</style>\n",
              "<table border=\"1\" class=\"dataframe\">\n",
              "  <thead>\n",
              "    <tr style=\"text-align: right;\">\n",
              "      <th></th>\n",
              "      <th>Longitud_Sepalo_cm</th>\n",
              "      <th>Anchura_Sepalo_cm</th>\n",
              "      <th>Longitud_Petalo_cm</th>\n",
              "      <th>Anchura_Petalo_cm</th>\n",
              "    </tr>\n",
              "  </thead>\n",
              "  <tbody>\n",
              "    <tr>\n",
              "      <th>count</th>\n",
              "      <td>150.000000</td>\n",
              "      <td>150.000000</td>\n",
              "      <td>150.000000</td>\n",
              "      <td>150.000000</td>\n",
              "    </tr>\n",
              "    <tr>\n",
              "      <th>mean</th>\n",
              "      <td>5.843333</td>\n",
              "      <td>3.054000</td>\n",
              "      <td>3.758667</td>\n",
              "      <td>1.198667</td>\n",
              "    </tr>\n",
              "    <tr>\n",
              "      <th>std</th>\n",
              "      <td>0.828066</td>\n",
              "      <td>0.433594</td>\n",
              "      <td>1.764420</td>\n",
              "      <td>0.763161</td>\n",
              "    </tr>\n",
              "    <tr>\n",
              "      <th>min</th>\n",
              "      <td>4.300000</td>\n",
              "      <td>2.000000</td>\n",
              "      <td>1.000000</td>\n",
              "      <td>0.100000</td>\n",
              "    </tr>\n",
              "    <tr>\n",
              "      <th>25%</th>\n",
              "      <td>5.100000</td>\n",
              "      <td>2.800000</td>\n",
              "      <td>1.600000</td>\n",
              "      <td>0.300000</td>\n",
              "    </tr>\n",
              "    <tr>\n",
              "      <th>50%</th>\n",
              "      <td>5.800000</td>\n",
              "      <td>3.000000</td>\n",
              "      <td>4.350000</td>\n",
              "      <td>1.300000</td>\n",
              "    </tr>\n",
              "    <tr>\n",
              "      <th>75%</th>\n",
              "      <td>6.400000</td>\n",
              "      <td>3.300000</td>\n",
              "      <td>5.100000</td>\n",
              "      <td>1.800000</td>\n",
              "    </tr>\n",
              "    <tr>\n",
              "      <th>max</th>\n",
              "      <td>7.900000</td>\n",
              "      <td>4.400000</td>\n",
              "      <td>6.900000</td>\n",
              "      <td>2.500000</td>\n",
              "    </tr>\n",
              "  </tbody>\n",
              "</table>\n",
              "</div>"
            ],
            "text/plain": [
              "       Longitud_Sepalo_cm  ...  Anchura_Petalo_cm\n",
              "count          150.000000  ...         150.000000\n",
              "mean             5.843333  ...           1.198667\n",
              "std              0.828066  ...           0.763161\n",
              "min              4.300000  ...           0.100000\n",
              "25%              5.100000  ...           0.300000\n",
              "50%              5.800000  ...           1.300000\n",
              "75%              6.400000  ...           1.800000\n",
              "max              7.900000  ...           2.500000\n",
              "\n",
              "[8 rows x 4 columns]"
            ]
          },
          "metadata": {},
          "execution_count": 22
        }
      ]
    }
  ]
}